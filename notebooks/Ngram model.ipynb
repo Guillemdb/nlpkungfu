{
 "cells": [
  {
   "cell_type": "code",
   "execution_count": 2,
   "metadata": {},
   "outputs": [],
   "source": [
    "from nltk.corpus import brown\n",
    "data = []\n",
    "for fileid in brown.fileids():\n",
    "    document = ' '.join(brown.words(fileid))\n",
    "    data.append(document)"
   ]
  },
  {
   "cell_type": "code",
   "execution_count": 3,
   "metadata": {},
   "outputs": [
    {
     "data": {
      "text/plain": [
       "\"The Fulton County Grand Jury said Friday an investigation of Atlanta's recent primary election produced `` no evidence '' that any irregularities took place . The jury further said in term-end presentments that the City Executive Committee , which had over-all charge of the election , `` deserves the praise and thanks of the City of Atlanta '' for the manner in which the election was conducted . The September-October term jury had been charged by Fulton Superior Court Judge Durwood Pye to investigate reports of possible `` irregularities '' in the hard-fought primary which was won by Mayor-nominate Ivan Allen Jr. . `` Only a relative handful of such reports was received '' , the jury said , `` considering the widespread interest in the election , the number of voters and the size of this city '' . The jury said it did find that many of Georgia's registration and election laws `` are outmoded or inadequate and often ambiguous '' . It recommended that Fulton legislators act `` to have th\""
      ]
     },
     "execution_count": 3,
     "metadata": {},
     "output_type": "execute_result"
    }
   ],
   "source": [
    "data[0][:1000]"
   ]
  },
  {
   "cell_type": "code",
   "execution_count": 1,
   "metadata": {},
   "outputs": [],
   "source": [
    "from nlpkf.models.ngram import NgramModel\n",
    "tok_kwargs = dict(remove_stopwords=False, use_stems=False, \n",
    "                  to_lowercase=True, use_lemma=False,\n",
    "                  remove_punctuation=True, normalize_strings=True,\n",
    "                  filter_pos=False, remove_num=True)\n",
    "ngram = NgramModel(context_size=3, embedding_dim=64, tokenizer_kwargs=tok_kwargs)"
   ]
  },
  {
   "cell_type": "code",
   "execution_count": 4,
   "metadata": {},
   "outputs": [
    {
     "data": {
      "text/plain": [
       "'the fulton county grand jury said friday an investigation of atlanta s recent primary election produced no evidence that any irregularities took place the jury further said in term end presentments that the city executive committee which had over all charge of the election deserves the praise and thanks of the city of atlanta for the manner in which the election was conducted the september october term jury had been charged by fulton superior court judge durwood pye to investigate reports of possible irregularities in the hard fought primary which was won by mayor nominate ivan allen jr only a relative handful of such reports was received the jury said considering the widespread interest in the election the number of voters and the size of this city the jury said it did find that many of georgia s registration and election laws are outmoded or inadequate and often ambiguous it recommended that fulton legislators act to have th'"
      ]
     },
     "execution_count": 4,
     "metadata": {},
     "output_type": "execute_result"
    }
   ],
   "source": [
    "ngram.dataproc.clean_text(data[0][:1000])"
   ]
  },
  {
   "cell_type": "code",
   "execution_count": 8,
   "metadata": {
    "scrolled": true
   },
   "outputs": [
    {
     "name": "stdout",
     "output_type": "stream",
     "text": [
      "Building vocabulary.\n"
     ]
    },
    {
     "name": "stderr",
     "output_type": "stream",
     "text": [
      "\r",
      "  0%|          | 0/10 [00:00<?, ?it/s]"
     ]
    },
    {
     "name": "stdout",
     "output_type": "stream",
     "text": [
      "Preprocessing Dataset.\n",
      "Training.\n"
     ]
    },
    {
     "name": "stderr",
     "output_type": "stream",
     "text": [
      "100%|██████████| 10/10 [00:01<00:00,  7.74it/s]\n"
     ]
    },
    {
     "data": {
      "text/plain": [
       "(array([[88, 31, 18],\n",
       "        [31, 18, 34],\n",
       "        [18, 34, 49],\n",
       "        [34, 49, 79],\n",
       "        [49, 79, 30],\n",
       "        [79, 30,  5],\n",
       "        [30,  5, 43],\n",
       "        [ 5, 43, 59],\n",
       "        [43, 59,  9],\n",
       "        [59,  9, 78],\n",
       "        [ 9, 78, 73],\n",
       "        [78, 73, 69],\n",
       "        [73, 69, 23],\n",
       "        [69, 23, 70],\n",
       "        [23, 70, 55],\n",
       "        [70, 55, 25],\n",
       "        [55, 25, 87],\n",
       "        [25, 87,  7],\n",
       "        [87,  7, 44],\n",
       "        [ 7, 44, 91],\n",
       "        [44, 91, 65],\n",
       "        [91, 65, 88],\n",
       "        [65, 88, 49],\n",
       "        [88, 49, 32],\n",
       "        [49, 32, 79],\n",
       "        [32, 79, 39],\n",
       "        [79, 39, 84],\n",
       "        [39, 84, 24],\n",
       "        [84, 24, 68],\n",
       "        [24, 68, 87],\n",
       "        [68, 87, 88],\n",
       "        [87, 88, 14],\n",
       "        [88, 14, 26],\n",
       "        [14, 26, 15],\n",
       "        [26, 15, 94],\n",
       "        [15, 94, 35],\n",
       "        [94, 35, 64],\n",
       "        [35, 64,  2],\n",
       "        [64,  2, 12],\n",
       "        [ 2, 12, 59],\n",
       "        [12, 59, 88],\n",
       "        [59, 88, 23],\n",
       "        [88, 23, 20],\n",
       "        [23, 20, 88],\n",
       "        [20, 88, 67],\n",
       "        [88, 67,  6],\n",
       "        [67,  6, 86],\n",
       "        [ 6, 86, 59],\n",
       "        [86, 59, 88],\n",
       "        [59, 88, 14],\n",
       "        [88, 14, 59],\n",
       "        [14, 59,  9],\n",
       "        [59,  9, 28],\n",
       "        [ 9, 28, 88],\n",
       "        [28, 88, 52],\n",
       "        [88, 52, 39],\n",
       "        [52, 39, 94],\n",
       "        [39, 94, 88],\n",
       "        [94, 88, 23],\n",
       "        [88, 23, 93],\n",
       "        [23, 93, 16],\n",
       "        [93, 16, 88],\n",
       "        [16, 88, 80],\n",
       "        [88, 80, 58],\n",
       "        [80, 58, 84],\n",
       "        [58, 84, 49],\n",
       "        [84, 49, 35],\n",
       "        [49, 35, 10],\n",
       "        [35, 10, 13],\n",
       "        [10, 13, 11],\n",
       "        [13, 11, 31],\n",
       "        [11, 31, 83],\n",
       "        [31, 83, 19],\n",
       "        [83, 19, 48],\n",
       "        [19, 48, 22],\n",
       "        [48, 22, 71],\n",
       "        [22, 71, 90],\n",
       "        [71, 90, 42],\n",
       "        [90, 42, 77],\n",
       "        [42, 77, 59],\n",
       "        [77, 59, 66],\n",
       "        [59, 66, 44],\n",
       "        [66, 44, 39],\n",
       "        [44, 39, 88],\n",
       "        [39, 88, 37],\n",
       "        [88, 37, 29],\n",
       "        [37, 29, 69],\n",
       "        [29, 69, 94],\n",
       "        [69, 94, 93],\n",
       "        [94, 93, 96],\n",
       "        [93, 96, 11],\n",
       "        [96, 11, 54],\n",
       "        [11, 54, 56],\n",
       "        [54, 56, 46],\n",
       "        [56, 46,  3],\n",
       "        [46,  3, 47],\n",
       "        [ 3, 47, 61],\n",
       "        [47, 61,  0],\n",
       "        [61,  0, 76],\n",
       "        [ 0, 76, 36],\n",
       "        [76, 36, 59],\n",
       "        [36, 59, 82],\n",
       "        [59, 82, 77],\n",
       "        [82, 77, 93],\n",
       "        [77, 93, 72],\n",
       "        [93, 72, 88],\n",
       "        [72, 88, 49],\n",
       "        [88, 49, 79],\n",
       "        [49, 79, 17],\n",
       "        [79, 17, 88],\n",
       "        [17, 88, 95],\n",
       "        [88, 95, 41],\n",
       "        [95, 41, 39],\n",
       "        [41, 39, 88],\n",
       "        [39, 88, 23],\n",
       "        [88, 23, 88],\n",
       "        [23, 88, 57],\n",
       "        [88, 57, 59],\n",
       "        [57, 59, 92],\n",
       "        [59, 92,  6],\n",
       "        [92,  6, 88],\n",
       "        [ 6, 88, 81],\n",
       "        [88, 81, 59],\n",
       "        [81, 59, 89],\n",
       "        [59, 89, 14],\n",
       "        [89, 14, 88],\n",
       "        [14, 88, 49],\n",
       "        [88, 49, 79],\n",
       "        [49, 79, 45],\n",
       "        [79, 45, 21],\n",
       "        [45, 21, 27],\n",
       "        [21, 27, 87],\n",
       "        [27, 87, 53],\n",
       "        [87, 53, 59],\n",
       "        [53, 59, 33],\n",
       "        [59, 33, 78],\n",
       "        [33, 78, 75],\n",
       "        [78, 75,  6],\n",
       "        [75,  6, 23],\n",
       "        [ 6, 23, 50],\n",
       "        [23, 50,  8],\n",
       "        [50,  8, 63],\n",
       "        [ 8, 63, 62],\n",
       "        [63, 62, 40],\n",
       "        [62, 40,  6],\n",
       "        [40,  6, 60],\n",
       "        [ 6, 60,  4],\n",
       "        [60,  4, 45],\n",
       "        [ 4, 45, 74],\n",
       "        [45, 74, 87],\n",
       "        [74, 87, 31],\n",
       "        [87, 31, 51],\n",
       "        [31, 51,  1],\n",
       "        [51,  1, 90],\n",
       "        [ 1, 90, 38]]),\n",
       " array([34, 49, 79, 30,  5, 43, 59,  9, 78, 73, 69, 23, 70, 55, 25, 87,  7,\n",
       "        44, 91, 65, 88, 49, 32, 79, 39, 84, 24, 68, 87, 88, 14, 26, 15, 94,\n",
       "        35, 64,  2, 12, 59, 88, 23, 20, 88, 67,  6, 86, 59, 88, 14, 59,  9,\n",
       "        28, 88, 52, 39, 94, 88, 23, 93, 16, 88, 80, 58, 84, 49, 35, 10, 13,\n",
       "        11, 31, 83, 19, 48, 22, 71, 90, 42, 77, 59, 66, 44, 39, 88, 37, 29,\n",
       "        69, 94, 93, 96, 11, 54, 56, 46,  3, 47, 61,  0, 76, 36, 59, 82, 77,\n",
       "        93, 72, 88, 49, 79, 17, 88, 95, 41, 39, 88, 23, 88, 57, 59, 92,  6,\n",
       "        88, 81, 59, 89, 14, 88, 49, 79, 45, 21, 27, 87, 53, 59, 33, 78, 75,\n",
       "         6, 23, 50,  8, 63, 62, 40,  6, 60,  4, 45, 74, 87, 31, 51,  1, 90,\n",
       "        38, 85]),\n",
       " [706.4685673713684,\n",
       "  702.6683449745178,\n",
       "  698.9248423576355,\n",
       "  695.1068811416626,\n",
       "  691.1919341087341,\n",
       "  687.0274579524994,\n",
       "  682.5580499172211,\n",
       "  677.7533340454102,\n",
       "  672.5989158153534,\n",
       "  667.1591701507568])"
      ]
     },
     "execution_count": 8,
     "metadata": {},
     "output_type": "execute_result"
    }
   ],
   "source": [
    "ngram.fit([data[0][:1000]])"
   ]
  },
  {
   "cell_type": "code",
   "execution_count": 10,
   "metadata": {},
   "outputs": [
    {
     "data": {
      "text/plain": [
       "([88], [88])"
      ]
     },
     "execution_count": 10,
     "metadata": {},
     "output_type": "execute_result"
    }
   ],
   "source": []
  },
  {
   "cell_type": "code",
   "execution_count": 11,
   "metadata": {},
   "outputs": [],
   "source": [
    "def evaluate_pred(preds, data, text, ngram):\n",
    "    preds = ngram.array_to_words(preds)\n",
    "    data =  ngram.array_to_words(data)\n",
    "    text = \"{}\\n\".format(text)\n",
    "    for d, p in zip(data, preds):\n",
    "        text += \"in: {} | {}\\n\".format(\" \".join(d), p)\n",
    "    print(text)"
   ]
  },
  {
   "cell_type": "code",
   "execution_count": 16,
   "metadata": {},
   "outputs": [
    {
     "name": "stdout",
     "output_type": "stream",
     "text": [
      "county grand jury\n",
      "in: t h e | the\n",
      "\n"
     ]
    }
   ],
   "source": [
    "text = \"county grand jury\"\n",
    "preds, data = ngram.predict(text)\n",
    "evaluate_pred(preds, data, text, ngram)"
   ]
  },
  {
   "cell_type": "code",
   "execution_count": null,
   "metadata": {},
   "outputs": [],
   "source": []
  }
 ],
 "metadata": {
  "kernelspec": {
   "display_name": "Python 3",
   "language": "python",
   "name": "python3"
  },
  "language_info": {
   "codemirror_mode": {
    "name": "ipython",
    "version": 3
   },
   "file_extension": ".py",
   "mimetype": "text/x-python",
   "name": "python",
   "nbconvert_exporter": "python",
   "pygments_lexer": "ipython3",
   "version": "3.6.7"
  }
 },
 "nbformat": 4,
 "nbformat_minor": 2
}
