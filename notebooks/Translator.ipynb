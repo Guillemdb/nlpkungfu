{
 "cells": [
  {
   "cell_type": "code",
   "execution_count": 2,
   "metadata": {},
   "outputs": [],
   "source": [
    "from nlpkf.models.seq2seq import preprocess_catalan, Translator\n",
    "all_english, all_catalan = preprocess_catalan(\"cat.txt\")"
   ]
  },
  {
   "cell_type": "code",
   "execution_count": 3,
   "metadata": {},
   "outputs": [],
   "source": [
    "eng_prefixes = (\n",
    "    \"i am \", \"i m \",\n",
    "    \"he is\", \"he s \",\n",
    "    \"she is\", \"she s \",\n",
    "    \"you are\", \"you re \",\n",
    "    \"we are\", \"we re \",\n",
    "    \"they are\", \"they re \"\n",
    ")\n",
    "def filter_prefixes(lang_1, lang_2, prefixes):\n",
    "    filtered_1 = []\n",
    "    filtered_2 = []\n",
    "    for sent_1, sent_2 in zip(lang_1, lang_2): \n",
    "        if sent_1[5:].strip().lower().startswith(prefixes):\n",
    "            filtered_1.append(sent_1)\n",
    "            filtered_2.append(sent_2)\n",
    "    return filtered_1, filtered_2\n",
    "english, catalan = filter_prefixes(all_english, all_catalan, eng_prefixes)"
   ]
  },
  {
   "cell_type": "code",
   "execution_count": 5,
   "metadata": {},
   "outputs": [],
   "source": [
    "tok_kwargs = dict(remove_stopwords=False, use_stems=False, \n",
    "                  to_lowercase=False, use_lemma=False,\n",
    "                  remove_punctuation=True, normalize_strings=True)"
   ]
  },
  {
   "cell_type": "code",
   "execution_count": 18,
   "metadata": {},
   "outputs": [],
   "source": [
    "trans = Translator(hidden_size=16, embedding_size=32,\n",
    "                   tokenizer_kwargs=tok_kwargs,\n",
    "                   pretrained=False)"
   ]
  },
  {
   "cell_type": "code",
   "execution_count": 9,
   "metadata": {},
   "outputs": [
    {
     "name": "stdout",
     "output_type": "stream",
     "text": [
      "Building vocabulary.\n",
      "Converting to tensors.\n",
      "Initializing model and optimizers.\n",
      "CPU times: user 3.68 s, sys: 3.84 s, total: 7.52 s\n",
      "Wall time: 3.29 s\n"
     ]
    }
   ],
   "source": [
    "%%time\n",
    "x_corpus, y_corpus = trans.fit(english, catalan)"
   ]
  },
  {
   "cell_type": "code",
   "execution_count": 11,
   "metadata": {
    "scrolled": true
   },
   "outputs": [
    {
     "name": "stderr",
     "output_type": "stream",
     "text": [
      "100%|██████████| 15/15 [00:00<00:00, 79.11it/s]\n",
      "100%|██████████| 15/15 [00:00<00:00, 83.84it/s]\n",
      "100%|██████████| 15/15 [00:00<00:00, 80.48it/s]\n",
      "100%|██████████| 15/15 [00:00<00:00, 84.96it/s]\n",
      "100%|██████████| 15/15 [00:00<00:00, 80.98it/s]\n",
      "100%|██████████| 15/15 [00:00<00:00, 79.82it/s]\n",
      "100%|██████████| 15/15 [00:00<00:00, 72.41it/s]\n",
      "100%|██████████| 15/15 [00:00<00:00, 82.81it/s]\n",
      "100%|██████████| 15/15 [00:00<00:00, 74.95it/s]\n",
      "100%|██████████| 15/15 [00:00<00:00, 74.12it/s]\n",
      "100%|██████████| 15/15 [00:00<00:00, 76.01it/s]\n",
      "  0%|          | 0/15 [00:00<?, ?it/s]"
     ]
    },
    {
     "name": "stdout",
     "output_type": "stream",
     "text": [
      "Elapsed 0m 1s - left 0m 17s epoch: 10  complete: 10% loss: 16.7366\n"
     ]
    },
    {
     "name": "stderr",
     "output_type": "stream",
     "text": [
      "100%|██████████| 15/15 [00:00<00:00, 81.24it/s]\n",
      "100%|██████████| 15/15 [00:00<00:00, 81.37it/s]\n",
      "100%|██████████| 15/15 [00:00<00:00, 81.07it/s]\n",
      "100%|██████████| 15/15 [00:00<00:00, 82.82it/s]\n",
      "100%|██████████| 15/15 [00:00<00:00, 80.02it/s]\n",
      "100%|██████████| 15/15 [00:00<00:00, 85.48it/s]\n",
      "100%|██████████| 15/15 [00:00<00:00, 78.97it/s]\n",
      "100%|██████████| 15/15 [00:00<00:00, 81.55it/s]\n",
      "100%|██████████| 15/15 [00:00<00:00, 78.63it/s]\n",
      " 60%|██████    | 9/15 [00:00<00:00, 89.02it/s]"
     ]
    },
    {
     "name": "stdout",
     "output_type": "stream",
     "text": [
      "Elapsed 0m 3s - left 0m 15s epoch: 20  complete: 20% loss: 16.0506\n"
     ]
    },
    {
     "name": "stderr",
     "output_type": "stream",
     "text": [
      "100%|██████████| 15/15 [00:00<00:00, 75.05it/s]\n",
      "100%|██████████| 15/15 [00:00<00:00, 74.69it/s]\n",
      "100%|██████████| 15/15 [00:00<00:00, 82.06it/s]\n",
      "100%|██████████| 15/15 [00:00<00:00, 78.76it/s]\n",
      "100%|██████████| 15/15 [00:00<00:00, 79.53it/s]\n",
      "100%|██████████| 15/15 [00:00<00:00, 81.58it/s]\n",
      "100%|██████████| 15/15 [00:00<00:00, 77.35it/s]\n",
      "100%|██████████| 15/15 [00:00<00:00, 80.06it/s]\n",
      "100%|██████████| 15/15 [00:00<00:00, 74.49it/s]\n",
      "100%|██████████| 15/15 [00:00<00:00, 74.31it/s]\n",
      "100%|██████████| 15/15 [00:00<00:00, 75.53it/s]\n",
      "  0%|          | 0/15 [00:00<?, ?it/s]"
     ]
    },
    {
     "name": "stdout",
     "output_type": "stream",
     "text": [
      "Elapsed 0m 5s - left 0m 13s epoch: 30  complete: 30% loss: 15.7680\n"
     ]
    },
    {
     "name": "stderr",
     "output_type": "stream",
     "text": [
      "100%|██████████| 15/15 [00:00<00:00, 75.98it/s]\n",
      "100%|██████████| 15/15 [00:00<00:00, 77.81it/s]\n",
      "100%|██████████| 15/15 [00:00<00:00, 82.05it/s]\n",
      "100%|██████████| 15/15 [00:00<00:00, 83.66it/s]\n",
      "100%|██████████| 15/15 [00:00<00:00, 88.24it/s]\n",
      "100%|██████████| 15/15 [00:00<00:00, 79.75it/s]\n",
      "100%|██████████| 15/15 [00:00<00:00, 78.85it/s]\n",
      "100%|██████████| 15/15 [00:00<00:00, 77.88it/s]\n",
      "100%|██████████| 15/15 [00:00<00:00, 80.62it/s]\n",
      "100%|██████████| 15/15 [00:00<00:00, 82.36it/s]\n",
      "  0%|          | 0/15 [00:00<?, ?it/s]"
     ]
    },
    {
     "name": "stdout",
     "output_type": "stream",
     "text": [
      "Elapsed 0m 7s - left 0m 11s epoch: 40  complete: 40% loss: 15.1755\n"
     ]
    },
    {
     "name": "stderr",
     "output_type": "stream",
     "text": [
      "100%|██████████| 15/15 [00:00<00:00, 76.85it/s]\n",
      "100%|██████████| 15/15 [00:00<00:00, 84.81it/s]\n",
      "100%|██████████| 15/15 [00:00<00:00, 89.00it/s]\n",
      "100%|██████████| 15/15 [00:00<00:00, 80.06it/s]\n",
      "100%|██████████| 15/15 [00:00<00:00, 86.21it/s]\n",
      "100%|██████████| 15/15 [00:00<00:00, 85.13it/s]\n",
      "100%|██████████| 15/15 [00:00<00:00, 89.31it/s]\n",
      "100%|██████████| 15/15 [00:00<00:00, 84.80it/s]\n",
      "100%|██████████| 15/15 [00:00<00:00, 86.33it/s]\n",
      "100%|██████████| 15/15 [00:00<00:00, 83.51it/s]\n",
      "  0%|          | 0/15 [00:00<?, ?it/s]"
     ]
    },
    {
     "name": "stdout",
     "output_type": "stream",
     "text": [
      "Elapsed 0m 9s - left 0m 9s epoch: 50  complete: 50% loss: 14.3981\n"
     ]
    },
    {
     "name": "stderr",
     "output_type": "stream",
     "text": [
      "100%|██████████| 15/15 [00:00<00:00, 80.20it/s]\n",
      "100%|██████████| 15/15 [00:00<00:00, 83.40it/s]\n",
      "100%|██████████| 15/15 [00:00<00:00, 79.05it/s]\n",
      "100%|██████████| 15/15 [00:00<00:00, 78.04it/s]\n",
      "100%|██████████| 15/15 [00:00<00:00, 77.50it/s]\n",
      "100%|██████████| 15/15 [00:00<00:00, 75.27it/s]\n",
      "100%|██████████| 15/15 [00:00<00:00, 80.31it/s]\n",
      "100%|██████████| 15/15 [00:00<00:00, 75.82it/s]\n",
      "100%|██████████| 15/15 [00:00<00:00, 77.58it/s]\n",
      " 60%|██████    | 9/15 [00:00<00:00, 82.06it/s]"
     ]
    },
    {
     "name": "stdout",
     "output_type": "stream",
     "text": [
      "Elapsed 0m 11s - left 0m 7s epoch: 60  complete: 60% loss: 14.8444\n"
     ]
    },
    {
     "name": "stderr",
     "output_type": "stream",
     "text": [
      "100%|██████████| 15/15 [00:00<00:00, 72.24it/s]\n",
      "100%|██████████| 15/15 [00:00<00:00, 75.01it/s]\n",
      "100%|██████████| 15/15 [00:00<00:00, 77.89it/s]\n",
      "100%|██████████| 15/15 [00:00<00:00, 77.47it/s]\n",
      "100%|██████████| 15/15 [00:00<00:00, 83.86it/s]\n",
      "100%|██████████| 15/15 [00:00<00:00, 77.95it/s]\n",
      "100%|██████████| 15/15 [00:00<00:00, 82.94it/s]\n",
      "100%|██████████| 15/15 [00:00<00:00, 81.66it/s]\n",
      "100%|██████████| 15/15 [00:00<00:00, 78.38it/s]\n",
      "100%|██████████| 15/15 [00:00<00:00, 81.04it/s]\n",
      "100%|██████████| 15/15 [00:00<00:00, 76.68it/s]\n",
      "  0%|          | 0/15 [00:00<?, ?it/s]"
     ]
    },
    {
     "name": "stdout",
     "output_type": "stream",
     "text": [
      "Elapsed 0m 13s - left 0m 5s epoch: 70  complete: 70% loss: 14.3109\n"
     ]
    },
    {
     "name": "stderr",
     "output_type": "stream",
     "text": [
      "100%|██████████| 15/15 [00:00<00:00, 78.48it/s]\n",
      "100%|██████████| 15/15 [00:00<00:00, 82.52it/s]\n",
      "100%|██████████| 15/15 [00:00<00:00, 78.87it/s]\n",
      "100%|██████████| 15/15 [00:00<00:00, 74.81it/s]\n",
      "100%|██████████| 15/15 [00:00<00:00, 84.24it/s]\n",
      "100%|██████████| 15/15 [00:00<00:00, 82.76it/s]\n",
      "100%|██████████| 15/15 [00:00<00:00, 82.41it/s]\n",
      "100%|██████████| 15/15 [00:00<00:00, 76.22it/s]\n",
      "100%|██████████| 15/15 [00:00<00:00, 83.16it/s]\n",
      "100%|██████████| 15/15 [00:00<00:00, 79.79it/s]\n",
      "  0%|          | 0/15 [00:00<?, ?it/s]"
     ]
    },
    {
     "name": "stdout",
     "output_type": "stream",
     "text": [
      "Elapsed 0m 15s - left 0m 3s epoch: 80  complete: 80% loss: 13.9586\n"
     ]
    },
    {
     "name": "stderr",
     "output_type": "stream",
     "text": [
      "100%|██████████| 15/15 [00:00<00:00, 77.64it/s]\n",
      "100%|██████████| 15/15 [00:00<00:00, 81.81it/s]\n",
      "100%|██████████| 15/15 [00:00<00:00, 79.22it/s]\n",
      "100%|██████████| 15/15 [00:00<00:00, 82.58it/s]\n",
      "100%|██████████| 15/15 [00:00<00:00, 83.32it/s]\n",
      "100%|██████████| 15/15 [00:00<00:00, 80.73it/s]\n",
      "100%|██████████| 15/15 [00:00<00:00, 78.73it/s]\n",
      "100%|██████████| 15/15 [00:00<00:00, 80.78it/s]\n",
      "100%|██████████| 15/15 [00:00<00:00, 90.86it/s]\n",
      "100%|██████████| 15/15 [00:00<00:00, 79.49it/s]\n",
      "  0%|          | 0/15 [00:00<?, ?it/s]"
     ]
    },
    {
     "name": "stdout",
     "output_type": "stream",
     "text": [
      "Elapsed 0m 17s - left 0m 1s epoch: 90  complete: 90% loss: 14.7922\n"
     ]
    },
    {
     "name": "stderr",
     "output_type": "stream",
     "text": [
      "100%|██████████| 15/15 [00:00<00:00, 82.95it/s]\n",
      "100%|██████████| 15/15 [00:00<00:00, 82.08it/s]\n",
      "100%|██████████| 15/15 [00:00<00:00, 78.38it/s]\n",
      "100%|██████████| 15/15 [00:00<00:00, 82.82it/s]\n",
      "100%|██████████| 15/15 [00:00<00:00, 85.55it/s]\n",
      "100%|██████████| 15/15 [00:00<00:00, 87.28it/s]\n",
      "100%|██████████| 15/15 [00:00<00:00, 86.27it/s]\n",
      "100%|██████████| 15/15 [00:00<00:00, 82.37it/s]\n",
      "100%|██████████| 15/15 [00:00<00:00, 78.51it/s]"
     ]
    },
    {
     "name": "stdout",
     "output_type": "stream",
     "text": [
      "Elapsed 0m 18s - left 0m 0s epoch: 100  complete: 100% loss: 13.5869\n"
     ]
    },
    {
     "name": "stderr",
     "output_type": "stream",
     "text": [
      "\n"
     ]
    },
    {
     "data": {
      "text/plain": [
       "([0.2304769515991211,\n",
       "  1.0553676446278888,\n",
       "  0.8596780498822529,\n",
       "  1.2954707758767263,\n",
       "  1.1608921448389689,\n",
       "  1.059192030770438,\n",
       "  1.1041285401298886,\n",
       "  1.1908760468165078,\n",
       "  0.9732683414504641,\n",
       "  1.2933879034859794,\n",
       "  1.0841249306996663,\n",
       "  1.0175960438592093,\n",
       "  1.1524601300557453,\n",
       "  1.1157790263493854,\n",
       "  1.0072794011660986,\n",
       "  1.1343218235742478,\n",
       "  1.1686726133028666,\n",
       "  0.9260339640435717,\n",
       "  1.3114540440695628,\n",
       "  1.2161393562952676,\n",
       "  1.1920215129852294,\n",
       "  1.1877272605895999,\n",
       "  1.0703058878580731,\n",
       "  1.0354542720885505,\n",
       "  1.2030384631383986,\n",
       "  1.0591508905092875,\n",
       "  1.0202361413410732,\n",
       "  1.17445235706511,\n",
       "  1.103100848197937,\n",
       "  1.1010164045152209,\n",
       "  1.157733358655657,\n",
       "  1.1510192036628724,\n",
       "  0.9732594779559545,\n",
       "  1.13368839990525,\n",
       "  1.11233362754186,\n",
       "  0.9928229366030011,\n",
       "  1.1404192720140731,\n",
       "  1.1555716514587402,\n",
       "  1.0198600803102766,\n",
       "  0.9801218396141416,\n",
       "  1.0724865794181824,\n",
       "  0.9607303000631786,\n",
       "  1.2492332344963437,\n",
       "  1.1583921432495117,\n",
       "  0.9385044705300103,\n",
       "  1.2899995077224005,\n",
       "  1.199619110425313,\n",
       "  0.9096384837513878,\n",
       "  1.1782532101585752,\n",
       "  1.0533762852350872,\n",
       "  0.8062228866985865,\n",
       "  1.01938594636463,\n",
       "  1.067218005657196,\n",
       "  1.09009401400884,\n",
       "  1.0526745637257895,\n",
       "  1.154775071144104,\n",
       "  0.8995570120357332,\n",
       "  1.3350350357237315,\n",
       "  1.0239615360895793,\n",
       "  0.9346508650552658,\n",
       "  1.100326161157517,\n",
       "  1.134224772453308,\n",
       "  0.9406036053385053,\n",
       "  1.3893271219162713,\n",
       "  1.1631365418434143,\n",
       "  0.9386443268685115,\n",
       "  1.286854494185675,\n",
       "  1.0961498339970908,\n",
       "  0.8286643828664507,\n",
       "  1.0335569041115895,\n",
       "  1.1897002339363099,\n",
       "  0.8911436841601417,\n",
       "  1.1715629055386498,\n",
       "  1.0861251711845399,\n",
       "  0.9785574038823446,\n",
       "  1.075484764008295,\n",
       "  1.0478652596473694,\n",
       "  0.9560535828272503,\n",
       "  0.9535777455284482,\n",
       "  1.109362765153249,\n",
       "  0.9080008109410602,\n",
       "  0.9437160151345388,\n",
       "  0.9953057010968527,\n",
       "  0.8160141513461158,\n",
       "  1.165135079338437,\n",
       "  0.9949001232783001,\n",
       "  0.9918069271814256,\n",
       "  1.026123759860084,\n",
       "  1.1045854369799297,\n",
       "  1.0299630289986021,\n",
       "  1.2351771559034075,\n",
       "  1.0238587299982709,\n",
       "  0.9004868530091785,\n",
       "  1.0317495414188929,\n",
       "  1.0746729731559754,\n",
       "  0.853168507417043,\n",
       "  1.2926841486068,\n",
       "  1.0208242575327557,\n",
       "  0.8648559621402196,\n",
       "  0.9692071551368351,\n",
       "  1.0988246520360312,\n",
       "  0.8456623582612901,\n",
       "  1.059312918072655,\n",
       "  1.1160481890042622,\n",
       "  0.861559469926925,\n",
       "  1.0756557078588576,\n",
       "  1.192951265970866,\n",
       "  0.8979935254369463,\n",
       "  1.097282445998419,\n",
       "  1.18799098332723,\n",
       "  0.9267282258896602,\n",
       "  0.9553900332677934,\n",
       "  1.0524481256802876,\n",
       "  0.8127476624080113,\n",
       "  0.9779484430948893,\n",
       "  1.1504286527633667,\n",
       "  0.9564707511947269,\n",
       "  1.0353888352711995,\n",
       "  1.1888511379559836,\n",
       "  0.9366779253596352,\n",
       "  0.8905205158960252,\n",
       "  1.1415499925613404,\n",
       "  0.8854506844565982,\n",
       "  0.9012581598191035,\n",
       "  1.138280701637268,\n",
       "  0.8467609320368086,\n",
       "  0.9218619346618653,\n",
       "  1.0166792392730712,\n",
       "  0.9453437634876796,\n",
       "  0.8785514127640497,\n",
       "  1.1308865904808045,\n",
       "  0.7990577260653178,\n",
       "  0.8538558778308687,\n",
       "  1.037620234489441,\n",
       "  0.9462196213858467,\n",
       "  0.9349278495425268,\n",
       "  1.1348641475041705,\n",
       "  0.8954199018932524,\n",
       "  0.9590737422307332,\n",
       "  1.0904237230618794,\n",
       "  0.8652386330422901,\n",
       "  0.9564131850288027,\n",
       "  0.9704642812410992,\n",
       "  0.8699963013331095,\n",
       "  0.8729249704451787,\n",
       "  1.0787790218989055,\n",
       "  0.8669483457292829,\n",
       "  0.9224117540177845,\n",
       "  1.1189222137133281,\n",
       "  0.7949421190080188,\n",
       "  1.083509129569644,\n",
       "  1.0706751704216004,\n",
       "  0.9654052178064984,\n",
       "  0.934395406359718,\n",
       "  1.1816636164983112,\n",
       "  0.9351422184989566,\n",
       "  1.0381567614419118,\n",
       "  0.9678573171297711,\n",
       "  0.8524009630793618,\n",
       "  0.926463694799514,\n",
       "  1.1813140432039897,\n",
       "  0.8567483640852428,\n",
       "  0.9964050020490374,\n",
       "  1.13093155225118,\n",
       "  0.9092906713485718,\n",
       "  1.0143633115859259,\n",
       "  1.1416309595108032,\n",
       "  0.8362246388480777,\n",
       "  1.0636416140056792,\n",
       "  1.1221444725990295,\n",
       "  0.9203681639262609,\n",
       "  0.9831719534737724,\n",
       "  1.0706524054209392,\n",
       "  0.830529530843099,\n",
       "  1.0203000659034367,\n",
       "  1.0600130756696065,\n",
       "  0.9117660584903898,\n",
       "  0.9164843740917388,\n",
       "  1.0099077383677164,\n",
       "  0.8003485719362894,\n",
       "  0.9780053729102726,\n",
       "  1.1717454115549724,\n",
       "  0.8066839274905977,\n",
       "  1.0204138506026497,\n",
       "  1.1664579470952352,\n",
       "  0.7982495404425121,\n",
       "  0.8129134632292248,\n",
       "  1.1676252325375875,\n",
       "  0.7728464149293446,\n",
       "  0.8404701051257906,\n",
       "  1.1143004298210144,\n",
       "  0.8176428624561854,\n",
       "  0.9768964767456054,\n",
       "  1.0640737255414328,\n",
       "  0.8065151680083501,\n",
       "  1.0365232921781995,\n",
       "  0.9560595194498698,\n",
       "  0.8176494921956744,\n",
       "  0.8125837655294509,\n",
       "  1.1040401299794513,\n",
       "  0.7587115185601372,\n",
       "  0.8685646363667079,\n",
       "  1.0014389554659526,\n",
       "  1.232503442537217,\n",
       "  0.7773283708663214,\n",
       "  1.1095623135566712,\n",
       "  0.7963385156222753,\n",
       "  0.8919272820154825,\n",
       "  1.0700786193211873,\n",
       "  1.1949906417301723,\n",
       "  0.8599506764184861,\n",
       "  0.9424829522768657,\n",
       "  0.8044902534711929,\n",
       "  0.9769891738891602,\n",
       "  1.1072595755259198,\n",
       "  0.8819583512487867,\n",
       "  0.9633363950820197,\n",
       "  1.0792186776796977,\n",
       "  0.8371221179053897,\n",
       "  0.9411228270757765,\n",
       "  0.9420992811520893,\n",
       "  1.2206746078672865,\n",
       "  0.850797066234407,\n",
       "  0.936523687839508,\n",
       "  0.7834740428697495,\n",
       "  0.7837917191641671,\n",
       "  0.9483193278312683,\n",
       "  0.8392277030717759,\n",
       "  0.9184735161917551,\n",
       "  0.9385003646214802,\n",
       "  0.7967670139812288,\n",
       "  0.8958975735164824,\n",
       "  1.158178734779358,\n",
       "  0.803373428753444,\n",
       "  0.9640978461220151,\n",
       "  0.9299348314603169,\n",
       "  0.835397680032821,\n",
       "  1.0931668667566208,\n",
       "  1.1754531304041547,\n",
       "  0.7848602834201995,\n",
       "  0.8436339389710199,\n",
       "  1.1042201161384582,\n",
       "  1.1400879780451456,\n",
       "  1.0966716789063953,\n",
       "  1.1022824684778851,\n",
       "  1.1036166872297017,\n",
       "  0.7597962890352522,\n",
       "  0.9867224812507629,\n",
       "  1.0870517798832484,\n",
       "  1.1103243646167573,\n",
       "  1.0969496647516888,\n",
       "  0.9360181842531476,\n",
       "  0.8412073396501087,\n",
       "  0.9811790863672893,\n",
       "  0.846580798285348,\n",
       "  0.8515086877913702,\n",
       "  0.9802058219909668,\n",
       "  0.7868749101956685,\n",
       "  0.9871310279482886,\n",
       "  1.112352732817332,\n",
       "  1.0450745786939348,\n",
       "  1.0326975504557292,\n",
       "  0.9175798734029132,\n",
       "  0.9902274018242248,\n",
       "  0.7870582285381499,\n",
       "  1.0368693192799885,\n",
       "  0.9936836719512939,\n",
       "  0.9290514242081416,\n",
       "  1.1638610800107319,\n",
       "  0.8563383925528754,\n",
       "  0.8539174295607067,\n",
       "  0.9877539197603861,\n",
       "  0.7711766470046271,\n",
       "  0.7998813799449376,\n",
       "  1.1712421576182048,\n",
       "  0.8378006480989001,\n",
       "  0.8801477772848946,\n",
       "  1.104528260231018,\n",
       "  0.8383514256704421,\n",
       "  0.810317509514945,\n",
       "  0.9749311327934265,\n",
       "  0.8029009932563419,\n",
       "  1.0394481431870235,\n",
       "  1.1044047435124715,\n",
       "  0.8061392585436502,\n",
       "  0.8925464334942046,\n",
       "  1.0472093780835467,\n",
       "  0.787694023336683,\n",
       "  0.9195460501171293,\n",
       "  0.9702670812606812,\n",
       "  0.8362124408994402,\n",
       "  0.7735616354715256,\n",
       "  1.0309042771657306,\n",
       "  0.7939987858136496,\n",
       "  0.8086239973704021,\n",
       "  0.9957591533660889,\n",
       "  0.7694640914599101,\n",
       "  0.7482075134913126,\n",
       "  1.027773344516754,\n",
       "  0.7997623716081892],\n",
       " 4.3280047462100075)"
      ]
     },
     "execution_count": 11,
     "metadata": {},
     "output_type": "execute_result"
    }
   ],
   "source": [
    "trans.train(x_corpus, y_corpus, print_every=10, n_iters=100, preprocess=False, plot_every=5)"
   ]
  },
  {
   "cell_type": "code",
   "execution_count": 12,
   "metadata": {},
   "outputs": [
    {
     "data": {
      "text/plain": [
       "<Figure size 432x288 with 0 Axes>"
      ]
     },
     "metadata": {},
     "output_type": "display_data"
    },
    {
     "data": {
      "image/png": "[encoded data removed]",
      "text/plain": [
       "<Figure size 432x288 with 1 Axes>"
      ]
     },
     "metadata": {
      "needs_background": "light"
     },
     "output_type": "display_data"
    },
    {
     "data": {
      "text/plain": [
       "<matplotlib.axes._subplots.AxesSubplot at 0x7fd08f28deb8>"
      ]
     },
     "execution_count": 12,
     "metadata": {},
     "output_type": "execute_result"
    }
   ],
   "source": [
    "%matplotlib inline\n",
    "import matplotlib.pyplot as plt\n",
    "trans.plot_loss()"
   ]
  },
  {
   "cell_type": "code",
   "execution_count": 13,
   "metadata": {},
   "outputs": [
    {
     "name": "stdout",
     "output_type": "stream",
     "text": [
      "input = /SOS We are sorry for the inconvenience. /EOS\n",
      "output = /SOS ets /EOS\n"
     ]
    },
    {
     "data": {
      "image/png": "[encoded data removed]",
      "text/plain": [
       "<Figure size 432x288 with 2 Axes>"
      ]
     },
     "metadata": {
      "needs_background": "light"
     },
     "output_type": "display_data"
    },
    {
     "data": {
      "text/plain": [
       "('/SOS We are sorry for the inconvenience. /EOS', ['/SOS', 'ets', '/EOS'])"
      ]
     },
     "execution_count": 13,
     "metadata": {},
     "output_type": "execute_result"
    }
   ],
   "source": [
    "trans.evaluate_attention(english[10])"
   ]
  },
  {
   "cell_type": "code",
   "execution_count": 16,
   "metadata": {},
   "outputs": [
    {
     "name": "stdout",
     "output_type": "stream",
     "text": [
      "> /SOS We are sorry for the inconvenience. /EOS\n",
      "< /SOS ets /EOS\n",
      "\n"
     ]
    }
   ],
   "source": [
    "trans.evaluate(english[10])"
   ]
  },
  {
   "cell_type": "code",
   "execution_count": 15,
   "metadata": {
    "scrolled": true
   },
   "outputs": [
    {
     "name": "stdout",
     "output_type": "stream",
     "text": [
      "> /SOS We are sorry for the inconvenience. /EOS\n",
      "= /SOS Ens sap greu la molèstia causada. /EOS\n",
      "< /SOS ets /EOS\n",
      "\n"
     ]
    }
   ],
   "source": [
    "trans.evaluate(english[10], catalan[10])"
   ]
  },
  {
   "cell_type": "code",
   "execution_count": null,
   "metadata": {},
   "outputs": [],
   "source": []
  },
  {
   "cell_type": "code",
   "execution_count": null,
   "metadata": {},
   "outputs": [],
   "source": []
  }
 ],
 "metadata": {
  "kernelspec": {
   "display_name": "Python 3",
   "language": "python",
   "name": "python3"
  },
  "language_info": {
   "codemirror_mode": {
    "name": "ipython",
    "version": 3
   },
   "file_extension": ".py",
   "mimetype": "text/x-python",
   "name": "python",
   "nbconvert_exporter": "python",
   "pygments_lexer": "ipython3",
   "version": "3.6.7"
  }
 },
 "nbformat": 4,
 "nbformat_minor": 2
}
