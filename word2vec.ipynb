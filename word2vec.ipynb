{
 "cells": [
  {
   "cell_type": "code",
   "execution_count": 1,
   "metadata": {},
   "outputs": [],
   "source": [
    "from nlpkf.vectorizers import WordToVec\n",
    "from nlpkf.tokenizer import clean_text"
   ]
  },
  {
   "cell_type": "code",
   "execution_count": 2,
   "metadata": {},
   "outputs": [],
   "source": [
    "corpus = [\n",
    "    \"The elephant sneezed at the sight of potatoes. \",\n",
    "    \"Bats can see via echolocation. See the bat sight sneeze!\",\n",
    "    \"Wondering, she opened the door to the studio.\", \" MOUNTAINS permitors.\"\n",
    "]\n",
    "text = \"\".join(corpus)"
   ]
  },
  {
   "cell_type": "code",
   "execution_count": 13,
   "metadata": {},
   "outputs": [],
   "source": [
    "tok_kwargs = dict(remove_stopwords=True, use_stems=False, \n",
    "                  to_lowercase=True, use_lemma=True, remove_punctuation=False)"
   ]
  },
  {
   "cell_type": "code",
   "execution_count": 14,
   "metadata": {},
   "outputs": [
    {
     "name": "stdout",
     "output_type": "stream",
     "text": [
      "9.785982847213745\n"
     ]
    }
   ],
   "source": [
    "import time\n",
    "start = time.time()\n",
    "w2v = WordToVec(tokenizer_kwargs=tok_kwargs, vectorizer_kwargs={})\n",
    "end = time.time()\n",
    "print(end - start)"
   ]
  },
  {
   "cell_type": "code",
   "execution_count": null,
   "metadata": {},
   "outputs": [],
   "source": [
    "import time\n",
    "start = time.time()\n",
    "w2v = WordToVec(tokenizer_kwargs=tok_kwargs, vectorizer_kwargs={})\n",
    "end = time.time()\n",
    "print(end - start)"
   ]
  },
  {
   "cell_type": "code",
   "execution_count": 5,
   "metadata": {},
   "outputs": [],
   "source": [
    "w2v.tokenizer.remove_punctuation = True"
   ]
  },
  {
   "cell_type": "code",
   "execution_count": null,
   "metadata": {},
   "outputs": [],
   "source": []
  },
  {
   "cell_type": "code",
   "execution_count": 6,
   "metadata": {},
   "outputs": [
    {
     "data": {
      "text/plain": [
       "<nlpkf.vectorizers.WordToVec at 0x7f7540adf0f0>"
      ]
     },
     "execution_count": 6,
     "metadata": {},
     "output_type": "execute_result"
    }
   ],
   "source": [
    "w2v.fit(w2v.clean_text(corpus, return_tokens=False) + [\"My penis is ridiculous\"])"
   ]
  },
  {
   "cell_type": "code",
   "execution_count": 10,
   "metadata": {},
   "outputs": [
    {
     "data": {
      "text/plain": [
       "Embedding(17, 300)"
      ]
     },
     "execution_count": 10,
     "metadata": {},
     "output_type": "execute_result"
    }
   ],
   "source": [
    "w2v.to_pytorch_embedding(vector_size=64, pretrained=True)"
   ]
  },
  {
   "cell_type": "code",
   "execution_count": 7,
   "metadata": {},
   "outputs": [],
   "source": [
    "w2v.vectorizer.binary = True"
   ]
  },
  {
   "cell_type": "code",
   "execution_count": 8,
   "metadata": {},
   "outputs": [
    {
     "data": {
      "text/plain": [
       "array([[0, 0, 0, 1, 0, 0, 0, 0, 1, 0, 0, 1, 0, 1, 0, 0, 0],\n",
       "       [1, 0, 1, 0, 0, 0, 0, 0, 0, 0, 1, 1, 1, 0, 0, 1, 0],\n",
       "       [0, 1, 0, 0, 0, 1, 0, 0, 0, 0, 0, 0, 0, 0, 1, 0, 1],\n",
       "       [0, 0, 0, 0, 1, 0, 0, 1, 0, 0, 0, 0, 0, 0, 0, 0, 0]])"
      ]
     },
     "execution_count": 8,
     "metadata": {},
     "output_type": "execute_result"
    }
   ],
   "source": [
    "w2v.vectorizer.transform(corpus).toarray()"
   ]
  },
  {
   "cell_type": "code",
   "execution_count": 12,
   "metadata": {},
   "outputs": [
    {
     "data": {
      "text/plain": [
       "4"
      ]
     },
     "execution_count": 12,
     "metadata": {},
     "output_type": "execute_result"
    }
   ],
   "source": [
    "len(w2v.to_seq_vectors(corpus))"
   ]
  },
  {
   "cell_type": "code",
   "execution_count": 17,
   "metadata": {},
   "outputs": [
    {
     "ename": "NameError",
     "evalue": "name 'np' is not defined",
     "output_type": "error",
     "traceback": [
      "\u001b[0;31m---------------------------------------------------------------------------\u001b[0m",
      "\u001b[0;31mNameError\u001b[0m                                 Traceback (most recent call last)",
      "\u001b[0;32m<ipython-input-17-e5d6322bed15>\u001b[0m in \u001b[0;36m<module>\u001b[0;34m\u001b[0m\n\u001b[0;32m----> 1\u001b[0;31m \u001b[0mpretrained_weights\u001b[0m \u001b[0;34m=\u001b[0m \u001b[0mnp\u001b[0m\u001b[0;34m.\u001b[0m\u001b[0marray\u001b[0m\u001b[0;34m(\u001b[0m\u001b[0;34m[\u001b[0m\u001b[0mw2v\u001b[0m\u001b[0;34m.\u001b[0m\u001b[0midx2vec\u001b[0m\u001b[0;34m[\u001b[0m\u001b[0mi\u001b[0m\u001b[0;34m]\u001b[0m \u001b[0;32mfor\u001b[0m \u001b[0mi\u001b[0m \u001b[0;32min\u001b[0m \u001b[0mrange\u001b[0m\u001b[0;34m(\u001b[0m\u001b[0mw2v\u001b[0m\u001b[0;34m.\u001b[0m\u001b[0mvocab_size\u001b[0m\u001b[0;34m)\u001b[0m\u001b[0;34m]\u001b[0m\u001b[0;34m)\u001b[0m\u001b[0;34m\u001b[0m\u001b[0;34m\u001b[0m\u001b[0m\n\u001b[0m",
      "\u001b[0;31mNameError\u001b[0m: name 'np' is not defined"
     ]
    }
   ],
   "source": []
  },
  {
   "cell_type": "code",
   "execution_count": 45,
   "metadata": {},
   "outputs": [],
   "source": [
    "import torch.nn as nn\n",
    "import torch\n",
    "import numpy as np\n",
    "\n",
    "# vocab_size is the number of words in your train, val and test set\n",
    "# vector_size is the dimension of the word vectors you are using\n",
    "vector_size = len(w2v.idx2vec[0])\n",
    "pretrained_weights = np.array([w2v.idx2vec[i] for i in range(w2v.vocab_size)])\n",
    "\n",
    "embed = nn.Embedding(w2v.vocab_size, vector_size)\n",
    "\n",
    "# intialize the word vectors, pretrained_weights is a \n",
    "# numpy array of size (vocab_size, vector_size) and \n",
    "# pretrained_weights[i] retrieves the word vector of\n",
    "# i-th word in the vocabulary\n",
    "embed.weight.data.copy_(torch.from_numpy(pretrained_weights))\n",
    "\n",
    "# Then turn the word index into actual word vector\n",
    "\n",
    "word_indexes = torch.LongTensor([w for w in w2v.vocabulary.values()])\n",
    "word_vectors = embed(torch.arange(w2v.vocab_size)).detach()"
   ]
  },
  {
   "cell_type": "code",
   "execution_count": 47,
   "metadata": {
    "scrolled": true
   },
   "outputs": [
    {
     "data": {
      "text/plain": [
       "True"
      ]
     },
     "execution_count": 47,
     "metadata": {},
     "output_type": "execute_result"
    }
   ],
   "source": [
    "all(word_vectors[12].numpy() == w2v.idx2vec[12])"
   ]
  },
  {
   "cell_type": "code",
   "execution_count": 42,
   "metadata": {},
   "outputs": [
    {
     "data": {
      "text/plain": [
       "tensor([ 6, 16, 14, 11,  2,  3, 13, 18,  5, 15,  0, 19,  1,  8,  4, 17,  7, 10,\n",
       "         9, 12])"
      ]
     },
     "execution_count": 42,
     "metadata": {},
     "output_type": "execute_result"
    }
   ],
   "source": [
    "word_indexes"
   ]
  },
  {
   "cell_type": "code",
   "execution_count": 43,
   "metadata": {},
   "outputs": [
    {
     "data": {
      "text/plain": [
       "(array([-0.082752 ,  0.67204  , -0.14987  , -0.064983 ,  0.056491 ,\n",
       "         0.40228  ,  0.0027747, -0.3311   , -0.30691  ,  2.0817   ],\n",
       "       dtype=float32),\n",
       " array([-9.1445e-01, -1.8174e-01,  1.9368e-01,  1.3445e-01, -2.4596e-01,\n",
       "         2.5349e-01,  3.2706e-01, -1.0537e-01,  1.5046e-01,  2.1878e+00,\n",
       "         9.2471e-02,  9.3998e-02, -1.5824e-02,  5.5601e-01, -1.7520e-01,\n",
       "        -1.4956e-01, -1.9143e-01, -2.9982e-02,  3.9034e-01, -2.9230e-01,\n",
       "         1.2081e-03,  1.6841e-01,  2.9684e-01, -3.1493e-01, -1.3577e-01,\n",
       "        -2.3571e-02, -9.7125e-02, -4.5132e-01,  9.2707e-02, -1.3079e-01,\n",
       "        -1.3258e-01,  3.9406e-01, -1.9954e-01,  3.1603e-01,  2.4090e-01,\n",
       "        -1.5074e-02, -5.1176e-02,  2.1314e-01, -6.2006e-02,  4.2745e-01,\n",
       "        -6.9720e-02,  1.9396e-02, -2.6187e-01,  5.0427e-01,  3.6148e-01,\n",
       "        -2.1733e-01,  6.8295e-02,  5.5245e-01,  4.3527e-02, -6.7328e-02,\n",
       "        -1.6001e-03,  2.4306e-01, -1.5300e-01, -5.9906e-02, -2.6155e-01,\n",
       "        -1.3411e-01,  2.7679e-01, -7.5283e-02, -2.2583e-02, -2.4648e-02,\n",
       "         8.4070e-02,  1.2380e-02, -2.5329e-01, -2.3877e-01, -9.7824e-02,\n",
       "        -1.5303e-01, -3.8174e-01, -4.0891e-01, -6.5799e-02, -1.8199e-01,\n",
       "         9.2293e-02, -4.4653e-01,  2.7882e-01, -6.5701e-02, -1.0251e-02,\n",
       "         2.9953e-01,  1.4407e-01,  6.1791e-02, -3.3753e-01,  5.8346e-01,\n",
       "        -1.8963e-01, -4.1855e-01,  1.8617e-01,  1.2016e-01, -1.9887e-01,\n",
       "         1.2835e-01,  3.8224e-01, -4.5044e-01,  1.5679e-02, -5.8798e-01,\n",
       "        -4.4221e-01,  1.4384e-01, -1.4227e-01,  5.5570e-02, -1.2528e-02,\n",
       "         9.0123e-02, -6.8474e-01,  2.1949e-01,  3.3833e-01, -9.3554e-02,\n",
       "        -5.7977e-02, -2.1858e-01, -1.3367e-01, -2.1504e-01,  5.1896e-01,\n",
       "        -1.3848e+00, -1.2475e-01, -1.8424e-01, -1.2405e-01, -1.6427e-01,\n",
       "         2.4770e-01, -4.4492e-01,  2.5205e-02, -1.1063e-01, -1.8941e-01,\n",
       "        -9.6987e-03, -1.2382e-01, -3.5273e-01,  4.2771e-01, -1.3829e-01,\n",
       "         3.2773e-01,  6.7295e-03, -4.0123e-01, -2.6210e-01,  1.7263e-01,\n",
       "        -6.0018e-02, -3.8488e-01, -9.8742e-02,  7.8856e-02, -2.1829e-01,\n",
       "        -4.9721e-02, -2.0863e-02,  5.1313e-01,  1.5077e-01, -2.9063e-02,\n",
       "        -1.4145e-01, -2.6998e-01,  1.8565e-01, -2.1516e-01,  1.6207e-01,\n",
       "        -2.2223e+00,  6.0460e-01,  1.6951e-01,  2.8973e-01,  3.8256e-03,\n",
       "        -1.0955e-01,  1.2331e-01, -5.0037e-01,  2.9711e-01, -1.1606e-01,\n",
       "         4.3719e-01,  3.8289e-01, -7.7722e-02, -1.6561e-01,  2.4043e-01,\n",
       "        -1.4357e-01,  4.7855e-02, -2.8103e-01,  6.7852e-02,  4.1781e-02,\n",
       "        -3.6922e-01,  4.8079e-02,  2.2129e-01,  2.8622e-02, -7.8665e-01,\n",
       "         2.3644e-01, -1.0455e-01,  1.2226e-01, -1.6402e-01, -2.3284e-01,\n",
       "        -9.7727e-02,  3.0208e-02,  2.1808e-01, -3.8668e-01,  8.0841e-03,\n",
       "        -2.9153e-01, -2.5254e-01, -1.0061e-01,  1.1670e-01, -9.5025e-02,\n",
       "        -6.0020e-02, -9.4953e-02, -1.7447e-01,  1.1630e-01, -1.7510e-01,\n",
       "        -2.8915e-02,  2.8316e-01, -1.9729e-01,  3.5897e-01,  7.5248e-01,\n",
       "         5.1405e-01, -8.4731e-02,  1.8208e-02,  7.8301e-02, -4.0361e-01,\n",
       "        -2.5215e-01, -8.4352e-02, -3.5521e-01, -2.2175e-01,  3.8490e-01,\n",
       "         1.9950e-01, -2.3316e-02, -2.9723e-02,  9.3257e-02, -3.1926e-01,\n",
       "         2.4915e-02,  1.6397e-01,  1.4507e-01,  5.9627e-02,  3.3109e-01,\n",
       "        -9.6091e-02,  4.9933e-01,  4.9251e-01, -1.6498e-01,  9.8081e-02,\n",
       "         3.8635e-01,  1.0099e-01,  6.0081e-01, -4.9304e-01, -4.7024e-02,\n",
       "        -3.3748e-01,  6.7931e-02, -5.5395e-01, -3.7138e-01,  3.3936e-01,\n",
       "        -5.7684e-01, -8.4194e-02,  1.4153e-01, -3.8275e-01, -2.4738e-01,\n",
       "         2.2610e-01,  1.5142e-01,  2.5376e-01, -1.4274e-01,  1.7940e-01,\n",
       "         4.3136e-02, -1.2221e-02,  2.5930e-01,  1.0160e-01,  2.9097e-01,\n",
       "        -4.5118e-01,  4.9395e-02, -1.7874e-01,  1.8096e-01, -2.1921e-01,\n",
       "         2.0782e-01,  4.2170e-01, -1.4128e-01, -5.8424e-02,  4.4128e-01,\n",
       "        -3.4143e-01, -2.5200e-01, -3.8894e-02, -2.1868e-01, -3.4172e-01,\n",
       "         1.9689e-01, -1.4957e-01,  2.0065e-01, -6.0902e-02, -8.7163e-02,\n",
       "        -1.3207e-02,  5.4182e-01,  3.3248e-01, -1.9673e-01, -1.3728e-02,\n",
       "         6.1235e-01, -8.3007e-02,  2.6692e-02,  1.0207e+00, -1.5151e-02,\n",
       "        -2.8981e-01,  6.8357e-02, -8.1966e-02, -3.8515e-01, -2.6395e-01,\n",
       "        -1.2554e-01, -1.5734e-01, -4.1300e-01, -1.8557e-01,  4.6412e-02,\n",
       "         4.5066e-01,  3.0078e-01,  3.0475e-01,  3.6211e-01, -5.0818e-01,\n",
       "         2.5748e-01, -3.1971e-01,  8.3198e-02,  1.1887e-01,  9.6285e-02,\n",
       "        -1.4748e-01,  1.1353e-01,  1.8106e-01,  6.5817e-02, -9.3008e-03,\n",
       "         4.1808e-01, -7.7398e-02,  2.1191e-01,  4.3339e-01,  1.1831e-01],\n",
       "       dtype=float32))"
      ]
     },
     "execution_count": 43,
     "metadata": {},
     "output_type": "execute_result"
    }
   ],
   "source": [
    "word_vectors[12].numpy()[:10], w2v.idx2vec[12]"
   ]
  },
  {
   "cell_type": "code",
   "execution_count": null,
   "metadata": {},
   "outputs": [],
   "source": []
  }
 ],
 "metadata": {
  "kernelspec": {
   "display_name": "Python 3",
   "language": "python",
   "name": "python3"
  },
  "language_info": {
   "codemirror_mode": {
    "name": "ipython",
    "version": 3
   },
   "file_extension": ".py",
   "mimetype": "text/x-python",
   "name": "python",
   "nbconvert_exporter": "python",
   "pygments_lexer": "ipython3",
   "version": "3.6.7"
  }
 },
 "nbformat": 4,
 "nbformat_minor": 2
}
