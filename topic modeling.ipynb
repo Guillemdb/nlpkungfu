{
 "cells": [
  {
   "cell_type": "code",
   "execution_count": 1,
   "metadata": {
    "scrolled": true
   },
   "outputs": [],
   "source": [
    "\n",
    "from nltk.corpus import brown\n",
    " \n",
    "data = []\n",
    " \n"
   ]
  },
  {
   "cell_type": "code",
   "execution_count": 34,
   "metadata": {},
   "outputs": [
    {
     "name": "stdout",
     "output_type": "stream",
     "text": [
      "5\n"
     ]
    }
   ],
   "source": [
    "for fileid in brown.fileids():\n",
    "    document = ' '.join(brown.words(fileid))\n",
    "    data.append(document)\n",
    "\n",
    "data = [doc.replace(\"``\", \"\").replace(\"''\", \"\") for doc in data][:5]    \n",
    "NO_DOCUMENTS = len(data)\n",
    "print(NO_DOCUMENTS)\n",
    "#print(data[0].replace(\"``\", \"\"))"
   ]
  },
  {
   "cell_type": "code",
   "execution_count": 3,
   "metadata": {},
   "outputs": [
    {
     "ename": "NameError",
     "evalue": "name 'top' is not defined",
     "output_type": "error",
     "traceback": [
      "\u001b[0;31m---------------------------------------------------------------------------\u001b[0m",
      "\u001b[0;31mNameError\u001b[0m                                 Traceback (most recent call last)",
      "\u001b[0;32m<ipython-input-3-3ca2714ac54f>\u001b[0m in \u001b[0;36m<module>\u001b[0;34m\u001b[0m\n\u001b[0;32m----> 1\u001b[0;31m \u001b[0mdoc\u001b[0m \u001b[0;34m=\u001b[0m \u001b[0mtop\u001b[0m\u001b[0;34m.\u001b[0m\u001b[0mnlp\u001b[0m\u001b[0;34m(\u001b[0m\u001b[0;34m\"the State Board of Education should be directed to  give priority  to teacher pay raises .\"\u001b[0m\u001b[0;34m)\u001b[0m\u001b[0;34m\u001b[0m\u001b[0;34m\u001b[0m\u001b[0m\n\u001b[0m",
      "\u001b[0;31mNameError\u001b[0m: name 'top' is not defined"
     ]
    }
   ],
   "source": [
    "doc = top.nlp(\"the State Board of Education should be directed to  give priority  to teacher pay raises .\")"
   ]
  },
  {
   "cell_type": "code",
   "execution_count": 4,
   "metadata": {
    "scrolled": true
   },
   "outputs": [
    {
     "ename": "NameError",
     "evalue": "name 'doc' is not defined",
     "output_type": "error",
     "traceback": [
      "\u001b[0;31m---------------------------------------------------------------------------\u001b[0m",
      "\u001b[0;31mNameError\u001b[0m                                 Traceback (most recent call last)",
      "\u001b[0;32m<ipython-input-4-0abf143e3b9f>\u001b[0m in \u001b[0;36m<module>\u001b[0;34m\u001b[0m\n\u001b[0;32m----> 1\u001b[0;31m \u001b[0;32mfor\u001b[0m \u001b[0mtoken\u001b[0m \u001b[0;32min\u001b[0m \u001b[0mdoc\u001b[0m\u001b[0;34m:\u001b[0m\u001b[0;34m\u001b[0m\u001b[0;34m\u001b[0m\u001b[0m\n\u001b[0m\u001b[1;32m      2\u001b[0m     \u001b[0mprint\u001b[0m\u001b[0;34m(\u001b[0m\u001b[0mtoken\u001b[0m\u001b[0;34m,\u001b[0m \u001b[0mtoken\u001b[0m\u001b[0;34m.\u001b[0m\u001b[0mpos_\u001b[0m\u001b[0;34m)\u001b[0m\u001b[0;34m\u001b[0m\u001b[0;34m\u001b[0m\u001b[0m\n",
      "\u001b[0;31mNameError\u001b[0m: name 'doc' is not defined"
     ]
    }
   ],
   "source": [
    "for token in doc:\n",
    "    print(token, token.pos_)"
   ]
  },
  {
   "cell_type": "code",
   "execution_count": 5,
   "metadata": {},
   "outputs": [
    {
     "ename": "NameError",
     "evalue": "name 'token' is not defined",
     "output_type": "error",
     "traceback": [
      "\u001b[0;31m---------------------------------------------------------------------------\u001b[0m",
      "\u001b[0;31mNameError\u001b[0m                                 Traceback (most recent call last)",
      "\u001b[0;32m<ipython-input-5-242c4b1f5793>\u001b[0m in \u001b[0;36m<module>\u001b[0;34m\u001b[0m\n\u001b[0;32m----> 1\u001b[0;31m \u001b[0mtoken\u001b[0m\u001b[0;34m.\u001b[0m\u001b[0mpos_\u001b[0m\u001b[0;34m\u001b[0m\u001b[0;34m\u001b[0m\u001b[0m\n\u001b[0m",
      "\u001b[0;31mNameError\u001b[0m: name 'token' is not defined"
     ]
    }
   ],
   "source": [
    "token.pos_"
   ]
  },
  {
   "cell_type": "code",
   "execution_count": 16,
   "metadata": {},
   "outputs": [],
   "source": [
    "from nlpkf.models.topics import TopicAnalizer\n",
    "from sklearn.decomposition import NMF, LatentDirichletAllocation, TruncatedSVD\n",
    "from sklearn.feature_extraction.text import CountVectorizer\n"
   ]
  },
  {
   "cell_type": "code",
   "execution_count": 17,
   "metadata": {},
   "outputs": [],
   "source": [
    "stopwords = [\"--\", \"af\", \"'s\", \"would\", \"could\", \"'d\", \"'ll\", \"n't\", \"'s\",\n",
    "             \"will\", \"should\", \"be\", \"is\", \"are\", \"were\", \"was\", \"may\", \"per\", 'a', '  ']"
   ]
  },
  {
   "cell_type": "code",
   "execution_count": 35,
   "metadata": {},
   "outputs": [],
   "source": [
    "tokenizer_kwargs = dict(remove_stopwords=True, use_stems=False, \n",
    "                  to_lowercase=True, use_lemma=True, remove_punctuation=True, remove_nums=True, stop_words=stopwords, filter_pos=True)\n",
    "top = TopicAnalizer(n_components=5, vectorizer_kwargs={\"strip_accents\" : \"unicode\",\n",
    "                                                       \"stop_words\": stopwords},\n",
    "                    model_params={\"max_iter\":10, \"learning_method\":'online'},\n",
    "                    tokenizer_kwargs=tokenizer_kwargs)"
   ]
  },
  {
   "cell_type": "code",
   "execution_count": 36,
   "metadata": {
    "scrolled": true
   },
   "outputs": [],
   "source": [
    "res = top.fit(data)"
   ]
  },
  {
   "cell_type": "code",
   "execution_count": 7,
   "metadata": {},
   "outputs": [],
   "source": [
    "top.model.fit?"
   ]
  },
  {
   "cell_type": "code",
   "execution_count": 37,
   "metadata": {
    "scrolled": true
   },
   "outputs": [
    {
     "name": "stdout",
     "output_type": "stream",
     "text": [
      "Topic 0:\n",
      "[('state', '1.00'), ('jury', '0.74'), ('county', '0.70'), ('department', '0.69'), ('bill', '0.68'), ('city', '0.65'), ('committee', '0.64'), ('texas', '0.61'), ('election', '0.58'), ('house', '0.58'), ('fund', '0.57'), ('georgia', '0.55'), ('law', '0.55'), ('vote', '0.54'), ('school', '0.54'), ('court', '0.53'), ('year', '0.52'), ('administration', '0.52'), ('new', '0.52'), ('government', '0.51')]\n",
      "Topic 1:\n",
      "[('state', '39.60'), ('year', '26.79'), ('school', '24.94'), ('president', '23.05'), ('bill', '21.93'), ('county', '21.79'), ('administration', '19.84'), ('jury', '18.82'), ('plan', '17.35'), ('pay', '16.75'), ('house', '16.50'), ('committee', '16.47'), ('texas', '14.83'), ('case', '14.49'), ('election', '14.13'), ('vote', '13.60'), ('court', '13.50'), ('new', '13.45'), ('program', '13.41'), ('city', '12.62')]\n",
      "Topic 2:\n",
      "[('state', '0.94'), ('school', '0.88'), ('bill', '0.76'), ('texas', '0.73'), ('house', '0.65'), ('committee', '0.64'), ('city', '0.63'), ('county', '0.62'), ('plan', '0.60'), ('program', '0.59'), ('year', '0.57'), ('rep', '0.57'), ('dalla', '0.57'), ('election', '0.56'), ('day', '0.54'), ('adc', '0.53'), ('jury', '0.52'), ('public', '0.51'), ('federal', '0.51'), ('general', '0.51')]\n",
      "Topic 3:\n",
      "[('county', '0.77'), ('state', '0.74'), ('election', '0.72'), ('city', '0.67'), ('jury', '0.66'), ('resolution', '0.66'), ('year', '0.64'), ('department', '0.63'), ('bond', '0.63'), ('atlanta', '0.62'), ('school', '0.61'), ('council', '0.59'), ('vote', '0.59'), ('highway', '0.58'), ('republican', '0.57'), ('court', '0.57'), ('plan', '0.57'), ('fund', '0.56'), ('house', '0.55'), ('program', '0.55')]\n",
      "Topic 4:\n",
      "[('council', '13.72'), ('city', '12.07'), ('time', '9.80'), ('law', '9.68'), ('charter', '8.90'), ('town', '8.22'), ('local', '6.67'), ('director', '6.64'), ('party', '6.58'), ('state', '6.11'), ('defense', '5.91'), ('group', '5.80'), ('come', '5.78'), ('cd', '5.78'), ('general', '5.19'), ('home', '5.17'), ('vote', '5.15'), ('rule', '5.11'), ('government', '5.09'), ('possible', '5.07')]\n"
     ]
    }
   ],
   "source": [
    "top.print_topics(20)"
   ]
  },
  {
   "cell_type": "code",
   "execution_count": 31,
   "metadata": {},
   "outputs": [],
   "source": [
    "import spacy"
   ]
  },
  {
   "cell_type": "code",
   "execution_count": 3,
   "metadata": {},
   "outputs": [],
   "source": [
    "nlp = spacy.load(\"en\")"
   ]
  },
  {
   "cell_type": "code",
   "execution_count": 4,
   "metadata": {},
   "outputs": [],
   "source": [
    "doc = nlp(\"my penis is small\")"
   ]
  },
  {
   "cell_type": "code",
   "execution_count": 6,
   "metadata": {},
   "outputs": [
    {
     "data": {
      "text/plain": [
       "'VERB'"
      ]
     },
     "execution_count": 6,
     "metadata": {},
     "output_type": "execute_result"
    }
   ],
   "source": [
    "doc[-2].pos_"
   ]
  },
  {
   "cell_type": "code",
   "execution_count": 29,
   "metadata": {},
   "outputs": [
    {
     "name": "stdout",
     "output_type": "stream",
     "text": [
      "['i', 'me', 'my', 'myself', 'we', 'our', 'ours', 'ourselves', 'you', \"you're\", \"you've\", \"you'll\", \"you'd\", 'your', 'yours', 'yourself', 'yourselves', 'he', 'him', 'his', 'himself', 'she', \"she's\", 'her', 'hers', 'herself', 'it', \"it's\", 'its', 'itself', 'they', 'them', 'their', 'theirs', 'themselves', 'what', 'which', 'who', 'whom', 'this', 'that', \"that'll\", 'these', 'those', 'am', 'is', 'are', 'was', 'were', 'be', 'been', 'being', 'have', 'has', 'had', 'having', 'do', 'does', 'did', 'doing', 'a', 'an', 'the', 'and', 'but', 'if', 'or', 'because', 'as', 'until', 'while', 'of', 'at', 'by', 'for', 'with', 'about', 'against', 'between', 'into', 'through', 'during', 'before', 'after', 'above', 'below', 'to', 'from', 'up', 'down', 'in', 'out', 'on', 'off', 'over', 'under', 'again', 'further', 'then', 'once', 'here', 'there', 'when', 'where', 'why', 'how', 'all', 'any', 'both', 'each', 'few', 'more', 'most', 'other', 'some', 'such', 'no', 'nor', 'not', 'only', 'own', 'same', 'so', 'than', 'too', 'very', 's', 't', 'can', 'will', 'just', 'don', \"don't\", 'should', \"should've\", 'now', 'd', 'll', 'm', 'o', 're', 've', 'y', 'ain', 'aren', \"aren't\", 'couldn', \"couldn't\", 'didn', \"didn't\", 'doesn', \"doesn't\", 'hadn', \"hadn't\", 'hasn', \"hasn't\", 'haven', \"haven't\", 'isn', \"isn't\", 'ma', 'mightn', \"mightn't\", 'mustn', \"mustn't\", 'needn', \"needn't\", 'shan', \"shan't\", 'shouldn', \"shouldn't\", 'wasn', \"wasn't\", 'weren', \"weren't\", 'won', \"won't\", 'wouldn', \"wouldn't\"]\n"
     ]
    }
   ],
   "source": [
    "print(nltk.corpus.stopwords.words(\"english\"))"
   ]
  },
  {
   "cell_type": "code",
   "execution_count": 19,
   "metadata": {},
   "outputs": [
    {
     "data": {
      "text/plain": [
       "179"
      ]
     },
     "execution_count": 19,
     "metadata": {},
     "output_type": "execute_result"
    }
   ],
   "source": [
    "len(nltk.corpus.stopwords.words(\"english\"))"
   ]
  },
  {
   "cell_type": "code",
   "execution_count": 10,
   "metadata": {},
   "outputs": [
    {
     "data": {
      "text/html": [
       "\n",
       "    <div class=\"bk-root\">\n",
       "        <a href=\"https://bokeh.pydata.org\" target=\"_blank\" class=\"bk-logo bk-logo-small bk-logo-notebook\"></a>\n",
       "        <span id=\"54e8a14e-3c06-49fc-be1c-4f7242694b50\">Loading BokehJS ...</span>\n",
       "    </div>"
      ]
     },
     "metadata": {},
     "output_type": "display_data"
    },
    {
     "data": {
      "application/javascript": [
       "\n",
       "(function(root) {\n",
       "  function now() {\n",
       "    return new Date();\n",
       "  }\n",
       "\n",
       "  var force = true;\n",
       "\n",
       "  if (typeof (root._bokeh_onload_callbacks) === \"undefined\" || force === true) {\n",
       "    root._bokeh_onload_callbacks = [];\n",
       "    root._bokeh_is_loading = undefined;\n",
       "  }\n",
       "\n",
       "  var JS_MIME_TYPE = 'application/javascript';\n",
       "  var HTML_MIME_TYPE = 'text/html';\n",
       "  var EXEC_MIME_TYPE = 'application/vnd.bokehjs_exec.v0+json';\n",
       "  var CLASS_NAME = 'output_bokeh rendered_html';\n",
       "\n",
       "  /**\n",
       "   * Render data to the DOM node\n",
       "   */\n",
       "  function render(props, node) {\n",
       "    var script = document.createElement(\"script\");\n",
       "    node.appendChild(script);\n",
       "  }\n",
       "\n",
       "  /**\n",
       "   * Handle when an output is cleared or removed\n",
       "   */\n",
       "  function handleClearOutput(event, handle) {\n",
       "    var cell = handle.cell;\n",
       "\n",
       "    var id = cell.output_area._bokeh_element_id;\n",
       "    var server_id = cell.output_area._bokeh_server_id;\n",
       "    // Clean up Bokeh references\n",
       "    if (id != null && id in Bokeh.index) {\n",
       "      Bokeh.index[id].model.document.clear();\n",
       "      delete Bokeh.index[id];\n",
       "    }\n",
       "\n",
       "    if (server_id !== undefined) {\n",
       "      // Clean up Bokeh references\n",
       "      var cmd = \"from bokeh.io.state import curstate; print(curstate().uuid_to_server['\" + server_id + \"'].get_sessions()[0].document.roots[0]._id)\";\n",
       "      cell.notebook.kernel.execute(cmd, {\n",
       "        iopub: {\n",
       "          output: function(msg) {\n",
       "            var id = msg.content.text.trim();\n",
       "            if (id in Bokeh.index) {\n",
       "              Bokeh.index[id].model.document.clear();\n",
       "              delete Bokeh.index[id];\n",
       "            }\n",
       "          }\n",
       "        }\n",
       "      });\n",
       "      // Destroy server and session\n",
       "      var cmd = \"import bokeh.io.notebook as ion; ion.destroy_server('\" + server_id + \"')\";\n",
       "      cell.notebook.kernel.execute(cmd);\n",
       "    }\n",
       "  }\n",
       "\n",
       "  /**\n",
       "   * Handle when a new output is added\n",
       "   */\n",
       "  function handleAddOutput(event, handle) {\n",
       "    var output_area = handle.output_area;\n",
       "    var output = handle.output;\n",
       "\n",
       "    // limit handleAddOutput to display_data with EXEC_MIME_TYPE content only\n",
       "    if ((output.output_type != \"display_data\") || (!output.data.hasOwnProperty(EXEC_MIME_TYPE))) {\n",
       "      return\n",
       "    }\n",
       "\n",
       "    var toinsert = output_area.element.find(\".\" + CLASS_NAME.split(' ')[0]);\n",
       "\n",
       "    if (output.metadata[EXEC_MIME_TYPE][\"id\"] !== undefined) {\n",
       "      toinsert[toinsert.length - 1].firstChild.textContent = output.data[JS_MIME_TYPE];\n",
       "      // store reference to embed id on output_area\n",
       "      output_area._bokeh_element_id = output.metadata[EXEC_MIME_TYPE][\"id\"];\n",
       "    }\n",
       "    if (output.metadata[EXEC_MIME_TYPE][\"server_id\"] !== undefined) {\n",
       "      var bk_div = document.createElement(\"div\");\n",
       "      bk_div.innerHTML = output.data[HTML_MIME_TYPE];\n",
       "      var script_attrs = bk_div.children[0].attributes;\n",
       "      for (var i = 0; i < script_attrs.length; i++) {\n",
       "        toinsert[toinsert.length - 1].firstChild.setAttribute(script_attrs[i].name, script_attrs[i].value);\n",
       "      }\n",
       "      // store reference to server id on output_area\n",
       "      output_area._bokeh_server_id = output.metadata[EXEC_MIME_TYPE][\"server_id\"];\n",
       "    }\n",
       "  }\n",
       "\n",
       "  function register_renderer(events, OutputArea) {\n",
       "\n",
       "    function append_mime(data, metadata, element) {\n",
       "      // create a DOM node to render to\n",
       "      var toinsert = this.create_output_subarea(\n",
       "        metadata,\n",
       "        CLASS_NAME,\n",
       "        EXEC_MIME_TYPE\n",
       "      );\n",
       "      this.keyboard_manager.register_events(toinsert);\n",
       "      // Render to node\n",
       "      var props = {data: data, metadata: metadata[EXEC_MIME_TYPE]};\n",
       "      render(props, toinsert[toinsert.length - 1]);\n",
       "      element.append(toinsert);\n",
       "      return toinsert\n",
       "    }\n",
       "\n",
       "    /* Handle when an output is cleared or removed */\n",
       "    events.on('clear_output.CodeCell', handleClearOutput);\n",
       "    events.on('delete.Cell', handleClearOutput);\n",
       "\n",
       "    /* Handle when a new output is added */\n",
       "    events.on('output_added.OutputArea', handleAddOutput);\n",
       "\n",
       "    /**\n",
       "     * Register the mime type and append_mime function with output_area\n",
       "     */\n",
       "    OutputArea.prototype.register_mime_type(EXEC_MIME_TYPE, append_mime, {\n",
       "      /* Is output safe? */\n",
       "      safe: true,\n",
       "      /* Index of renderer in `output_area.display_order` */\n",
       "      index: 0\n",
       "    });\n",
       "  }\n",
       "\n",
       "  // register the mime type if in Jupyter Notebook environment and previously unregistered\n",
       "  if (root.Jupyter !== undefined) {\n",
       "    var events = require('base/js/events');\n",
       "    var OutputArea = require('notebook/js/outputarea').OutputArea;\n",
       "\n",
       "    if (OutputArea.prototype.mime_types().indexOf(EXEC_MIME_TYPE) == -1) {\n",
       "      register_renderer(events, OutputArea);\n",
       "    }\n",
       "  }\n",
       "\n",
       "  \n",
       "  if (typeof (root._bokeh_timeout) === \"undefined\" || force === true) {\n",
       "    root._bokeh_timeout = Date.now() + 5000;\n",
       "    root._bokeh_failed_load = false;\n",
       "  }\n",
       "\n",
       "  var NB_LOAD_WARNING = {'data': {'text/html':\n",
       "     \"<div style='background-color: #fdd'>\\n\"+\n",
       "     \"<p>\\n\"+\n",
       "     \"BokehJS does not appear to have successfully loaded. If loading BokehJS from CDN, this \\n\"+\n",
       "     \"may be due to a slow or bad network connection. Possible fixes:\\n\"+\n",
       "     \"</p>\\n\"+\n",
       "     \"<ul>\\n\"+\n",
       "     \"<li>re-rerun `output_notebook()` to attempt to load from CDN again, or</li>\\n\"+\n",
       "     \"<li>use INLINE resources instead, as so:</li>\\n\"+\n",
       "     \"</ul>\\n\"+\n",
       "     \"<code>\\n\"+\n",
       "     \"from bokeh.resources import INLINE\\n\"+\n",
       "     \"output_notebook(resources=INLINE)\\n\"+\n",
       "     \"</code>\\n\"+\n",
       "     \"</div>\"}};\n",
       "\n",
       "  function display_loaded() {\n",
       "    var el = document.getElementById(\"54e8a14e-3c06-49fc-be1c-4f7242694b50\");\n",
       "    if (el != null) {\n",
       "      el.textContent = \"BokehJS is loading...\";\n",
       "    }\n",
       "    if (root.Bokeh !== undefined) {\n",
       "      if (el != null) {\n",
       "        el.textContent = \"BokehJS \" + root.Bokeh.version + \" successfully loaded.\";\n",
       "      }\n",
       "    } else if (Date.now() < root._bokeh_timeout) {\n",
       "      setTimeout(display_loaded, 100)\n",
       "    }\n",
       "  }\n",
       "\n",
       "\n",
       "  function run_callbacks() {\n",
       "    try {\n",
       "      root._bokeh_onload_callbacks.forEach(function(callback) { callback() });\n",
       "    }\n",
       "    finally {\n",
       "      delete root._bokeh_onload_callbacks\n",
       "    }\n",
       "    console.info(\"Bokeh: all callbacks have finished\");\n",
       "  }\n",
       "\n",
       "  function load_libs(js_urls, callback) {\n",
       "    root._bokeh_onload_callbacks.push(callback);\n",
       "    if (root._bokeh_is_loading > 0) {\n",
       "      console.log(\"Bokeh: BokehJS is being loaded, scheduling callback at\", now());\n",
       "      return null;\n",
       "    }\n",
       "    if (js_urls == null || js_urls.length === 0) {\n",
       "      run_callbacks();\n",
       "      return null;\n",
       "    }\n",
       "    console.log(\"Bokeh: BokehJS not loaded, scheduling load and callback at\", now());\n",
       "    root._bokeh_is_loading = js_urls.length;\n",
       "    for (var i = 0; i < js_urls.length; i++) {\n",
       "      var url = js_urls[i];\n",
       "      var s = document.createElement('script');\n",
       "      s.src = url;\n",
       "      s.async = false;\n",
       "      s.onreadystatechange = s.onload = function() {\n",
       "        root._bokeh_is_loading--;\n",
       "        if (root._bokeh_is_loading === 0) {\n",
       "          console.log(\"Bokeh: all BokehJS libraries loaded\");\n",
       "          run_callbacks()\n",
       "        }\n",
       "      };\n",
       "      s.onerror = function() {\n",
       "        console.warn(\"failed to load library \" + url);\n",
       "      };\n",
       "      console.log(\"Bokeh: injecting script tag for BokehJS library: \", url);\n",
       "      document.getElementsByTagName(\"head\")[0].appendChild(s);\n",
       "    }\n",
       "  };var element = document.getElementById(\"54e8a14e-3c06-49fc-be1c-4f7242694b50\");\n",
       "  if (element == null) {\n",
       "    console.log(\"Bokeh: ERROR: autoload.js configured with elementid '54e8a14e-3c06-49fc-be1c-4f7242694b50' but no matching script tag was found. \")\n",
       "    return false;\n",
       "  }\n",
       "\n",
       "  var js_urls = [\"https://cdn.pydata.org/bokeh/release/bokeh-0.13.0.min.js\", \"https://cdn.pydata.org/bokeh/release/bokeh-widgets-0.13.0.min.js\", \"https://cdn.pydata.org/bokeh/release/bokeh-tables-0.13.0.min.js\", \"https://cdn.pydata.org/bokeh/release/bokeh-gl-0.13.0.min.js\"];\n",
       "\n",
       "  var inline_js = [\n",
       "    function(Bokeh) {\n",
       "      Bokeh.set_log_level(\"info\");\n",
       "    },\n",
       "    \n",
       "    function(Bokeh) {\n",
       "      \n",
       "    },\n",
       "    function(Bokeh) {\n",
       "      console.log(\"Bokeh: injecting CSS: https://cdn.pydata.org/bokeh/release/bokeh-0.13.0.min.css\");\n",
       "      Bokeh.embed.inject_css(\"https://cdn.pydata.org/bokeh/release/bokeh-0.13.0.min.css\");\n",
       "      console.log(\"Bokeh: injecting CSS: https://cdn.pydata.org/bokeh/release/bokeh-widgets-0.13.0.min.css\");\n",
       "      Bokeh.embed.inject_css(\"https://cdn.pydata.org/bokeh/release/bokeh-widgets-0.13.0.min.css\");\n",
       "      console.log(\"Bokeh: injecting CSS: https://cdn.pydata.org/bokeh/release/bokeh-tables-0.13.0.min.css\");\n",
       "      Bokeh.embed.inject_css(\"https://cdn.pydata.org/bokeh/release/bokeh-tables-0.13.0.min.css\");\n",
       "    }\n",
       "  ];\n",
       "\n",
       "  function run_inline_js() {\n",
       "    \n",
       "    if ((root.Bokeh !== undefined) || (force === true)) {\n",
       "      for (var i = 0; i < inline_js.length; i++) {\n",
       "        inline_js[i].call(root, root.Bokeh);\n",
       "      }if (force === true) {\n",
       "        display_loaded();\n",
       "      }} else if (Date.now() < root._bokeh_timeout) {\n",
       "      setTimeout(run_inline_js, 100);\n",
       "    } else if (!root._bokeh_failed_load) {\n",
       "      console.log(\"Bokeh: BokehJS failed to load within specified timeout.\");\n",
       "      root._bokeh_failed_load = true;\n",
       "    } else if (force !== true) {\n",
       "      var cell = $(document.getElementById(\"54e8a14e-3c06-49fc-be1c-4f7242694b50\")).parents('.cell').data().cell;\n",
       "      cell.output_area.append_execute_result(NB_LOAD_WARNING)\n",
       "    }\n",
       "\n",
       "  }\n",
       "\n",
       "  if (root._bokeh_is_loading === 0) {\n",
       "    console.log(\"Bokeh: BokehJS loaded, going straight to plotting\");\n",
       "    run_inline_js();\n",
       "  } else {\n",
       "    load_libs(js_urls, function() {\n",
       "      console.log(\"Bokeh: BokehJS plotting callback run at\", now());\n",
       "      run_inline_js();\n",
       "    });\n",
       "  }\n",
       "}(window));"
      ],
      "application/vnd.bokehjs_load.v0+json": "\n(function(root) {\n  function now() {\n    return new Date();\n  }\n\n  var force = true;\n\n  if (typeof (root._bokeh_onload_callbacks) === \"undefined\" || force === true) {\n    root._bokeh_onload_callbacks = [];\n    root._bokeh_is_loading = undefined;\n  }\n\n  \n\n  \n  if (typeof (root._bokeh_timeout) === \"undefined\" || force === true) {\n    root._bokeh_timeout = Date.now() + 5000;\n    root._bokeh_failed_load = false;\n  }\n\n  var NB_LOAD_WARNING = {'data': {'text/html':\n     \"<div style='background-color: #fdd'>\\n\"+\n     \"<p>\\n\"+\n     \"BokehJS does not appear to have successfully loaded. If loading BokehJS from CDN, this \\n\"+\n     \"may be due to a slow or bad network connection. Possible fixes:\\n\"+\n     \"</p>\\n\"+\n     \"<ul>\\n\"+\n     \"<li>re-rerun `output_notebook()` to attempt to load from CDN again, or</li>\\n\"+\n     \"<li>use INLINE resources instead, as so:</li>\\n\"+\n     \"</ul>\\n\"+\n     \"<code>\\n\"+\n     \"from bokeh.resources import INLINE\\n\"+\n     \"output_notebook(resources=INLINE)\\n\"+\n     \"</code>\\n\"+\n     \"</div>\"}};\n\n  function display_loaded() {\n    var el = document.getElementById(\"54e8a14e-3c06-49fc-be1c-4f7242694b50\");\n    if (el != null) {\n      el.textContent = \"BokehJS is loading...\";\n    }\n    if (root.Bokeh !== undefined) {\n      if (el != null) {\n        el.textContent = \"BokehJS \" + root.Bokeh.version + \" successfully loaded.\";\n      }\n    } else if (Date.now() < root._bokeh_timeout) {\n      setTimeout(display_loaded, 100)\n    }\n  }\n\n\n  function run_callbacks() {\n    try {\n      root._bokeh_onload_callbacks.forEach(function(callback) { callback() });\n    }\n    finally {\n      delete root._bokeh_onload_callbacks\n    }\n    console.info(\"Bokeh: all callbacks have finished\");\n  }\n\n  function load_libs(js_urls, callback) {\n    root._bokeh_onload_callbacks.push(callback);\n    if (root._bokeh_is_loading > 0) {\n      console.log(\"Bokeh: BokehJS is being loaded, scheduling callback at\", now());\n      return null;\n    }\n    if (js_urls == null || js_urls.length === 0) {\n      run_callbacks();\n      return null;\n    }\n    console.log(\"Bokeh: BokehJS not loaded, scheduling load and callback at\", now());\n    root._bokeh_is_loading = js_urls.length;\n    for (var i = 0; i < js_urls.length; i++) {\n      var url = js_urls[i];\n      var s = document.createElement('script');\n      s.src = url;\n      s.async = false;\n      s.onreadystatechange = s.onload = function() {\n        root._bokeh_is_loading--;\n        if (root._bokeh_is_loading === 0) {\n          console.log(\"Bokeh: all BokehJS libraries loaded\");\n          run_callbacks()\n        }\n      };\n      s.onerror = function() {\n        console.warn(\"failed to load library \" + url);\n      };\n      console.log(\"Bokeh: injecting script tag for BokehJS library: \", url);\n      document.getElementsByTagName(\"head\")[0].appendChild(s);\n    }\n  };var element = document.getElementById(\"54e8a14e-3c06-49fc-be1c-4f7242694b50\");\n  if (element == null) {\n    console.log(\"Bokeh: ERROR: autoload.js configured with elementid '54e8a14e-3c06-49fc-be1c-4f7242694b50' but no matching script tag was found. \")\n    return false;\n  }\n\n  var js_urls = [\"https://cdn.pydata.org/bokeh/release/bokeh-0.13.0.min.js\", \"https://cdn.pydata.org/bokeh/release/bokeh-widgets-0.13.0.min.js\", \"https://cdn.pydata.org/bokeh/release/bokeh-tables-0.13.0.min.js\", \"https://cdn.pydata.org/bokeh/release/bokeh-gl-0.13.0.min.js\"];\n\n  var inline_js = [\n    function(Bokeh) {\n      Bokeh.set_log_level(\"info\");\n    },\n    \n    function(Bokeh) {\n      \n    },\n    function(Bokeh) {\n      console.log(\"Bokeh: injecting CSS: https://cdn.pydata.org/bokeh/release/bokeh-0.13.0.min.css\");\n      Bokeh.embed.inject_css(\"https://cdn.pydata.org/bokeh/release/bokeh-0.13.0.min.css\");\n      console.log(\"Bokeh: injecting CSS: https://cdn.pydata.org/bokeh/release/bokeh-widgets-0.13.0.min.css\");\n      Bokeh.embed.inject_css(\"https://cdn.pydata.org/bokeh/release/bokeh-widgets-0.13.0.min.css\");\n      console.log(\"Bokeh: injecting CSS: https://cdn.pydata.org/bokeh/release/bokeh-tables-0.13.0.min.css\");\n      Bokeh.embed.inject_css(\"https://cdn.pydata.org/bokeh/release/bokeh-tables-0.13.0.min.css\");\n    }\n  ];\n\n  function run_inline_js() {\n    \n    if ((root.Bokeh !== undefined) || (force === true)) {\n      for (var i = 0; i < inline_js.length; i++) {\n        inline_js[i].call(root, root.Bokeh);\n      }if (force === true) {\n        display_loaded();\n      }} else if (Date.now() < root._bokeh_timeout) {\n      setTimeout(run_inline_js, 100);\n    } else if (!root._bokeh_failed_load) {\n      console.log(\"Bokeh: BokehJS failed to load within specified timeout.\");\n      root._bokeh_failed_load = true;\n    } else if (force !== true) {\n      var cell = $(document.getElementById(\"54e8a14e-3c06-49fc-be1c-4f7242694b50\")).parents('.cell').data().cell;\n      cell.output_area.append_execute_result(NB_LOAD_WARNING)\n    }\n\n  }\n\n  if (root._bokeh_is_loading === 0) {\n    console.log(\"Bokeh: BokehJS loaded, going straight to plotting\");\n    run_inline_js();\n  } else {\n    load_libs(js_urls, function() {\n      console.log(\"Bokeh: BokehJS plotting callback run at\", now());\n      run_inline_js();\n    });\n  }\n}(window));"
     },
     "metadata": {},
     "output_type": "display_data"
    }
   ],
   "source": [
    "import pandas as pd\n",
    "from bokeh.io import push_notebook, show, output_notebook\n",
    "from bokeh.plotting import figure\n",
    "from bokeh.models import ColumnDataSource, LabelSet\n",
    "output_notebook()"
   ]
  },
  {
   "cell_type": "code",
   "execution_count": 38,
   "metadata": {},
   "outputs": [
    {
     "data": {
      "text/html": [
       "\n",
       "\n",
       "\n",
       "\n",
       "\n",
       "\n",
       "  <div class=\"bk-root\" id=\"7590f967-032b-4f81-ae60-f5daf4a97d8f\"></div>\n"
      ]
     },
     "metadata": {},
     "output_type": "display_data"
    },
    {
     "data": {
      "application/javascript": [
       "(function(root) {\n",
       "  function embed_document(root) {\n",
       "    \n",
       "  var docs_json = {\"c356abc4-4a57-441a-bd0b-9d7b1be6866c\":{\"roots\":{\"references\":[{\"attributes\":{},\"id\":\"27e50c8e-304c-40bc-9bd6-895a9bc7cb4c\",\"type\":\"PanTool\"},{\"attributes\":{\"plot\":{\"id\":\"2724ead0-f6d7-4826-8c4d-e1cd3ab45e6f\",\"subtype\":\"Figure\",\"type\":\"Plot\"},\"source\":{\"id\":\"78074183-a750-49be-8890-8368bb99c488\",\"type\":\"ColumnDataSource\"},\"text\":{\"field\":\"document\"},\"text_align\":\"center\",\"text_color\":{\"value\":\"#555555\"},\"text_font_size\":{\"value\":\"8pt\"},\"x\":{\"field\":\"x\"},\"y\":{\"field\":\"y\"},\"y_offset\":{\"value\":8}},\"id\":\"e1a4a1c0-8ca6-42e6-b575-486fd88491b8\",\"type\":\"LabelSet\"},{\"attributes\":{\"below\":[{\"id\":\"9cfe6da2-66ec-42f8-b71f-62e3ab943fd8\",\"type\":\"LinearAxis\"}],\"left\":[{\"id\":\"c19d700b-6a90-4568-846a-9afa09a0c754\",\"type\":\"LinearAxis\"}],\"renderers\":[{\"id\":\"9cfe6da2-66ec-42f8-b71f-62e3ab943fd8\",\"type\":\"LinearAxis\"},{\"id\":\"cc8ce5c3-4adf-40f8-b200-d304e0868141\",\"type\":\"Grid\"},{\"id\":\"c19d700b-6a90-4568-846a-9afa09a0c754\",\"type\":\"LinearAxis\"},{\"id\":\"a12c3cbf-b95e-4d2b-b993-845d9186b02c\",\"type\":\"Grid\"},{\"id\":\"ffd60bca-57d8-4eeb-94e3-e135af26efac\",\"type\":\"BoxAnnotation\"},{\"id\":\"ddf8969f-9912-43d4-8e07-2b119b436c37\",\"type\":\"GlyphRenderer\"},{\"id\":\"e1a4a1c0-8ca6-42e6-b575-486fd88491b8\",\"type\":\"LabelSet\"}],\"title\":{\"id\":\"42cd5ade-4b23-4e5e-9ae6-1993ee79aa6c\",\"type\":\"Title\"},\"toolbar\":{\"id\":\"f28979f5-c033-4f95-9bca-d674630813a2\",\"type\":\"Toolbar\"},\"x_range\":{\"id\":\"f6e4b322-090b-4d4c-af80-545958f4a321\",\"type\":\"DataRange1d\"},\"x_scale\":{\"id\":\"c7c3da19-a474-4ebd-8734-aba8de79c56b\",\"type\":\"LinearScale\"},\"y_range\":{\"id\":\"612baffc-9262-46d0-8d37-2f740dc6b1c6\",\"type\":\"DataRange1d\"},\"y_scale\":{\"id\":\"a9dea72f-c5b5-4430-a87f-22a3944dd9dd\",\"type\":\"LinearScale\"}},\"id\":\"2724ead0-f6d7-4826-8c4d-e1cd3ab45e6f\",\"subtype\":\"Figure\",\"type\":\"Plot\"},{\"attributes\":{},\"id\":\"c1049e9c-f172-4516-911f-c8fa2796ed02\",\"type\":\"HelpTool\"},{\"attributes\":{\"bottom_units\":\"screen\",\"fill_alpha\":{\"value\":0.5},\"fill_color\":{\"value\":\"lightgrey\"},\"left_units\":\"screen\",\"level\":\"overlay\",\"line_alpha\":{\"value\":1.0},\"line_color\":{\"value\":\"black\"},\"line_dash\":[4,4],\"line_width\":{\"value\":2},\"plot\":null,\"render_mode\":\"css\",\"right_units\":\"screen\",\"top_units\":\"screen\"},\"id\":\"ffd60bca-57d8-4eeb-94e3-e135af26efac\",\"type\":\"BoxAnnotation\"},{\"attributes\":{},\"id\":\"d9995bb0-e404-45e5-a831-b806d84873a6\",\"type\":\"Selection\"},{\"attributes\":{},\"id\":\"30db9f94-fd93-44ef-842d-3264dfc0e92c\",\"type\":\"BasicTickFormatter\"},{\"attributes\":{\"formatter\":{\"id\":\"073982e4-b411-4411-a405-1170f7be382c\",\"type\":\"BasicTickFormatter\"},\"plot\":{\"id\":\"2724ead0-f6d7-4826-8c4d-e1cd3ab45e6f\",\"subtype\":\"Figure\",\"type\":\"Plot\"},\"ticker\":{\"id\":\"9603e24b-8045-44a1-a09e-8bdaa82daa95\",\"type\":\"BasicTicker\"}},\"id\":\"9cfe6da2-66ec-42f8-b71f-62e3ab943fd8\",\"type\":\"LinearAxis\"},{\"attributes\":{\"overlay\":{\"id\":\"ffd60bca-57d8-4eeb-94e3-e135af26efac\",\"type\":\"BoxAnnotation\"}},\"id\":\"b098ca07-6e11-41ef-a32b-5cda3aebae2b\",\"type\":\"BoxZoomTool\"},{\"attributes\":{},\"id\":\"d9339d93-e6ce-496a-895b-773ca747840f\",\"type\":\"WheelZoomTool\"},{\"attributes\":{},\"id\":\"d25eb70e-5e56-4564-9429-3b3dc79331f5\",\"type\":\"BasicTicker\"},{\"attributes\":{\"data_source\":{\"id\":\"78074183-a750-49be-8890-8368bb99c488\",\"type\":\"ColumnDataSource\"},\"glyph\":{\"id\":\"3a890ff0-a947-4116-981c-757e8a8350c7\",\"type\":\"Circle\"},\"hover_glyph\":null,\"muted_glyph\":null,\"nonselection_glyph\":{\"id\":\"ab6d5426-9c4a-4ec4-9a0b-203c5dbc4f8a\",\"type\":\"Circle\"},\"selection_glyph\":null,\"view\":{\"id\":\"e431bae4-1e65-45a1-9dc7-fcb233b2b152\",\"type\":\"CDSView\"}},\"id\":\"ddf8969f-9912-43d4-8e07-2b119b436c37\",\"type\":\"GlyphRenderer\"},{\"attributes\":{\"callback\":null},\"id\":\"612baffc-9262-46d0-8d37-2f740dc6b1c6\",\"type\":\"DataRange1d\"},{\"attributes\":{},\"id\":\"a9dea72f-c5b5-4430-a87f-22a3944dd9dd\",\"type\":\"LinearScale\"},{\"attributes\":{\"source\":{\"id\":\"78074183-a750-49be-8890-8368bb99c488\",\"type\":\"ColumnDataSource\"}},\"id\":\"e431bae4-1e65-45a1-9dc7-fcb233b2b152\",\"type\":\"CDSView\"},{\"attributes\":{\"formatter\":{\"id\":\"30db9f94-fd93-44ef-842d-3264dfc0e92c\",\"type\":\"BasicTickFormatter\"},\"plot\":{\"id\":\"2724ead0-f6d7-4826-8c4d-e1cd3ab45e6f\",\"subtype\":\"Figure\",\"type\":\"Plot\"},\"ticker\":{\"id\":\"d25eb70e-5e56-4564-9429-3b3dc79331f5\",\"type\":\"BasicTicker\"}},\"id\":\"c19d700b-6a90-4568-846a-9afa09a0c754\",\"type\":\"LinearAxis\"},{\"attributes\":{\"callback\":null},\"id\":\"f6e4b322-090b-4d4c-af80-545958f4a321\",\"type\":\"DataRange1d\"},{\"attributes\":{},\"id\":\"064ac53c-06c9-4947-ad4a-1716604d255d\",\"type\":\"SaveTool\"},{\"attributes\":{\"dimension\":1,\"plot\":{\"id\":\"2724ead0-f6d7-4826-8c4d-e1cd3ab45e6f\",\"subtype\":\"Figure\",\"type\":\"Plot\"},\"ticker\":{\"id\":\"d25eb70e-5e56-4564-9429-3b3dc79331f5\",\"type\":\"BasicTicker\"}},\"id\":\"a12c3cbf-b95e-4d2b-b993-845d9186b02c\",\"type\":\"Grid\"},{\"attributes\":{\"plot\":{\"id\":\"2724ead0-f6d7-4826-8c4d-e1cd3ab45e6f\",\"subtype\":\"Figure\",\"type\":\"Plot\"},\"ticker\":{\"id\":\"9603e24b-8045-44a1-a09e-8bdaa82daa95\",\"type\":\"BasicTicker\"}},\"id\":\"cc8ce5c3-4adf-40f8-b200-d304e0868141\",\"type\":\"Grid\"},{\"attributes\":{\"active_drag\":\"auto\",\"active_inspect\":\"auto\",\"active_multi\":null,\"active_scroll\":\"auto\",\"active_tap\":\"auto\",\"tools\":[{\"id\":\"27e50c8e-304c-40bc-9bd6-895a9bc7cb4c\",\"type\":\"PanTool\"},{\"id\":\"d9339d93-e6ce-496a-895b-773ca747840f\",\"type\":\"WheelZoomTool\"},{\"id\":\"b098ca07-6e11-41ef-a32b-5cda3aebae2b\",\"type\":\"BoxZoomTool\"},{\"id\":\"064ac53c-06c9-4947-ad4a-1716604d255d\",\"type\":\"SaveTool\"},{\"id\":\"c7fa1894-665c-4547-9eaf-f48e125cffbd\",\"type\":\"ResetTool\"},{\"id\":\"c1049e9c-f172-4516-911f-c8fa2796ed02\",\"type\":\"HelpTool\"}]},\"id\":\"f28979f5-c033-4f95-9bca-d674630813a2\",\"type\":\"Toolbar\"},{\"attributes\":{\"callback\":null,\"data\":{\"document\":[0,1,2,3,4],\"index\":[0,1,2,3,4],\"x\":{\"__ndarray__\":\"lDYLddEjREADuekir9tEQFi6flcPTklAj+lUr2ahPEARC7dJmKZAQA==\",\"dtype\":\"float64\",\"shape\":[5]},\"y\":{\"__ndarray__\":\"1B3DZ/qxMsB7s/1l5lMcwCZyhjVM7EZA4lEryFfkNcAwcSBYbl4zwA==\",\"dtype\":\"float64\",\"shape\":[5]}},\"selected\":{\"id\":\"d9995bb0-e404-45e5-a831-b806d84873a6\",\"type\":\"Selection\"},\"selection_policy\":{\"id\":\"9b2b47f4-f5db-462a-901d-f06303ecf48d\",\"type\":\"UnionRenderers\"}},\"id\":\"78074183-a750-49be-8890-8368bb99c488\",\"type\":\"ColumnDataSource\"},{\"attributes\":{},\"id\":\"9603e24b-8045-44a1-a09e-8bdaa82daa95\",\"type\":\"BasicTicker\"},{\"attributes\":{},\"id\":\"c7c3da19-a474-4ebd-8734-aba8de79c56b\",\"type\":\"LinearScale\"},{\"attributes\":{\"plot\":null,\"text\":\"\"},\"id\":\"42cd5ade-4b23-4e5e-9ae6-1993ee79aa6c\",\"type\":\"Title\"},{\"attributes\":{},\"id\":\"c7fa1894-665c-4547-9eaf-f48e125cffbd\",\"type\":\"ResetTool\"},{\"attributes\":{},\"id\":\"9b2b47f4-f5db-462a-901d-f06303ecf48d\",\"type\":\"UnionRenderers\"},{\"attributes\":{\"fill_alpha\":{\"value\":0.1},\"fill_color\":{\"value\":\"#1f77b4\"},\"line_alpha\":{\"value\":0.1},\"line_color\":{\"value\":\"#1f77b4\"},\"size\":{\"units\":\"screen\",\"value\":12},\"x\":{\"field\":\"x\"},\"y\":{\"field\":\"y\"}},\"id\":\"ab6d5426-9c4a-4ec4-9a0b-203c5dbc4f8a\",\"type\":\"Circle\"},{\"attributes\":{\"fill_alpha\":{\"value\":0.8},\"fill_color\":{\"value\":\"#1f77b4\"},\"size\":{\"units\":\"screen\",\"value\":12},\"x\":{\"field\":\"x\"},\"y\":{\"field\":\"y\"}},\"id\":\"3a890ff0-a947-4116-981c-757e8a8350c7\",\"type\":\"Circle\"},{\"attributes\":{},\"id\":\"073982e4-b411-4411-a405-1170f7be382c\",\"type\":\"BasicTickFormatter\"}],\"root_ids\":[\"2724ead0-f6d7-4826-8c4d-e1cd3ab45e6f\"]},\"title\":\"Bokeh Application\",\"version\":\"0.13.0\"}};\n",
       "  var render_items = [{\"docid\":\"c356abc4-4a57-441a-bd0b-9d7b1be6866c\",\"notebook_comms_target\":\"1d8a089e-9a39-4e3e-8275-79b5eb6a29eb\",\"roots\":{\"2724ead0-f6d7-4826-8c4d-e1cd3ab45e6f\":\"7590f967-032b-4f81-ae60-f5daf4a97d8f\"}}];\n",
       "  root.Bokeh.embed.embed_items_notebook(docs_json, render_items);\n",
       "\n",
       "  }\n",
       "  if (root.Bokeh !== undefined) {\n",
       "    embed_document(root);\n",
       "  } else {\n",
       "    var attempts = 0;\n",
       "    var timer = setInterval(function(root) {\n",
       "      if (root.Bokeh !== undefined) {\n",
       "        embed_document(root);\n",
       "        clearInterval(timer);\n",
       "      }\n",
       "      attempts++;\n",
       "      if (attempts > 100) {\n",
       "        console.log(\"Bokeh: ERROR: Unable to run BokehJS code because BokehJS library is missing\")\n",
       "        clearInterval(timer);\n",
       "      }\n",
       "    }, 10, root)\n",
       "  }\n",
       "})(window);"
      ],
      "application/vnd.bokehjs_exec.v0+json": ""
     },
     "metadata": {
      "application/vnd.bokehjs_exec.v0+json": {
       "id": "2724ead0-f6d7-4826-8c4d-e1cd3ab45e6f"
      }
     },
     "output_type": "display_data"
    },
    {
     "data": {
      "text/html": [
       "<p><code>&lt;Bokeh Notebook handle for <strong>In[38]</strong>&gt;</code></p>"
      ],
      "text/plain": [
       "<bokeh.io.notebook.CommsHandle at 0x7fde3c821ef0>"
      ]
     },
     "execution_count": 38,
     "metadata": {},
     "output_type": "execute_result"
    }
   ],
   "source": [
    "data_vectorized = top.vectorizer.transform(data)\n",
    "svd = TruncatedSVD(n_components=2)\n",
    "documents_2d = svd.fit_transform(data_vectorized)\n",
    " \n",
    "df = pd.DataFrame(columns=['x', 'y', 'document'])\n",
    "df['x'], df['y'], df['document'] = documents_2d[:,0], documents_2d[:,1], range(len(data))\n",
    " \n",
    "source = ColumnDataSource(ColumnDataSource.from_df(df))\n",
    "labels = LabelSet(x=\"x\", y=\"y\", text=\"document\", y_offset=8,\n",
    "                  text_font_size=\"8pt\", text_color=\"#555555\",\n",
    "                  source=source, text_align='center')\n",
    " \n",
    "plot = figure(plot_width=600, plot_height=600)\n",
    "plot.circle(\"x\", \"y\", size=12, source=source, line_color=\"black\", fill_alpha=0.8)\n",
    "plot.add_layout(labels)\n",
    "show(plot, notebook_handle=True)"
   ]
  },
  {
   "cell_type": "code",
   "execution_count": 39,
   "metadata": {},
   "outputs": [
    {
     "data": {
      "text/html": [
       "\n",
       "\n",
       "\n",
       "\n",
       "\n",
       "\n",
       "  <div class=\"bk-root\" id=\"8a5cbe70-abf9-4412-97a8-655e493aea1e\"></div>\n"
      ]
     },
     "metadata": {},
     "output_type": "display_data"
    },
    {
     "data": {
      "application/javascript": [
       "(function(root) {\n",
       "  function embed_document(root) {\n",
       "    \n",
       "  var docs_json = {\"149c7ac9-b630-46fb-8e97-4718b92ef378\":{\"roots\":{\"references\":[{\"attributes\":{\"fill_alpha\":{\"value\":0.1},\"fill_color\":{\"value\":\"#1f77b4\"},\"line_alpha\":{\"value\":0.1},\"line_color\":{\"value\":\"#1f77b4\"},\"size\":{\"units\":\"screen\",\"value\":12},\"x\":{\"field\":\"x\"},\"y\":{\"field\":\"y\"}},\"id\":\"5badea2b-00e8-4082-adc7-b9417bf680bb\",\"type\":\"Circle\"},{\"attributes\":{\"active_drag\":\"auto\",\"active_inspect\":\"auto\",\"active_multi\":null,\"active_scroll\":\"auto\",\"active_tap\":\"auto\",\"tools\":[{\"id\":\"08053b7f-01d0-4f16-80f6-c9aab816dd41\",\"type\":\"PanTool\"},{\"id\":\"5c85270d-ba8d-4ef8-9434-2615786c9dad\",\"type\":\"WheelZoomTool\"},{\"id\":\"f94fe150-f09b-4bfb-920d-3419ac09c18a\",\"type\":\"BoxZoomTool\"},{\"id\":\"4ee3e244-439a-4c55-9778-83c6582f2c06\",\"type\":\"SaveTool\"},{\"id\":\"d594a68e-fd7f-46b5-b389-33d28b0bb710\",\"type\":\"ResetTool\"},{\"id\":\"a8608a46-bb0d-4e6a-a9c6-62cc1fcd0f41\",\"type\":\"HelpTool\"}]},\"id\":\"19fe01ab-b0e0-433a-980e-5875eead3cf2\",\"type\":\"Toolbar\"},{\"attributes\":{\"below\":[{\"id\":\"ee68b251-c938-496a-b3e8-9fcbd877e2bd\",\"type\":\"LinearAxis\"}],\"left\":[{\"id\":\"57af2046-87d1-44bf-a568-d40ff624cc5e\",\"type\":\"LinearAxis\"}],\"renderers\":[{\"id\":\"ee68b251-c938-496a-b3e8-9fcbd877e2bd\",\"type\":\"LinearAxis\"},{\"id\":\"60b572d6-613c-4368-87cb-f7672d773217\",\"type\":\"Grid\"},{\"id\":\"57af2046-87d1-44bf-a568-d40ff624cc5e\",\"type\":\"LinearAxis\"},{\"id\":\"532f5413-5877-4c9c-adc2-f631b627034e\",\"type\":\"Grid\"},{\"id\":\"98c89fc7-1df7-44e3-94ab-1adf066df88c\",\"type\":\"BoxAnnotation\"},{\"id\":\"59dfb79a-5b63-48ff-b3fa-3e7914509aea\",\"type\":\"GlyphRenderer\"},{\"id\":\"ed4f8ae0-3e4e-46e4-b0cd-1afd6b3e00d6\",\"type\":\"LabelSet\"}],\"title\":{\"id\":\"25c0ed22-b798-448d-a42a-59670ce348f5\",\"type\":\"Title\"},\"toolbar\":{\"id\":\"19fe01ab-b0e0-433a-980e-5875eead3cf2\",\"type\":\"Toolbar\"},\"x_range\":{\"id\":\"767b9175-63f9-41bd-97ac-1ab8b8c5337d\",\"type\":\"DataRange1d\"},\"x_scale\":{\"id\":\"c5f9076e-c30f-40f1-8fe5-825d5bc2f0e4\",\"type\":\"LinearScale\"},\"y_range\":{\"id\":\"2b6de3a1-5ced-40c2-bb54-9531cb753ac9\",\"type\":\"DataRange1d\"},\"y_scale\":{\"id\":\"a58a9fcd-34dc-46a9-847d-5fd8d0b55577\",\"type\":\"LinearScale\"}},\"id\":\"76769223-b352-4997-91a8-9fb3bce63234\",\"subtype\":\"Figure\",\"type\":\"Plot\"},{\"attributes\":{\"overlay\":{\"id\":\"98c89fc7-1df7-44e3-94ab-1adf066df88c\",\"type\":\"BoxAnnotation\"}},\"id\":\"f94fe150-f09b-4bfb-920d-3419ac09c18a\",\"type\":\"BoxZoomTool\"},{\"attributes\":{\"plot\":{\"id\":\"76769223-b352-4997-91a8-9fb3bce63234\",\"subtype\":\"Figure\",\"type\":\"Plot\"},\"source\":{\"id\":\"efebb3e3-a7e0-417c-ab7c-d0a5b3180e2d\",\"type\":\"ColumnDataSource\"},\"text\":{\"field\":\"word\"},\"text_align\":\"center\",\"text_color\":{\"value\":\"#555555\"},\"text_font_size\":{\"value\":\"8pt\"},\"x\":{\"field\":\"x\"},\"y\":{\"field\":\"y\"},\"y_offset\":{\"value\":8}},\"id\":\"ed4f8ae0-3e4e-46e4-b0cd-1afd6b3e00d6\",\"type\":\"LabelSet\"},{\"attributes\":{\"callback\":null},\"id\":\"767b9175-63f9-41bd-97ac-1ab8b8c5337d\",\"type\":\"DataRange1d\"},{\"attributes\":{\"plot\":null,\"text\":\"\"},\"id\":\"25c0ed22-b798-448d-a42a-59670ce348f5\",\"type\":\"Title\"},{\"attributes\":{},\"id\":\"d98a735d-b2bb-46a2-9109-ec3755f48a8b\",\"type\":\"BasicTicker\"},{\"attributes\":{},\"id\":\"d594a68e-fd7f-46b5-b389-33d28b0bb710\",\"type\":\"ResetTool\"},{\"attributes\":{},\"id\":\"84946ba2-7ff4-4d38-8d75-efa4afb855a8\",\"type\":\"UnionRenderers\"},{\"attributes\":{\"bottom_units\":\"screen\",\"fill_alpha\":{\"value\":0.5},\"fill_color\":{\"value\":\"lightgrey\"},\"left_units\":\"screen\",\"level\":\"overlay\",\"line_alpha\":{\"value\":1.0},\"line_color\":{\"value\":\"black\"},\"line_dash\":[4,4],\"line_width\":{\"value\":2},\"plot\":null,\"render_mode\":\"css\",\"right_units\":\"screen\",\"top_units\":\"screen\"},\"id\":\"98c89fc7-1df7-44e3-94ab-1adf066df88c\",\"type\":\"BoxAnnotation\"},{\"attributes\":{\"source\":{\"id\":\"efebb3e3-a7e0-417c-ab7c-d0a5b3180e2d\",\"type\":\"ColumnDataSource\"}},\"id\":\"8f9bedd6-5ab0-4681-b9a4-381ab756083f\",\"type\":\"CDSView\"},{\"attributes\":{},\"id\":\"9a58a2d0-df2c-460a-9723-e9581d89bf94\",\"type\":\"BasicTickFormatter\"},{\"attributes\":{},\"id\":\"2d736481-9275-411a-8660-b6d64e61c9e6\",\"type\":\"Selection\"},{\"attributes\":{\"plot\":{\"id\":\"76769223-b352-4997-91a8-9fb3bce63234\",\"subtype\":\"Figure\",\"type\":\"Plot\"},\"ticker\":{\"id\":\"7b153056-8291-48ee-accc-eb877ddc5c46\",\"type\":\"BasicTicker\"}},\"id\":\"60b572d6-613c-4368-87cb-f7672d773217\",\"type\":\"Grid\"},{\"attributes\":{},\"id\":\"5c85270d-ba8d-4ef8-9434-2615786c9dad\",\"type\":\"WheelZoomTool\"},{\"attributes\":{},\"id\":\"4ee3e244-439a-4c55-9778-83c6582f2c06\",\"type\":\"SaveTool\"},{\"attributes\":{},\"id\":\"f16d44f1-0f7e-4081-8cdb-84b377610f1d\",\"type\":\"BasicTickFormatter\"},{\"attributes\":{\"dimension\":1,\"plot\":{\"id\":\"76769223-b352-4997-91a8-9fb3bce63234\",\"subtype\":\"Figure\",\"type\":\"Plot\"},\"ticker\":{\"id\":\"d98a735d-b2bb-46a2-9109-ec3755f48a8b\",\"type\":\"BasicTicker\"}},\"id\":\"532f5413-5877-4c9c-adc2-f631b627034e\",\"type\":\"Grid\"},{\"attributes\":{},\"id\":\"08053b7f-01d0-4f16-80f6-c9aab816dd41\",\"type\":\"PanTool\"},{\"attributes\":{},\"id\":\"a8608a46-bb0d-4e6a-a9c6-62cc1fcd0f41\",\"type\":\"HelpTool\"},{\"attributes\":{\"callback\":null},\"id\":\"2b6de3a1-5ced-40c2-bb54-9531cb753ac9\",\"type\":\"DataRange1d\"},{\"attributes\":{\"fill_alpha\":{\"value\":0.8},\"fill_color\":{\"value\":\"#1f77b4\"},\"size\":{\"units\":\"screen\",\"value\":12},\"x\":{\"field\":\"x\"},\"y\":{\"field\":\"y\"}},\"id\":\"87952e94-eaee-44d4-8948-994fa2ff909c\",\"type\":\"Circle\"},{\"attributes\":{},\"id\":\"c5f9076e-c30f-40f1-8fe5-825d5bc2f0e4\",\"type\":\"LinearScale\"},{\"attributes\":{\"formatter\":{\"id\":\"9a58a2d0-df2c-460a-9723-e9581d89bf94\",\"type\":\"BasicTickFormatter\"},\"plot\":{\"id\":\"76769223-b352-4997-91a8-9fb3bce63234\",\"subtype\":\"Figure\",\"type\":\"Plot\"},\"ticker\":{\"id\":\"d98a735d-b2bb-46a2-9109-ec3755f48a8b\",\"type\":\"BasicTicker\"}},\"id\":\"57af2046-87d1-44bf-a568-d40ff624cc5e\",\"type\":\"LinearAxis\"},{\"attributes\":{},\"id\":\"a58a9fcd-34dc-46a9-847d-5fd8d0b55577\",\"type\":\"LinearScale\"},{\"attributes\":{\"callback\":null,\"data\":{\"index\":[0,1,2,3,4,5,6,7,8,9,10,11,12,13,14,15,16,17,18,19,20,21,22,23,24,25,26,27,28,29,30,31,32,33,34,35,36,37,38,39,40,41,42,43,44,45,46,47,48,49,50,51,52,53,54,55,56,57,58,59,60,61,62,63,64,65,66,67,68,69,70,71,72,73,74,75,76,77,78,79,80,81,82,83,84,85,86,87,88,89,90,91,92,93,94,95,96,97,98,99,100,101,102,103,104,105,106,107,108,109,110,111,112,113,114,115,116,117,118,119,120,121,122,123,124,125,126,127,128,129,130,131,132,133,134,135,136,137,138,139,140,141,142,143,144,145,146,147,148,149,150,151,152,153,154,155,156,157,158,159,160,161,162,163,164,165,166,167,168,169,170,171,172,173,174,175,176,177,178,179,180,181,182,183,184,185,186,187,188,189,190,191,192,193,194,195,196,197,198,199,200,201,202,203,204,205,206,207,208,209,210,211,212,213,214,215,216,217,218,219,220,221,222,223,224,225,226,227,228,229,230,231,232,233,234,235,236,237,238,239,240,241,242,243,244,245,246,247,248,249,250,251,252,253,254,255,256,257,258,259,260,261,262,263,264,265,266,267,268,269,270,271,272,273,274,275,276,277,278,279,280,281,282,283,284,285,286,287,288,289,290,291,292,293,294,295,296,297,298,299,300,301,302,303,304,305,306,307,308,309,310,311,312,313,314,315,316,317,318,319,320,321,322,323,324,325,326,327,328,329,330,331,332,333,334,335,336,337,338,339,340,341,342,343,344,345,346,347,348,349,350,351,352,353,354,355,356,357,358,359,360,361,362,363,364,365,366,367,368,369,370,371,372,373,374,375,376,377,378,379,380,381,382,383,384,385,386,387,388,389,390,391,392,393,394,395,396,397,398,399,400,401,402,403,404,405,406,407,408,409,410,411,412,413,414,415,416,417,418,419,420,421,422,423,424,425,426,427,428,429,430,431,432,433,434,435,436,437,438,439,440,441,442,443,444,445,446,447,448,449,450,451,452,453,454,455,456,457,458,459,460,461,462,463,464,465,466,467,468,469,470,471,472,473,474,475,476,477,478,479,480,481,482,483,484,485,486,487,488,489,490,491,492,493,494,495,496,497,498,499,500,501,502,503,504,505,506,507,508,509,510,511,512,513,514,515,516,517,518,519,520,521,522,523,524,525,526,527,528,529,530,531,532,533,534,535,536,537,538,539,540,541,542,543,544,545,546,547,548,549,550,551,552,553,554,555,556,557,558,559,560,561,562,563,564,565,566,567,568,569,570,571,572,573,574,575,576,577,578,579,580,581,582,583,584,585,586,587,588,589,590,591,592,593,594,595,596,597,598,599,600,601,602,603,604,605,606,607,608,609,610,611,612,613,614,615,616,617,618,619,620,621,622,623,624,625,626,627,628,629,630,631,632,633,634,635,636,637,638,639,640,641,642,643,644,645,646,647,648,649,650,651,652,653,654,655,656,657,658,659,660,661,662,663,664,665,666,667,668,669,670,671,672,673,674,675,676,677,678,679,680,681,682,683,684,685,686,687,688,689,690,691,692,693,694,695,696,697,698,699,700,701,702,703,704,705,706,707,708,709,710,711,712,713,714,715,716,717,718,719,720,721,722,723,724,725,726,727,728,729,730,731,732,733,734,735,736,737,738,739,740,741,742,743,744,745,746,747,748,749,750,751,752,753,754,755,756,757,758,759,760,761,762,763,764,765,766,767,768,769,770,771,772,773,774,775,776,777,778,779,780,781,782,783,784,785,786,787,788,789,790,791,792,793,794,795,796,797,798,799,800,801,802,803,804,805,806,807,808,809,810,811,812,813,814,815,816,817,818,819,820,821,822,823,824,825,826,827,828,829,830,831,832,833,834,835,836,837,838,839,840,841,842,843,844,845,846,847,848,849,850,851,852,853,854,855,856,857,858,859,860,861,862,863,864,865,866,867,868,869,870,871,872,873,874,875,876,877,878,879,880,881,882,883,884,885,886,887,888,889,890,891,892,893,894,895,896,897,898,899,900,901,902,903,904,905,906,907,908,909,910,911,912,913,914,915,916,917,918,919,920,921,922,923,924,925,926,927,928,929,930,931,932,933,934,935,936,937,938,939,940,941,942,943,944,945,946,947,948,949,950,951,952,953,954,955,956,957,958,959,960,961,962,963,964,965,966,967,968,969,970,971,972,973,974,975,976,977,978,979,980,981,982,983,984,985,986,987,988,989,990,991,992,993,994,995,996,997,998,999,1000,1001,1002,1003,1004,1005,1006,1007,1008,1009,1010,1011,1012,1013,1014,1015,1016,1017,1018,1019,1020,1021,1022,1023,1024,1025,1026,1027,1028,1029,1030,1031,1032,1033,1034,1035,1036,1037,1038,1039,1040,1041,1042,1043,1044,1045,1046,1047,1048,1049,1050,1051,1052,1053,1054,1055,1056,1057,1058,1059,1060,1061,1062,1063,1064,1065,1066,1067,1068,1069,1070,1071,1072,1073,1074,1075,1076,1077,1078,1079,1080,1081,1082,1083,1084,1085,1086,1087,1088,1089,1090,1091,1092,1093,1094,1095,1096,1097,1098,1099,1100,1101,1102,1103,1104,1105,1106,1107,1108,1109,1110,1111,1112,1113,1114,1115,1116,1117,1118,1119,1120,1121,1122,1123,1124,1125,1126,1127,1128,1129,1130,1131,1132,1133,1134,1135,1136,1137,1138,1139,1140,1141,1142,1143,1144,1145,1146,1147,1148,1149,1150,1151,1152,1153,1154,1155,1156,1157,1158,1159,1160,1161,1162,1163,1164,1165,1166,1167,1168,1169,1170,1171,1172,1173,1174,1175,1176,1177,1178,1179,1180,1181,1182,1183,1184,1185,1186,1187,1188,1189,1190,1191,1192,1193,1194,1195,1196,1197,1198,1199,1200,1201,1202,1203,1204,1205,1206,1207,1208,1209,1210,1211,1212,1213,1214,1215,1216,1217,1218,1219,1220,1221,1222,1223,1224,1225,1226,1227,1228,1229,1230,1231,1232,1233,1234,1235,1236,1237,1238,1239,1240,1241,1242,1243,1244,1245,1246,1247,1248,1249,1250,1251,1252,1253,1254,1255,1256,1257,1258,1259,1260,1261,1262,1263,1264,1265,1266,1267,1268,1269,1270,1271,1272,1273,1274,1275,1276,1277,1278,1279,1280,1281,1282,1283,1284,1285,1286,1287,1288,1289,1290,1291,1292,1293,1294,1295,1296,1297,1298,1299,1300,1301,1302,1303,1304,1305,1306,1307,1308,1309,1310,1311,1312,1313,1314,1315,1316,1317,1318,1319,1320,1321,1322,1323,1324,1325,1326,1327,1328,1329,1330,1331,1332,1333,1334,1335,1336,1337,1338,1339,1340,1341,1342,1343,1344,1345,1346,1347,1348,1349,1350,1351,1352,1353,1354,1355,1356,1357,1358,1359,1360,1361,1362,1363,1364,1365,1366,1367,1368,1369,1370,1371,1372,1373,1374,1375,1376,1377,1378,1379,1380,1381,1382,1383,1384,1385,1386,1387,1388,1389,1390,1391,1392,1393,1394,1395,1396,1397,1398,1399,1400,1401,1402,1403,1404,1405,1406,1407,1408,1409,1410,1411,1412,1413,1414,1415,1416,1417,1418,1419,1420,1421,1422,1423,1424,1425,1426,1427,1428,1429,1430,1431,1432,1433,1434,1435,1436,1437,1438,1439,1440,1441,1442,1443,1444,1445,1446,1447,1448,1449,1450,1451,1452,1453,1454,1455,1456,1457,1458,1459,1460,1461,1462,1463,1464,1465,1466,1467,1468,1469,1470,1471,1472,1473,1474,1475,1476,1477,1478,1479,1480,1481,1482,1483,1484,1485,1486,1487,1488,1489,1490,1491,1492,1493,1494,1495,1496,1497,1498,1499,1500,1501,1502,1503,1504,1505,1506,1507,1508,1509,1510,1511,1512,1513,1514,1515,1516,1517,1518,1519,1520,1521,1522,1523,1524,1525,1526,1527,1528,1529,1530,1531,1532,1533,1534,1535,1536,1537,1538,1539,1540,1541,1542,1543,1544,1545,1546,1547,1548,1549,1550,1551,1552,1553,1554,1555,1556,1557,1558,1559,1560,1561,1562,1563,1564,1565,1566,1567,1568,1569,1570,1571,1572,1573,1574,1575,1576,1577,1578,1579,1580,1581,1582,1583,1584,1585,1586,1587,1588,1589,1590,1591,1592,1593,1594,1595,1596,1597,1598,1599,1600,1601,1602,1603,1604,1605,1606,1607,1608,1609,1610,1611,1612,1613,1614,1615,1616,1617,1618,1619,1620,1621,1622,1623,1624,1625,1626,1627,1628,1629,1630,1631,1632,1633,1634,1635,1636,1637,1638,1639,1640,1641,1642,1643,1644,1645,1646,1647,1648,1649,1650,1651,1652,1653,1654,1655,1656,1657,1658,1659,1660,1661,1662,1663,1664,1665,1666,1667,1668,1669,1670,1671,1672,1673,1674,1675,1676,1677,1678,1679,1680,1681,1682,1683,1684,1685,1686,1687,1688,1689,1690,1691,1692,1693,1694,1695,1696,1697,1698,1699,1700,1701,1702,1703,1704,1705,1706,1707,1708,1709,1710,1711,1712,1713,1714,1715,1716,1717,1718,1719,1720,1721,1722,1723,1724,1725,1726,1727,1728,1729,1730,1731,1732,1733],\"word\":[\"13th\",\"18th\",\"23d\",\"24th\",\"28th\",\"29th\",\"31st\",\"4-year\",\"4th\",\"58th\",\"9th\",\"a.\",\"abandon\",\"abatuno\",\"able\",\"absence\",\"absent\",\"absolute\",\"absorb\",\"abuse\",\"accept\",\"acceptable\",\"acclaim\",\"accord\",\"account\",\"accredit\",\"achieve\",\"achievement\",\"acquire\",\"act\",\"action\",\"activity\",\"adamant\",\"adc\",\"add\",\"addition\",\"additional\",\"address\",\"adjournment\",\"adjustment\",\"administration\",\"administrator\",\"admit\",\"adopt\",\"advance\",\"advantage\",\"adverse\",\"advise\",\"advisement\",\"adviser\",\"advisory\",\"advocacy\",\"affair\",\"affect\",\"affirmation\",\"affix\",\"afford\",\"africa\",\"afternoon\",\"age\",\"aged\",\"agency\",\"aggression\",\"agree\",\"agriculture\",\"aid\",\"air\",\"airport\",\"alan\",\"alleged\",\"alliance\",\"allot\",\"allow\",\"allowance\",\"ally\",\"alpharetta\",\"alternative\",\"altho\",\"amateurish\",\"ambiguous\",\"ambitious\",\"amend\",\"amendment\",\"america\",\"american\",\"amicable\",\"analysis\",\"angola\",\"animate\",\"announce\",\"annual\",\"anonymous\",\"anticipate\",\"apparent\",\"appear\",\"application\",\"apply\",\"appoint\",\"appointee\",\"appointment\",\"appraiser\",\"appreciation\",\"appropriation\",\"approval\",\"approve\",\"april\",\"area\",\"argue\",\"arise\",\"arkansa\",\"arm\",\"army\",\"arrest\",\"asia\",\"asian\",\"ask\",\"aspect\",\"assail\",\"assemble\",\"assembly\",\"assertion\",\"assign\",\"assist\",\"assistance\",\"assistant\",\"associate\",\"association\",\"assure\",\"athletic\",\"atlanta\",\"atlantic\",\"atmosphere\",\"atomic\",\"attachment\",\"attack\",\"attempt\",\"attend\",\"attention\",\"attorney\",\"atty\",\"audience\",\"austin\",\"authority\",\"authorize\",\"automobile\",\"available\",\"average\",\"avoid\",\"award\",\"awareness\",\"aye\",\"b.\",\"bachelor\",\"balance\",\"ballot\",\"ban\",\"bank\",\"banker\",\"bar\",\"barber\",\"base\",\"basic\",\"basis\",\"basketball\",\"battle\",\"bay\",\"bear\",\"beaumont\",\"begin\",\"believe\",\"bellow\",\"bellwood\",\"bench\",\"benefit\",\"berlin\",\"berry\",\"bet\",\"betting\",\"bexar\",\"big\",\"bill\",\"biltmore\",\"birth\",\"bit\",\"bitter\",\"blend\",\"bloc\",\"blue\",\"blunder\",\"board\",\"body\",\"bond\",\"book\",\"boost\",\"border\",\"boston\",\"bourcier\",\"bowden\",\"boy\",\"brady\",\"breakdown\",\"breakup\",\"brief\",\"bring\",\"broker\",\"buchanan\",\"budget\",\"build\",\"building\",\"burden\",\"bureau\",\"burglary\",\"bush\",\"business\",\"byrd\",\"c.\",\"cabinet\",\"calendar\",\"callan\",\"calm\",\"campaign\",\"canada\",\"candidate\",\"candor\",\"canvasser\",\"capacity\",\"cape\",\"capital\",\"capitol\",\"captain\",\"car\",\"care\",\"career\",\"carry\",\"carson\",\"case\",\"castro\",\"catch\",\"cd\",\"cease\",\"cent\",\"central\",\"centralize\",\"certain\",\"certificate\",\"chain\",\"chairman\",\"chamber\",\"chance\",\"change\",\"channel\",\"chapman\",\"charge\",\"charle\",\"charter\",\"check\",\"chemistry\",\"cheshire\",\"chief\",\"child\",\"choice\",\"choose\",\"church\",\"circulation\",\"circumstance\",\"cite\",\"citizen\",\"city\",\"civil\",\"claim\",\"clarence\",\"clark\",\"clash\",\"class\",\"clear\",\"clement\",\"clerical\",\"clerk\",\"client\",\"climate\",\"clinic\",\"close\",\"club\",\"co.\",\"coalition\",\"coast\",\"cod\",\"coercion\",\"college\",\"colonial\",\"colonialist\",\"color\",\"colquitt\",\"combat\",\"combine\",\"come\",\"comment\",\"commerce\",\"commission\",\"commissioner\",\"committee\",\"communist\",\"community\",\"company\",\"compel\",\"compensation\",\"compete\",\"complain\",\"complementary\",\"complete\",\"completion\",\"complication\",\"compose\",\"composition\",\"compulsory\",\"con\",\"concentrate\",\"concern\",\"concessionaire\",\"conciliatory\",\"conclude\",\"condition\",\"conduct\",\"conference\",\"confess\",\"confidence\",\"confirm\",\"conflict\",\"confront\",\"confrontation\",\"congress\",\"congressional\",\"congressman\",\"connection\",\"consent\",\"conservative\",\"consider\",\"conspicuous\",\"constitute\",\"constitution\",\"constitutional\",\"construct\",\"construction\",\"constructive\",\"construe\",\"consult\",\"consultation\",\"consulting\",\"contempt\",\"contend\",\"contention\",\"contingency\",\"continue\",\"continuous\",\"contract\",\"contractual\",\"contribution\",\"control\",\"controversy\",\"conventional\",\"cook\",\"cool\",\"cooperation\",\"coordinate\",\"coordinator\",\"cope\",\"copy\",\"core\",\"cornerstone\",\"corporation\",\"corps\",\"correct\",\"correctness\",\"correspondent\",\"cost\",\"costly\",\"cotten\",\"council\",\"counsel\",\"counseling\",\"count\",\"country\",\"county\",\"couple\",\"course\",\"court\",\"courteous\",\"courtroom\",\"cover\",\"cox\",\"creation\",\"credit\",\"crime\",\"criminal\",\"crisis\",\"critic\",\"critical\",\"criticism\",\"criticize\",\"crowd\",\"cruelty\",\"crump\",\"cuba\",\"cuban\",\"culminate\",\"current\",\"customary\",\"customer\",\"cut\",\"d.\",\"daily\",\"dalla\",\"danger\",\"daniel\",\"date\",\"daughter\",\"david\",\"day\",\"deaf\",\"deal\",\"dean\",\"death\",\"debate\",\"decide\",\"decision\",\"declare\",\"decrease\",\"deductible\",\"defeat\",\"defendant\",\"defender\",\"defense\",\"deficit\",\"defray\",\"degree\",\"delay\",\"delegation\",\"delinquency\",\"deliver\",\"demand\",\"democratic\",\"dental\",\"dentistry\",\"denton\",\"deny\",\"department\",\"depend\",\"dependency\",\"dependent\",\"depositor\",\"deputy\",\"describe\",\"desertion\",\"deserve\",\"design\",\"destroy\",\"detach\",\"detail\",\"detailed\",\"detente\",\"determination\",\"determine\",\"deterrent\",\"develop\",\"development\",\"devote\",\"dewey\",\"diagnostic\",\"difference\",\"different\",\"difficult\",\"difficulty\",\"diplomat\",\"diplomatic\",\"direct\",\"direction\",\"director\",\"dirksen\",\"disable\",\"disagree\",\"disappointment\",\"disapprove\",\"discharge\",\"disclose\",\"disclosure\",\"discourage\",\"discrimination\",\"discuss\",\"discussion\",\"dismiss\",\"display\",\"disposal\",\"disposition\",\"disproportionate\",\"dispute\",\"dissent\",\"distance\",\"distribute\",\"distribution\",\"district\",\"disturb\",\"divide\",\"divorce\",\"docile\",\"doctor\",\"dollar\",\"domain\",\"dominate\",\"domination\",\"donation\",\"dorsey\",\"double\",\"doubt\",\"draft\",\"drain\",\"dramatic\",\"drift\",\"drive\",\"drop\",\"durwood\",\"duty\",\"e.\",\"early\",\"earn\",\"east\",\"economic\",\"economy\",\"education\",\"educational\",\"educator\",\"effect\",\"effective\",\"efficiency\",\"effort\",\"eisenhower\",\"elaborate\",\"elect\",\"election\",\"element\",\"eligible\",\"eliminate\",\"emerge\",\"eminent\",\"emphasis\",\"emphasize\",\"employ\",\"employe\",\"employer\",\"employment\",\"enable\",\"enact\",\"enactment\",\"encourage\",\"encouragement\",\"end\",\"endorse\",\"enemy\",\"energy\",\"enforce\",\"enforcement\",\"engage\",\"english\",\"enlarge\",\"entail\",\"enter\",\"enterprise\",\"enthusiasm\",\"enthusiastic\",\"enunciate\",\"equal\",\"equipment\",\"equitable\",\"erase\",\"err\",\"error\",\"erupt\",\"escheat\",\"essence\",\"essential\",\"establish\",\"establishment\",\"estate\",\"estimate\",\"european\",\"event\",\"evidence\",\"exacerbate\",\"exact\",\"examine\",\"exception\",\"excess\",\"excise\",\"excuse\",\"executive\",\"exile\",\"exist\",\"expand\",\"expect\",\"expend\",\"expense\",\"experienced\",\"experimental\",\"expert\",\"expire\",\"explain\",\"explanation\",\"exploratory\",\"explosion\",\"expose\",\"express\",\"extend\",\"extended\",\"extension\",\"extern\",\"extraordinary\",\"eye\",\"f.\",\"face\",\"facility\",\"fact\",\"factor\",\"factory\",\"fail\",\"failure\",\"fair\",\"fall\",\"false\",\"family\",\"fare\",\"farm\",\"fast\",\"fate\",\"favor\",\"favorable\",\"fear\",\"feature\",\"feb\",\"federal\",\"fee\",\"feed\",\"feel\",\"felix\",\"fellow\",\"fiasco\",\"field\",\"fight\",\"fighting\",\"figure\",\"file\",\"fill\",\"final\",\"finance\",\"financial\",\"find\",\"fine\",\"fire\",\"firm\",\"fiscal\",\"fit\",\"fix\",\"fleet\",\"floor\",\"folk\",\"follow\",\"food\",\"football\",\"force\",\"foreign\",\"form\",\"formative\",\"formula\",\"fort\",\"foster\",\"fourth\",\"frame\",\"frank\",\"franker\",\"free\",\"freedom\",\"freeze\",\"friction\",\"friday\",\"friendly\",\"fulbright\",\"fulfil\",\"fulton\",\"function\",\"fund\",\"future\",\"gain\",\"gallup\",\"galveston\",\"gambler\",\"garland\",\"garza\",\"gas\",\"gaynor\",\"gen\",\"general\",\"geneva\",\"genuine\",\"geographical\",\"george\",\"georgia\",\"gesture\",\"gift\",\"global\",\"globe\",\"goal\",\"goldberg\",\"good\",\"gop\",\"gov\",\"govern\",\"government\",\"governor\",\"grady\",\"grand\",\"grant\",\"great\",\"griffin\",\"grocery\",\"groom\",\"gross\",\"ground\",\"group\",\"grover\",\"growth\",\"guarantee\",\"guardian\",\"gubernatorial\",\"guilt\",\"guilty\",\"gulf\",\"gun\",\"h.\",\"hackett\",\"hail\",\"half\",\"hamlet\",\"hand\",\"handful\",\"handle\",\"happen\",\"hard\",\"harlingen\",\"harris\",\"harsh\",\"harvard\",\"hasten\",\"hawksley\",\"hay\",\"head\",\"headquarters\",\"health\",\"hear\",\"hearing\",\"heart\",\"heavy\",\"help\",\"henry\",\"hesitate\",\"high\",\"highway\",\"hill\",\"hilt\",\"hire\",\"history\",\"hold\",\"hollowell\",\"home\",\"honor\",\"hop\",\"hope\",\"hopper\",\"horse\",\"hospital\",\"hot\",\"hotel\",\"hour\",\"house\",\"housing\",\"houston\",\"howard\",\"hudson\",\"huge\",\"hughe\",\"hurdle\",\"hyannis\",\"idea\",\"ignore\",\"ill\",\"illegal\",\"illegitimacy\",\"illness\",\"immediate\",\"impair\",\"impetus\",\"implementation\",\"important\",\"impose\",\"impossible\",\"impression\",\"improve\",\"inadequate\",\"inclination\",\"include\",\"inconclusive\",\"incorporate\",\"increase\",\"ind\",\"independent\",\"indicate\",\"indispensable\",\"individual\",\"industrial\",\"influence\",\"inform\",\"information\",\"initial\",\"innocence\",\"inquire\",\"insist\",\"inspection\",\"inspire\",\"instance\",\"institute\",\"instructor\",\"insurance\",\"insure\",\"insurgent\",\"intelligent\",\"intend\",\"interest\",\"interested\",\"interim\",\"interlude\",\"intern\",\"international\",\"interval\",\"intervention\",\"intimidation\",\"introduce\",\"inure\",\"invasion\",\"investigate\",\"investigation\",\"involve\",\"irregularity\",\"island\",\"issuance\",\"issue\",\"item\",\"j.\",\"jackson\",\"jail\",\"job\",\"johnston\",\"join\",\"joseph\",\"judge\",\"junior\",\"juror\",\"jury\",\"justice\",\"juvenile\",\"karn\",\"kentucky\",\"keynote\",\"kill\",\"kind\",\"know\",\"knowledge\",\"kremlin\",\"l.\",\"labor\",\"lack\",\"lao\",\"laos\",\"larceny\",\"large\",\"late\",\"later\",\"latin\",\"laughlin\",\"law\",\"lawrence\",\"lawyer\",\"lead\",\"leader\",\"leadership\",\"league\",\"lean\",\"learn\",\"leave\",\"ledford\",\"legal\",\"legislation\",\"legislative\",\"legislator\",\"legislature\",\"let\",\"letter\",\"letterman\",\"level\",\"lever\",\"levy\",\"liberal\",\"license\",\"licensing\",\"lie\",\"lieutenant\",\"limit\",\"limited\",\"line\",\"liquor\",\"list\",\"listen\",\"little\",\"live\",\"livelihood\",\"load\",\"loan\",\"local\",\"locate\",\"locomotive\",\"long\",\"look\",\"lose\",\"loss\",\"louis\",\"luncheon\",\"m.\",\"mac\",\"machinist\",\"main\",\"maintenance\",\"major\",\"majority\",\"malinger\",\"mammoth\",\"man\",\"management\",\"manifestation\",\"manner\",\"manufacturer\",\"march\",\"mark\",\"marry\",\"marshall\",\"martin\",\"martinelli\",\"marvin\",\"mass\",\"massachusett\",\"master\",\"match\",\"matching\",\"math\",\"matter\",\"maximum\",\"mayor\",\"mclemore\",\"meager\",\"mean\",\"meaning\",\"meantime\",\"measure\",\"medical\",\"medicine\",\"meet\",\"meeting\",\"member\",\"mental\",\"mention\",\"merchandise\",\"merger\",\"message\",\"method\",\"michael\",\"midmorning\",\"midnight\",\"mighty\",\"military\",\"miller\",\"mind\",\"minister\",\"minor\",\"minute\",\"miscellaneous\",\"miscount\",\"miss\",\"mission\",\"misunderstand\",\"misuse\",\"model\",\"modernize\",\"modest\",\"modification\",\"modify\",\"money\",\"month\",\"monthly\",\"monumental\",\"mood\",\"morris\",\"motorist\",\"movement\",\"mrs\",\"multi\",\"multiply\",\"municipal\",\"mutual\",\"nam\",\"narragansett\",\"nation\",\"national\",\"nationalism\",\"nationwide\",\"nato\",\"natural\",\"nature\",\"naval\",\"navigation\",\"ne\",\"need\",\"needy\",\"negative\",\"negotiation\",\"negro\",\"neighbor\",\"neighborhood\",\"neutral\",\"neutralist\",\"neutralize\",\"new\",\"newton\",\"night\",\"nightmare\",\"nixon\",\"nominate\",\"non\",\"normal\",\"north\",\"northernmost\",\"norway\",\"notarize\",\"note\",\"notice\",\"noticeable\",\"notte\",\"november\",\"nuclear\",\"nugent\",\"number\",\"nurse\",\"nursing\",\"o.\",\"obligation\",\"observer\",\"obtain\",\"occupation\",\"offender\",\"offense\",\"offer\",\"office\",\"officer\",\"official\",\"okla\",\"oklahoma\",\"old\",\"opelika\",\"open\",\"operate\",\"operation\",\"opinion\",\"opponent\",\"oppose\",\"opposition\",\"optimism\",\"option\",\"order\",\"orderly\",\"ordinance\",\"ordinary\",\"ore\",\"organization\",\"organize\",\"original\",\"oslo\",\"outcome\",\"outgoing\",\"outlay\",\"outlet\",\"outline\",\"outmode\",\"outpatient\",\"overcrowding\",\"owen\",\"p.\",\"parent\",\"parimutuel\",\"paris\",\"parkhouse\",\"parson\",\"participate\",\"partisan\",\"party\",\"pass\",\"passage\",\"past\",\"pathet\",\"patient\",\"patrolman\",\"pay\",\"payment\",\"payroll\",\"peanut\",\"pearl\",\"pelham\",\"penalty\",\"pend\",\"pension\",\"people\",\"perform\",\"period\",\"periodic\",\"permit\",\"person\",\"personal\",\"personnel\",\"persuade\",\"pertain\",\"pertinent\",\"petition\",\"philosophy\",\"phone\",\"phouma\",\"physics\",\"pick\",\"pierre\",\"pin\",\"pipeline\",\"pirie\",\"pistol\",\"place\",\"plainview\",\"plan\",\"planning\",\"platform\",\"plead\",\"pocket\",\"point\",\"police\",\"policeman\",\"policy\",\"politic\",\"political\",\"poll\",\"pony\",\"pool\",\"poor\",\"popularity\",\"population\",\"populous\",\"port\",\"portion\",\"portugal\",\"position\",\"positive\",\"possibility\",\"possible\",\"post\",\"power\",\"practice\",\"praise\",\"precedent\",\"precinct\",\"precipitate\",\"prediction\",\"prefer\",\"prejudicial\",\"prelude\",\"preoccupy\",\"prepared\",\"prepayment\",\"present\",\"presentment\",\"preserve\",\"president\",\"presidential\",\"press\",\"pressure\",\"pretense\",\"prevent\",\"prevention\",\"previous\",\"price\",\"pricing\",\"prick\",\"primary\",\"prince\",\"principal\",\"print\",\"priority\",\"prison\",\"privilege\",\"pro\",\"problem\",\"procedure\",\"proceed\",\"proceeding\",\"process\",\"procurement\",\"produce\",\"product\",\"professor\",\"profit\",\"profound\",\"program\",\"project\",\"promise\",\"property\",\"proportionate\",\"proposal\",\"propose\",\"prosecute\",\"prosecution\",\"prosecutor\",\"protect\",\"protest\",\"prove\",\"provide\",\"providence\",\"provision\",\"provocation\",\"public\",\"pull\",\"purchase\",\"purpose\",\"push\",\"pye\",\"qualified\",\"quarrel\",\"question\",\"quickie\",\"quiet\",\"r.\",\"race\",\"racial\",\"radio\",\"railroad\",\"raise\",\"rally\",\"range\",\"rank\",\"rapid\",\"ratcliff\",\"rate\",\"ratify\",\"rayburn\",\"raymond\",\"raymondville\",\"rd\",\"react\",\"reaction\",\"read\",\"ready\",\"real\",\"realization\",\"realize\",\"reama\",\"reasonable\",\"receive\",\"recent\",\"recipient\",\"recognize\",\"recommend\",\"recommendation\",\"reconsideration\",\"reconstruction\",\"record\",\"reduce\",\"reelection\",\"refer\",\"referendum\",\"reform\",\"regard\",\"regent\",\"regime\",\"register\",\"registration\",\"regroup\",\"regular\",\"regulate\",\"rehabilitation\",\"reiterate\",\"reject\",\"rejection\",\"rekindle\",\"relation\",\"relative\",\"relaxation\",\"release\",\"relieve\",\"religious\",\"relinquish\",\"remainder\",\"remedy\",\"removal\",\"remove\",\"rep\",\"repair\",\"repeal\",\"repeat\",\"reply\",\"report\",\"represent\",\"representative\",\"republic\",\"republican\",\"request\",\"require\",\"requirement\",\"rescind\",\"rescue\",\"research\",\"reservoir\",\"resident\",\"residential\",\"resign\",\"resignation\",\"resolution\",\"resource\",\"respect\",\"respond\",\"response\",\"responsibility\",\"responsible\",\"restrain\",\"result\",\"resumption\",\"retailer\",\"retain\",\"retarded\",\"retire\",\"retirement\",\"return\",\"revamp\",\"revenue\",\"review\",\"revise\",\"revision\",\"revolt\",\"revolve\",\"rhode\",\"ribbon\",\"richard\",\"ridge\",\"right\",\"rise\",\"risk\",\"riverside\",\"road\",\"rob\",\"robert\",\"room\",\"rotary\",\"route\",\"royal\",\"rule\",\"ruling\",\"rumford\",\"rumor\",\"run\",\"rural\",\"russia\",\"saba\",\"sabbath\",\"sail\",\"salary\",\"sale\",\"salinger\",\"sam\",\"sanantonio\",\"sanitary\",\"saturday\",\"savannah\",\"save\",\"saving\",\"scale\",\"schedule\",\"scheduling\",\"schley\",\"scholarship\",\"scholastic\",\"school\",\"schooling\",\"schwartz\",\"science\",\"score\",\"scott\",\"screw\",\"seato\",\"secretary\",\"section\",\"security\",\"seek\",\"seekonk\",\"select\",\"selection\",\"sell\",\"semester\",\"seminole\",\"semipublic\",\"senate\",\"senator\",\"send\",\"senior\",\"sense\",\"separate\",\"sept\",\"september\",\"series\",\"servant\",\"serve\",\"service\",\"session\",\"set\",\"setback\",\"settlement\",\"setup\",\"sewer\",\"sheet\",\"sheraton\",\"sheriff\",\"sherman\",\"ship\",\"shirk\",\"shoot\",\"shop\",\"shopping\",\"shout\",\"sign\",\"signal\",\"signature\",\"signer\",\"significance\",\"similar\",\"simplest\",\"siren\",\"sit\",\"site\",\"situation\",\"sixth\",\"size\",\"skill\",\"sledding\",\"small\",\"smell\",\"smooth\",\"snodgrass\",\"soar\",\"social\",\"socialist\",\"socialize\",\"society\",\"solicitor\",\"solve\",\"son\",\"sound\",\"source\",\"south\",\"southeast\",\"southwestern\",\"soviet\",\"spark\",\"speak\",\"speaker\",\"spearhead\",\"special\",\"specific\",\"specify\",\"speech\",\"speed\",\"spend\",\"spirit\",\"spokesman\",\"sponsor\",\"spot\",\"spring\",\"squeeze\",\"sr\",\"staff\",\"stagger\",\"stake\",\"stand\",\"start\",\"startled\",\"state\",\"statement\",\"station\",\"status\",\"statute\",\"stay\",\"steal\",\"steam\",\"steer\",\"stem\",\"step\",\"stimulatory\",\"stock\",\"storage\",\"store\",\"strategy\",\"strengthen\",\"strenuous\",\"strickland\",\"strong\",\"student\",\"study\",\"subcommittee\",\"subject\",\"submarine\",\"subpena\",\"subpoena\",\"subsistence\",\"succeed\",\"sufficient\",\"suggest\",\"suggestion\",\"suit\",\"suited\",\"sulphur\",\"sum\",\"summer\",\"summerdale\",\"sunday\",\"superintendent\",\"superior\",\"supermarket\",\"support\",\"supreme\",\"supt\",\"surprise\",\"surprised\",\"surveillance\",\"survey\",\"susceptible\",\"sway\",\"swipe\",\"system\",\"table\",\"tactical\",\"talk\",\"tarrant\",\"taunt\",\"tax\",\"taxation\",\"taxpayer\",\"tea\",\"teach\",\"teacher\",\"teaching\",\"team\",\"technical\",\"technology\",\"telephone\",\"television\",\"tell\",\"tendency\",\"tenor\",\"tension\",\"tentative\",\"term\",\"territory\",\"test\",\"tex\",\"texa\",\"texan\",\"texas\",\"text\",\"thailand\",\"thank\",\"theater\",\"thing\",\"think\",\"threat\",\"threshold\",\"thruston\",\"thursday\",\"tie\",\"time\",\"timely\",\"timetable\",\"title\",\"today\",\"tolerate\",\"tom\",\"tomorrow\",\"tonight\",\"toolmaker\",\"topic\",\"toss\",\"total\",\"totalitarian\",\"tough\",\"tower\",\"town\",\"track\",\"trade\",\"traditional\",\"traffic\",\"tragedi\",\"transfer\",\"travel\",\"treasurer\",\"treat\",\"treaty\",\"tremendous\",\"trend\",\"trial\",\"trouble\",\"truck\",\"true\",\"trust\",\"turn\",\"tyler\",\"type\",\"un\",\"unable\",\"unanimous\",\"unchanged\",\"unconstitutional\",\"underdeveloped\",\"underground\",\"underlie\",\"undermine\",\"understand\",\"understanding\",\"understate\",\"undue\",\"unfair\",\"union\",\"unit\",\"unite\",\"united\",\"unity\",\"university\",\"unmeritorious\",\"unnecessary\",\"unspecified\",\"urban\",\"urge\",\"urgency\",\"use\",\"useless\",\"utility\",\"vacancy\",\"vagueness\",\"validate\",\"validity\",\"vandiver\",\"variety\",\"vehicle\",\"veil\",\"veiled\",\"verification\",\"veteran\",\"vice\",\"victory\",\"viet\",\"view\",\"vindication\",\"violate\",\"violation\",\"violence\",\"virgil\",\"visit\",\"vital\",\"vitality\",\"vocational\",\"voice\",\"volume\",\"voluntary\",\"vote\",\"voter\",\"w.\",\"wage\",\"wait\",\"walk\",\"want\",\"war\",\"ward\",\"warn\",\"warning\",\"washington\",\"water\",\"way\",\"weatherford\",\"weaver\",\"week\",\"weekend\",\"welfare\",\"wesley\",\"west\",\"western\",\"wexler\",\"whip\",\"white\",\"wide\",\"widespread\",\"wife\",\"william\",\"willing\",\"wind\",\"wisdom\",\"wise\",\"wish\",\"witness\",\"woman\",\"word\",\"wording\",\"work\",\"worker\",\"world\",\"worth\",\"write\",\"wrongful\",\"year\",\"yesterday\",\"york\",\"young\",\"youth\"],\"x\":{\"__ndarray__\":\"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\",\"dtype\":\"float64\",\"shape\":[1734]},\"y\":{\"__ndarray__\":\"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\",\"dtype\":\"float64\",\"shape\":[1734]}},\"selected\":{\"id\":\"2d736481-9275-411a-8660-b6d64e61c9e6\",\"type\":\"Selection\"},\"selection_policy\":{\"id\":\"84946ba2-7ff4-4d38-8d75-efa4afb855a8\",\"type\":\"UnionRenderers\"}},\"id\":\"efebb3e3-a7e0-417c-ab7c-d0a5b3180e2d\",\"type\":\"ColumnDataSource\"},{\"attributes\":{\"data_source\":{\"id\":\"efebb3e3-a7e0-417c-ab7c-d0a5b3180e2d\",\"type\":\"ColumnDataSource\"},\"glyph\":{\"id\":\"87952e94-eaee-44d4-8948-994fa2ff909c\",\"type\":\"Circle\"},\"hover_glyph\":null,\"muted_glyph\":null,\"nonselection_glyph\":{\"id\":\"5badea2b-00e8-4082-adc7-b9417bf680bb\",\"type\":\"Circle\"},\"selection_glyph\":null,\"view\":{\"id\":\"8f9bedd6-5ab0-4681-b9a4-381ab756083f\",\"type\":\"CDSView\"}},\"id\":\"59dfb79a-5b63-48ff-b3fa-3e7914509aea\",\"type\":\"GlyphRenderer\"},{\"attributes\":{\"formatter\":{\"id\":\"f16d44f1-0f7e-4081-8cdb-84b377610f1d\",\"type\":\"BasicTickFormatter\"},\"plot\":{\"id\":\"76769223-b352-4997-91a8-9fb3bce63234\",\"subtype\":\"Figure\",\"type\":\"Plot\"},\"ticker\":{\"id\":\"7b153056-8291-48ee-accc-eb877ddc5c46\",\"type\":\"BasicTicker\"}},\"id\":\"ee68b251-c938-496a-b3e8-9fcbd877e2bd\",\"type\":\"LinearAxis\"},{\"attributes\":{},\"id\":\"7b153056-8291-48ee-accc-eb877ddc5c46\",\"type\":\"BasicTicker\"}],\"root_ids\":[\"76769223-b352-4997-91a8-9fb3bce63234\"]},\"title\":\"Bokeh Application\",\"version\":\"0.13.0\"}};\n",
       "  var render_items = [{\"docid\":\"149c7ac9-b630-46fb-8e97-4718b92ef378\",\"notebook_comms_target\":\"15b94543-4345-4e60-99c3-0d10360dee81\",\"roots\":{\"76769223-b352-4997-91a8-9fb3bce63234\":\"8a5cbe70-abf9-4412-97a8-655e493aea1e\"}}];\n",
       "  root.Bokeh.embed.embed_items_notebook(docs_json, render_items);\n",
       "\n",
       "  }\n",
       "  if (root.Bokeh !== undefined) {\n",
       "    embed_document(root);\n",
       "  } else {\n",
       "    var attempts = 0;\n",
       "    var timer = setInterval(function(root) {\n",
       "      if (root.Bokeh !== undefined) {\n",
       "        embed_document(root);\n",
       "        clearInterval(timer);\n",
       "      }\n",
       "      attempts++;\n",
       "      if (attempts > 100) {\n",
       "        console.log(\"Bokeh: ERROR: Unable to run BokehJS code because BokehJS library is missing\")\n",
       "        clearInterval(timer);\n",
       "      }\n",
       "    }, 10, root)\n",
       "  }\n",
       "})(window);"
      ],
      "application/vnd.bokehjs_exec.v0+json": ""
     },
     "metadata": {
      "application/vnd.bokehjs_exec.v0+json": {
       "id": "76769223-b352-4997-91a8-9fb3bce63234"
      }
     },
     "output_type": "display_data"
    },
    {
     "data": {
      "text/html": [
       "<p><code>&lt;Bokeh Notebook handle for <strong>In[39]</strong>&gt;</code></p>"
      ],
      "text/plain": [
       "<bokeh.io.notebook.CommsHandle at 0x7fde1fcb2080>"
      ]
     },
     "execution_count": 39,
     "metadata": {},
     "output_type": "execute_result"
    }
   ],
   "source": [
    "svd = TruncatedSVD(n_components=2)\n",
    "words_2d = svd.fit_transform(data_vectorized.T)\n",
    " \n",
    "df = pd.DataFrame(columns=['x', 'y', 'word'])\n",
    "df['x'], df['y'], df['word'] = words_2d[:,0], words_2d[:,1], top.vectorizer.get_feature_names()\n",
    " \n",
    "source = ColumnDataSource(ColumnDataSource.from_df(df))\n",
    "labels = LabelSet(x=\"x\", y=\"y\", text=\"word\", y_offset=8,\n",
    "                  text_font_size=\"8pt\", text_color=\"#555555\",\n",
    "                  source=source, text_align='center')\n",
    " \n",
    "plot = figure(plot_width=600, plot_height=600)\n",
    "plot.circle(\"x\", \"y\", size=12, source=source, line_color=\"black\", fill_alpha=0.8)\n",
    "plot.add_layout(labels)\n",
    "show(plot, notebook_handle=True)"
   ]
  },
  {
   "cell_type": "code",
   "execution_count": 40,
   "metadata": {},
   "outputs": [],
   "source": [
    "\n",
    "\n",
    "import pyLDAvis\n",
    "import pyLDAvis.sklearn\n",
    "pyLDAvis.enable_notebook()\n"
   ]
  },
  {
   "cell_type": "code",
   "execution_count": 41,
   "metadata": {},
   "outputs": [
    {
     "data": {
      "text/html": [
       "\n",
       "<link rel=\"stylesheet\" type=\"text/css\" href=\"https://cdn.rawgit.com/bmabey/pyLDAvis/files/ldavis.v1.0.0.css\">\n",
       "\n",
       "\n",
       "<div id=\"ldavis_el69911405919410694649456885685\"></div>\n",
       "<script type=\"text/javascript\">\n",
       "\n",
       "var ldavis_el69911405919410694649456885685_data = {\"mdsDat\": {\"Freq\": [80.809833867067, 19.125945737074517, 0.021408630234583302, 0.021405901903324576, 0.021405863720571537], \"cluster\": [1, 1, 1, 1, 1], \"topics\": [1, 2, 3, 4, 5], \"x\": [-0.06420576796837585, 0.07416609041608684, -0.0025869159160467835, -0.0032259484271294886, -0.004147458104534703], \"y\": [0.027447581685830058, 0.021542831645590826, -0.01480422121372317, -0.016861042327749917, -0.017325149789947706]}, \"tinfo\": {\"Category\": [\"Default\", \"Default\", \"Default\", \"Default\", \"Default\", \"Default\", \"Default\", \"Default\", \"Default\", \"Default\", \"Default\", \"Default\", \"Default\", \"Default\", \"Default\", \"Default\", \"Default\", \"Default\", \"Default\", \"Default\", \"Default\", \"Default\", \"Default\", \"Default\", \"Default\", \"Default\", \"Default\", \"Default\", \"Default\", \"Default\", \"Topic1\", \"Topic1\", \"Topic1\", \"Topic1\", \"Topic1\", \"Topic1\", \"Topic1\", \"Topic1\", \"Topic1\", \"Topic1\", \"Topic1\", \"Topic1\", \"Topic1\", \"Topic1\", \"Topic1\", \"Topic1\", \"Topic1\", \"Topic1\", \"Topic1\", \"Topic1\", \"Topic1\", \"Topic1\", \"Topic1\", \"Topic1\", \"Topic1\", \"Topic1\", \"Topic1\", \"Topic1\", \"Topic1\", \"Topic1\", \"Topic1\", \"Topic1\", \"Topic1\", \"Topic1\", \"Topic1\", \"Topic1\", \"Topic1\", \"Topic1\", \"Topic1\", \"Topic1\", \"Topic1\", \"Topic1\", \"Topic1\", \"Topic1\", \"Topic1\", \"Topic1\", \"Topic1\", \"Topic1\", \"Topic1\", \"Topic1\", \"Topic1\", \"Topic1\", \"Topic2\", \"Topic2\", \"Topic2\", \"Topic2\", \"Topic2\", \"Topic2\", \"Topic2\", \"Topic2\", \"Topic2\", \"Topic2\", \"Topic2\", \"Topic2\", \"Topic2\", \"Topic2\", \"Topic2\", \"Topic2\", \"Topic2\", \"Topic2\", \"Topic2\", \"Topic2\", \"Topic2\", \"Topic2\", \"Topic2\", \"Topic2\", \"Topic2\", \"Topic2\", \"Topic2\", \"Topic2\", \"Topic2\", \"Topic2\", \"Topic2\", \"Topic2\", \"Topic2\", \"Topic2\", \"Topic2\", \"Topic2\", \"Topic2\", \"Topic2\", \"Topic2\", \"Topic2\", \"Topic2\", \"Topic2\", \"Topic2\", \"Topic2\", \"Topic2\", \"Topic2\", \"Topic2\", \"Topic2\", \"Topic2\", \"Topic2\", \"Topic2\", \"Topic2\", \"Topic2\", \"Topic2\", \"Topic2\", \"Topic2\", \"Topic2\", \"Topic2\", \"Topic2\", \"Topic2\", \"Topic3\", \"Topic3\", \"Topic3\", \"Topic3\", \"Topic3\", \"Topic3\", \"Topic3\", \"Topic3\", \"Topic3\", \"Topic3\", \"Topic3\", \"Topic3\", \"Topic3\", \"Topic3\", \"Topic3\", \"Topic3\", \"Topic3\", \"Topic3\", \"Topic3\", \"Topic3\", \"Topic3\", \"Topic3\", \"Topic3\", \"Topic3\", \"Topic3\", \"Topic3\", \"Topic3\", \"Topic3\", \"Topic3\", \"Topic3\", \"Topic3\", \"Topic3\", \"Topic3\", \"Topic3\", \"Topic3\", \"Topic3\", \"Topic3\", \"Topic3\", \"Topic3\", \"Topic3\", \"Topic3\", \"Topic3\", \"Topic3\", \"Topic3\", \"Topic3\", \"Topic3\", \"Topic3\", \"Topic3\", \"Topic3\", \"Topic3\", \"Topic3\", \"Topic3\", \"Topic3\", \"Topic3\", \"Topic3\", \"Topic3\", \"Topic3\", \"Topic3\", \"Topic3\", \"Topic3\", \"Topic3\", \"Topic3\", \"Topic3\", \"Topic3\", \"Topic3\", \"Topic3\", \"Topic3\", \"Topic3\", \"Topic3\", \"Topic3\", \"Topic3\", \"Topic3\", \"Topic3\", \"Topic3\", \"Topic3\", \"Topic3\", \"Topic3\", \"Topic3\", \"Topic3\", \"Topic3\", \"Topic3\", \"Topic3\", \"Topic3\", \"Topic3\", \"Topic3\", \"Topic3\", \"Topic3\", \"Topic3\", \"Topic4\", \"Topic4\", \"Topic4\", \"Topic4\", \"Topic4\", \"Topic4\", \"Topic4\", \"Topic4\", \"Topic4\", \"Topic4\", \"Topic4\", \"Topic4\", \"Topic4\", \"Topic4\", \"Topic4\", \"Topic4\", \"Topic4\", \"Topic4\", \"Topic4\", \"Topic4\", \"Topic4\", \"Topic4\", \"Topic4\", \"Topic4\", \"Topic4\", \"Topic4\", \"Topic4\", \"Topic4\", \"Topic4\", \"Topic4\", \"Topic4\", \"Topic4\", \"Topic4\", \"Topic4\", \"Topic4\", \"Topic4\", \"Topic4\", \"Topic4\", \"Topic4\", \"Topic4\", \"Topic4\", \"Topic4\", \"Topic4\", \"Topic4\", \"Topic4\", \"Topic4\", \"Topic4\", \"Topic4\", \"Topic4\", \"Topic4\", \"Topic4\", \"Topic4\", \"Topic4\", \"Topic4\", \"Topic4\", \"Topic4\", \"Topic4\", \"Topic4\", \"Topic4\", \"Topic4\", \"Topic4\", \"Topic4\", \"Topic4\", \"Topic4\", \"Topic4\", \"Topic4\", \"Topic4\", \"Topic4\", \"Topic4\", \"Topic4\", \"Topic4\", \"Topic4\", \"Topic4\", \"Topic4\", \"Topic4\", \"Topic4\", \"Topic4\", \"Topic4\", \"Topic4\", \"Topic4\", \"Topic4\", \"Topic4\", \"Topic4\", \"Topic4\", \"Topic4\", \"Topic4\", \"Topic4\", \"Topic4\", \"Topic4\", \"Topic4\", \"Topic4\", \"Topic4\", \"Topic4\", \"Topic4\", \"Topic5\", \"Topic5\", \"Topic5\", \"Topic5\", \"Topic5\", \"Topic5\", \"Topic5\", \"Topic5\", \"Topic5\", \"Topic5\", \"Topic5\", \"Topic5\", \"Topic5\", \"Topic5\", \"Topic5\", \"Topic5\", \"Topic5\", \"Topic5\", \"Topic5\", \"Topic5\", \"Topic5\", \"Topic5\", \"Topic5\", \"Topic5\", \"Topic5\", \"Topic5\", \"Topic5\", \"Topic5\", \"Topic5\", \"Topic5\", \"Topic5\", \"Topic5\", \"Topic5\", \"Topic5\", \"Topic5\", \"Topic5\", \"Topic5\", \"Topic5\", \"Topic5\", \"Topic5\", \"Topic5\", \"Topic5\", \"Topic5\", \"Topic5\", \"Topic5\", \"Topic5\", \"Topic5\", \"Topic5\", \"Topic5\", \"Topic5\", \"Topic5\", \"Topic5\", \"Topic5\", \"Topic5\", \"Topic5\", \"Topic5\", \"Topic5\", \"Topic5\", \"Topic5\", \"Topic5\", \"Topic5\", \"Topic5\", \"Topic5\", \"Topic5\", \"Topic5\", \"Topic5\", \"Topic5\", \"Topic5\", \"Topic5\", \"Topic5\", \"Topic5\", \"Topic5\", \"Topic5\", \"Topic5\", \"Topic5\", \"Topic5\", \"Topic5\", \"Topic5\", \"Topic5\", \"Topic5\", \"Topic5\", \"Topic5\", \"Topic5\", \"Topic5\"], \"Freq\": [46.0, 23.0, 27.0, 23.0, 20.0, 16.0, 18.0, 30.0, 21.0, 21.0, 19.0, 17.0, 12.0, 10.0, 20.0, 15.0, 19.0, 27.0, 10.0, 13.0, 13.0, 16.0, 16.0, 17.0, 12.0, 11.0, 8.0, 14.0, 11.0, 11.0, 20.093058597412696, 23.26643382301343, 23.41789464794, 26.635897243495748, 15.837685011719298, 21.18353802761445, 10.197283859488152, 12.845412773619024, 10.250409203772493, 11.202185248159285, 12.033149629170484, 12.856190818509337, 8.784461589288039, 11.2373611753033, 11.147614874266807, 10.346494379278404, 8.58271235634309, 8.559959102549366, 7.858412091586205, 7.879201503086337, 7.663922147315154, 7.765273756100802, 6.834349294015582, 9.48242705237306, 7.863908348360199, 7.6866960188158115, 7.763399660879807, 7.811444891788679, 7.018405268910677, 7.712858328573936, 7.835267643319447, 17.623549926364213, 28.604196480312986, 15.469469224785591, 42.280577062943586, 14.364263049961034, 17.88349392314888, 24.61191823777864, 12.831922946268936, 12.862905398261661, 18.525429835605845, 17.589169954240564, 11.080206253633829, 14.414949190528448, 15.088857586337319, 14.322970662034235, 12.958022911341256, 12.780647626413483, 14.519345588727397, 11.593711478222493, 13.474686324918629, 11.914207874283651, 5.94258070599042, 3.854975889751659, 3.3379066113767033, 3.363621625523675, 3.365530452026643, 2.3323580413648326, 2.300155076830621, 2.3201923391137087, 2.3339084415743336, 2.3330508692856182, 1.8028922896322797, 1.7788140643145225, 1.8259670296251753, 1.8137462087895186, 5.4880207074939165, 1.7847707915245303, 1.7919573474122141, 1.7972701890976162, 1.792230733118298, 1.2999190445332913, 1.295126239426104, 1.3098317573046014, 1.2963308781756109, 1.3039353394084499, 1.312151341192346, 1.2647717343148117, 1.295753856963194, 1.2540535125171357, 1.3166313324706262, 1.2884573656284553, 3.9447095645132633, 9.154489067138279, 2.8614915220368466, 4.394800322899026, 2.8538348688116137, 2.836534540049637, 4.431646265722156, 3.3860548740856666, 3.868049119297324, 3.8592975841691617, 2.3292177348069907, 6.538518978057102, 6.457767005484355, 8.05811829729768, 4.452116657629974, 2.3345194865455237, 3.350368238455604, 3.3425751698561235, 2.3618740716061946, 3.3827214934759033, 3.412868297054918, 2.8509679887171453, 3.3994426368653636, 3.463507374453594, 3.4510460522039157, 2.87607613587743, 3.434736909012814, 4.081326321151874, 2.947226147153746, 2.866193662186684, 0.00063094183864031, 0.0006401915833198003, 0.0006300791040481219, 0.0006260832198200161, 0.0005996047329412052, 0.0005965943141722614, 0.0006192505321624527, 0.0006050726175864489, 0.0005963143808726462, 0.0006007192351195063, 0.0005960640042314782, 0.0005915466018625794, 0.0005844611583678725, 0.0005842261108494729, 0.0005880442997271586, 0.0005747591414368819, 0.000583897825953131, 0.0005987931219887351, 0.0005790446797922721, 0.0005799238193575469, 0.0005917027444091921, 0.0005819096433398719, 0.000598397142196723, 0.0005642661190844026, 0.000576405548597653, 0.0005733974189925742, 0.0005689607859654919, 0.00055083894981995, 0.0005741460842444973, 0.0005662268843078434, 0.000569941836975023, 0.0005717786984837497, 0.0005828259926526197, 0.0005857940754980501, 0.0006650261729347084, 0.0006554244295662953, 0.0006559605050062062, 0.0006488783793506816, 0.0006633962846579651, 0.0006416019506672343, 0.0006505874923759564, 0.0006412741794803603, 0.0006454040051116981, 0.0006415058358700949, 0.000637006221346124, 0.000633715697303697, 0.0006338647200711977, 0.0006328991286045539, 0.0006309351113013357, 0.0006270545755424392, 0.0009344802336069849, 0.0006264473775403398, 0.0009948059992647422, 0.0010980093415954531, 0.0011660560064969804, 0.0009501173980904164, 0.000879702369636506, 0.000771982576282167, 0.0009543458720972613, 0.0007457814981646143, 0.0010205808349401256, 0.0009962251170736371, 0.001119006039707179, 0.0008324380384128646, 0.0007601992478130496, 0.0008718261439002478, 0.0008264270135909242, 0.0008065547241664869, 0.0008920208499397206, 0.0009667454217339897, 0.0008496183986396653, 0.0007095035096750129, 0.0008887135444067513, 0.0007970708213995305, 0.0007309621324199406, 0.0009217415169832661, 0.0008686670726751663, 0.0007777625564402513, 0.0007881191529335636, 0.0008574498401513806, 0.0008294044770462255, 0.0008265784311702855, 0.0008377674866603454, 0.0008381757446110752, 0.0008190827278231013, 0.0007975699160969506, 0.0008053733654072526, 0.0007888310259834887, 0.0006778640635929182, 0.0006155520179283102, 0.0006088102405793069, 0.0006019613297832202, 0.0006126140754370871, 0.000587723485172351, 0.0006130763071357659, 0.0005795134158017684, 0.0005883838086169252, 0.0005974079924810802, 0.0005985049086173374, 0.0005790504711259497, 0.0005926858647561275, 0.0005939380266871416, 0.0005793519156018878, 0.0005791501786797403, 0.000579892258321707, 0.0005862014420713589, 0.0005801159066823763, 0.0005705626369770401, 0.0005762222004985356, 0.000580939541931603, 0.0005740023508822933, 0.0005730319308975901, 0.0005834080335512985, 0.000572182492494237, 0.0005587131727148563, 0.0005610503939596778, 0.0005781860210100995, 0.000557463864123606, 0.0006038474721511864, 0.0005837255149513341, 0.0005762347639252154, 0.0006751744063116932, 0.0006766894489634662, 0.0006583179648714183, 0.0005962938003017713, 0.000661890398036061, 0.0006500090644120105, 0.000649475048144351, 0.000644353478204818, 0.0006459124130354605, 0.0006357398080624072, 0.0006455714165340351, 0.0006365019109341755, 0.0006446545855045132, 0.0006392130741235173, 0.0006502912331440093, 0.0006453224553474319, 0.0006423236780659381, 0.0006386289355650171, 0.0006409782455706589, 0.0006442509557061757, 0.0006299206538941035, 0.0006354788207548192, 0.001523890120065973, 0.0010500146303612631, 0.0007485251158901387, 0.0006978741674971259, 0.001135166480178249, 0.0010787820864811921, 0.0008495538409894661, 0.0010419333162008054, 0.0007821518920996854, 0.0009844843139312524, 0.0009930349074680044, 0.0009299202983554726, 0.0007168500217358052, 0.0008667956210177642, 0.0007313409059732556, 0.0008856400893978443, 0.0008815549932869958, 0.0007187477335703211, 0.0008395630359349211, 0.0007191152118598031, 0.0006983335830417585, 0.0007835839356422379, 0.0008301083071033438, 0.0008154977221209767, 0.0007425887415535813, 0.0008301076667059307, 0.0007922475124233668, 0.0007459857708963412, 0.0007803088256265169, 0.0007762071007779406, 0.0007958378371965378, 0.0007641904437091497, 0.0007505920008803283, 0.0007526053914052978, 0.0007994075805902876, 0.0007798648329684919, 0.0007506333392211485, 0.0007544743431113937, 0.0007512095547424675, 0.0006349006819933609, 0.0006260356559083316, 0.0006225677350748975, 0.0005824276768303771, 0.0005982871728570302, 0.0005996779232088956, 0.0006054127060582198, 0.0005908911863497098, 0.000605108779139614, 0.000607320066443699, 0.0005881130870249076, 0.0005945998781786806, 0.0005859810503484841, 0.0005966024437053128, 0.0005819106957337295, 0.000608626576004521, 0.0005697154754927379, 0.0005703924835601269, 0.0005829496671545086, 0.0005821407626876381, 0.0005784299128686099, 0.0005805142919873987, 0.0005820627882451917, 0.0005942496842777801, 0.0005664103278047749, 0.0006055286636304595, 0.0005770933365156119, 0.0005735921623027245, 0.0005854782430231611, 0.0005746466532240011, 0.000583461466681704, 0.0006758987208703993, 0.0006600323145584718, 0.0006468687221413394, 0.0006549729137211946, 0.0006599615185200385, 0.0006582743214611957, 0.000639313821344496, 0.0006445217291929059, 0.0006363598329941375, 0.0006323798793345977, 0.0006376136344542385, 0.0006418264444921064, 0.0006309787663753437, 0.0006347978688573301, 0.0006327183061383831, 0.0006228928924456238, 0.0006293930617305535, 0.0013412077120120883, 0.0006993623174010704, 0.0014417617280393885, 0.0011185041700417539, 0.0011551166271473652, 0.0008701534456145432, 0.0006796358653101993, 0.000989295340379964, 0.000868754322014771, 0.0009748384445692637, 0.0009659972435920061, 0.0008094757401431879, 0.0009003284492649862, 0.0009422781035066807, 0.0007606479166613033, 0.0009158540994048238, 0.0007291269184615336, 0.0008590460485357821, 0.0007458065045357744, 0.0007831534665372346, 0.0008276201115461879, 0.00077397500090526, 0.0008743384312772435, 0.0007439141490526035, 0.0007398844927716232, 0.0007429943436647303, 0.0007668450326256361, 0.0007770579591776243, 0.0007620099056216445, 0.0007773711589467813, 0.0007936582982755701, 0.000758203512252438, 0.0007617520206620811, 0.0007540765133733309, 0.0007498358317903703, 0.000748215399885956], \"Term\": [\"state\", \"county\", \"school\", \"bill\", \"jury\", \"texas\", \"house\", \"year\", \"administration\", \"city\", \"committee\", \"election\", \"department\", \"bond\", \"plan\", \"new\", \"pay\", \"president\", \"senate\", \"ask\", \"policy\", \"court\", \"program\", \"vote\", \"care\", \"republican\", \"dalla\", \"council\", \"fund\", \"communist\", \"jury\", \"county\", \"bill\", \"school\", \"texas\", \"administration\", \"bond\", \"policy\", \"senate\", \"communist\", \"care\", \"medical\", \"judge\", \"laos\", \"dollar\", \"hospital\", \"education\", \"dalla\", \"effort\", \"ward\", \"highway\", \"recommend\", \"georgia\", \"health\", \"congress\", \"rep\", \"college\", \"child\", \"water\", \"legislator\", \"united\", \"house\", \"year\", \"case\", \"state\", \"new\", \"pay\", \"president\", \"ask\", \"tax\", \"plan\", \"committee\", \"republican\", \"court\", \"election\", \"program\", \"grant\", \"federal\", \"vote\", \"department\", \"city\", \"day\", \"charter\", \"cd\", \"socialist\", \"providence\", \"civil\", \"johnston\", \"resident\", \"central\", \"movement\", \"reama\", \"enforcement\", \"truck\", \"bourcier\", \"ordinance\", \"town\", \"rescue\", \"rhode\", \"fall\", \"hand\", \"develop\", \"minor\", \"express\", \"raymond\", \"enterprise\", \"canvasser\", \"responsibility\", \"vital\", \"complete\", \"riverside\", \"basis\", \"defense\", \"council\", \"assembly\", \"party\", \"sunday\", \"sale\", \"director\", \"possible\", \"group\", \"come\", \"track\", \"time\", \"law\", \"city\", \"local\", \"offense\", \"present\", \"study\", \"know\", \"governor\", \"rule\", \"yesterday\", \"government\", \"general\", \"home\", \"obtain\", \"vote\", \"state\", \"day\", \"week\", \"machinist\", \"seekonk\", \"compete\", \"theater\", \"retain\", \"guilty\", \"resource\", \"model\", \"atty\", \"centralize\", \"grocery\", \"club\", \"variety\", \"surprised\", \"hesitate\", \"pull\", \"colonial\", \"timetable\", \"sanitary\", \"religious\", \"examine\", \"assign\", \"copy\", \"drive\", \"sr\", \"liberal\", \"awareness\", \"martinelli\", \"spearhead\", \"release\", \"hope\", \"groom\", \"affect\", \"transfer\", \"shoot\", \"unmeritorious\", \"pension\", \"past\", \"gun\", \"critic\", \"tie\", \"intern\", \"emphasize\", \"proportionate\", \"miscellaneous\", \"revise\", \"chamber\", \"stake\", \"griffin\", \"enthusiasm\", \"atlanta\", \"distribution\", \"resolution\", \"election\", \"county\", \"bond\", \"highway\", \"blue\", \"department\", \"urge\", \"city\", \"jury\", \"state\", \"candidate\", \"list\", \"republican\", \"chairman\", \"petition\", \"council\", \"year\", \"fund\", \"enter\", \"vote\", \"governor\", \"friday\", \"school\", \"court\", \"legislature\", \"issue\", \"plan\", \"grant\", \"law\", \"program\", \"house\", \"administration\", \"home\", \"pay\", \"receive\", \"industrial\", \"apply\", \"hesitate\", \"fail\", \"activity\", \"manufacturer\", \"luncheon\", \"martinelli\", \"squeeze\", \"hope\", \"sr\", \"motorist\", \"club\", \"shop\", \"interval\", \"shirk\", \"guilty\", \"groom\", \"philosophy\", \"retain\", \"partisan\", \"disposition\", \"surprised\", \"engage\", \"sabbath\", \"insurgent\", \"contend\", \"chance\", \"michael\", \"sixth\", \"eye\", \"factory\", \"defray\", \"amicable\", \"globe\", \"reconsideration\", \"provision\", \"outmode\", \"employe\", \"congressman\", \"mental\", \"score\", \"experienced\", \"richard\", \"rally\", \"seato\", \"gop\", \"determination\", \"listen\", \"outgoing\", \"precedent\", \"smell\", \"realization\", \"complain\", \"investigate\", \"state\", \"department\", \"irregularity\", \"promise\", \"jury\", \"county\", \"georgia\", \"bill\", \"road\", \"committee\", \"city\", \"texas\", \"wife\", \"fund\", \"gov\", \"election\", \"house\", \"office\", \"law\", \"fight\", \"enter\", \"government\", \"vote\", \"court\", \"rural\", \"school\", \"new\", \"present\", \"federal\", \"ask\", \"administration\", \"resolution\", \"legislator\", \"education\", \"year\", \"president\", \"local\", \"work\", \"pay\", \"retain\", \"chance\", \"merchandise\", \"martinelli\", \"confess\", \"regroup\", \"non\", \"colonial\", \"notte\", \"transfer\", \"matching\", \"happen\", \"siren\", \"municipal\", \"fail\", \"original\", \"squeeze\", \"pull\", \"model\", \"groom\", \"inspire\", \"enemy\", \"false\", \"copy\", \"machinist\", \"provision\", \"shop\", \"wage\", \"hawksley\", \"vehicle\", \"sell\", \"patrolman\", \"lawrence\", \"range\", \"basketball\", \"favorable\", \"history\", \"employe\", \"specify\", \"book\", \"math\", \"penalty\", \"residential\", \"cruelty\", \"consultation\", \"o.\", \"circulation\", \"tom\", \"school\", \"pipeline\", \"state\", \"texas\", \"bill\", \"rep\", \"cox\", \"house\", \"dalla\", \"committee\", \"city\", \"adc\", \"program\", \"county\", \"high\", \"plan\", \"parkhouse\", \"election\", \"feel\", \"public\", \"day\", \"college\", \"year\", \"authority\", \"teacher\", \"town\", \"bond\", \"general\", \"report\", \"federal\", \"jury\", \"care\", \"new\", \"department\", \"person\", \"senate\"], \"Total\": [46.0, 23.0, 27.0, 23.0, 20.0, 16.0, 18.0, 30.0, 21.0, 21.0, 19.0, 17.0, 12.0, 10.0, 20.0, 15.0, 19.0, 27.0, 10.0, 13.0, 13.0, 16.0, 16.0, 17.0, 12.0, 11.0, 8.0, 14.0, 11.0, 11.0, 20.327120581495407, 23.548797344000864, 23.73737026895192, 27.001361435035378, 16.107119370950013, 21.58530747441745, 10.415091637010601, 13.154707499192366, 10.514743526718682, 11.495830308213266, 12.373153756125093, 13.22452081986584, 9.036936120824999, 11.565119677889822, 11.474014362572067, 10.655381103774674, 8.862458500785616, 8.841238425556234, 8.117241301677875, 8.144266328652305, 7.921837714772112, 8.027015487257145, 7.065615850664666, 9.806633585309791, 8.137005694148137, 7.956777798520613, 8.042888847925262, 8.092885507981633, 7.272349226948821, 7.994523924611207, 8.127678957049332, 18.438889280473195, 30.622597595299883, 16.31252186340976, 46.36598804198327, 15.238337303251917, 19.24310274116749, 27.14512009034672, 13.638603973809621, 13.69129472142891, 20.52384144230883, 19.44418665750671, 11.879809966848041, 16.31217793779851, 17.437876385555846, 16.80972546499785, 14.80377635674682, 14.64347599948563, 17.95647247097303, 12.912435449389262, 21.53578423520231, 14.86357486401195, 6.396313119497682, 4.243103218308207, 3.745580003743849, 3.8071749144196345, 3.8479330865313157, 2.714937981347554, 2.6811234827146597, 2.710124636724081, 2.7440170150232666, 2.7883545817017787, 2.1952230895132003, 2.170885847870799, 2.23250522806473, 2.230979049669971, 6.760990087863954, 2.201488169191449, 2.214511634594969, 2.223249372823727, 2.2268414572837325, 1.6549377807883576, 1.6527538851185604, 1.6764602860245472, 1.6595219724293613, 1.6729603500360506, 1.6861719630089638, 1.6270611975211628, 1.6699914193699765, 1.6197346199863294, 1.704330563145573, 1.6707895197824898, 5.204194789608615, 14.580294708296238, 4.0355263498056235, 6.51333921311619, 4.050039465621459, 4.072738922475858, 7.358513614185605, 5.403029710831204, 6.7788123453784666, 6.777310078281798, 3.5390847158188317, 14.481928600221377, 14.419670877657628, 21.53578423520231, 8.941808852871038, 3.582526729423758, 7.029172586606106, 7.013240529097763, 3.6613981267524456, 7.824711930275667, 8.04506792750418, 5.684912427023059, 9.667951666733707, 12.94166509178554, 13.760656693910095, 6.551622238430986, 17.95647247097303, 46.36598804198327, 14.86357486401195, 7.46000902613815, 1.1209786008507465, 1.137528722487963, 1.148952211619619, 1.1559020496486456, 1.1153291591121426, 1.1204448809489826, 1.1633298002669428, 1.1382841999137128, 1.1363744491617274, 1.1505281485905157, 1.1465972871912387, 1.1386773939626869, 1.1257427225348784, 1.1256405321552507, 1.1350684010738874, 1.1129449147660153, 1.1318015101427317, 1.161245928770767, 1.123205561723014, 1.127620560752598, 1.1524174361113433, 1.1416928097765104, 1.1740616602506764, 1.1073823952795572, 1.1367582515326178, 1.1321894324251716, 1.1263868039142018, 1.0921501989004418, 1.138594824219835, 1.1246113111780407, 1.1323641687095212, 1.1368878482621945, 1.1624602190609306, 1.169712383550938, 1.3819429722393288, 1.4023410662755489, 1.4096294703180858, 1.4088905284928408, 1.46783443944359, 1.3830823533006447, 1.4225150350928832, 1.387249521391985, 1.4400876377198963, 1.4317377396020246, 1.4130464784267192, 1.410070475579896, 1.4201492753573348, 1.4142983585204343, 1.4022491878107644, 1.3903556769712628, 6.257330051917214, 1.4197929085630672, 10.80335715399997, 17.437876385555846, 23.548797344000864, 10.415091637010601, 7.921837714772112, 4.065035876672221, 12.912435449389262, 3.5569549529996163, 21.53578423520231, 20.327120581495407, 46.36598804198327, 7.405028531236727, 4.408664452937, 11.879809966848041, 8.216912197227508, 7.0166833915644204, 14.580294708296238, 30.622597595299883, 11.498891267822312, 2.9754931072560535, 17.95647247097303, 7.824711930275667, 3.8081606170883795, 27.001361435035378, 16.31217793779851, 6.813154423795254, 8.557106810953503, 20.52384144230883, 14.80377635674682, 14.419670877657628, 16.80972546499785, 18.438889280473195, 21.58530747441745, 13.760656693910095, 19.24310274116749, 10.134114696714008, 1.200363996310804, 1.1427241053425248, 1.1350684010738874, 1.129971502289224, 1.1518559002559712, 1.1068960092728939, 1.1550907873596186, 1.0921501989004418, 1.111445545881086, 1.1323641687095212, 1.1367582515326178, 1.1066918524105624, 1.1386773939626869, 1.1436487958634054, 1.1181995918844052, 1.1179311390566165, 1.1204448809489826, 1.1368878482621945, 1.1296995462738193, 1.1153291591121426, 1.1295382858169187, 1.1392097221850712, 1.1256405321552507, 1.1244734883451537, 1.1470357971766607, 1.1261316160216115, 1.1047012272710652, 1.1101828584024023, 1.1443438727957294, 1.1049315254567336, 1.2011896967567324, 1.1606140898372992, 1.1450056089234322, 1.4061827833089184, 1.4211640741431337, 1.390539572479744, 1.1997430186676736, 1.4339025701424428, 1.3954144172771967, 1.4129556252113515, 1.3992736573884317, 1.4199245648950638, 1.37535059618115, 1.425328296164665, 1.4129200955721204, 1.460768594731971, 1.433340444973843, 1.5030340225343797, 1.4771117547207808, 1.4614190977246333, 1.443269000020804, 1.461332468218388, 1.504492761648977, 1.4078733974436604, 1.4641874060833184, 46.36598804198327, 12.912435449389262, 2.9795515175051825, 2.211837343462815, 20.327120581495407, 23.548797344000864, 7.065615850664666, 23.73737026895192, 4.5991805134098955, 19.44418665750671, 21.53578423520231, 16.107119370950013, 3.03078359126955, 11.498891267822312, 3.9031642751418016, 17.437876385555846, 18.438889280473195, 3.5604509105926145, 14.419670877657628, 3.8598482766537274, 2.9754931072560535, 9.667951666733707, 17.95647247097303, 16.31217793779851, 6.285387530370102, 27.001361435035378, 15.238337303251917, 7.029172586606106, 14.64347599948563, 13.638603973809621, 21.58530747441745, 10.80335715399997, 7.994523924611207, 8.862458500785616, 30.622597595299883, 27.14512009034672, 8.941808852871038, 11.04085206790559, 19.24310274116749, 1.1153291591121426, 1.1101828584024023, 1.1414811179840954, 1.0921501989004418, 1.1346776759363848, 1.140615851311204, 1.1568073118309057, 1.1318015101427317, 1.163519646526366, 1.169712383550938, 1.1359937298374456, 1.1491445966216949, 1.1354892443733553, 1.1561330735490722, 1.129971502289224, 1.1825150773654314, 1.111445545881086, 1.1129449147660153, 1.1382841999137128, 1.1368878482621945, 1.1322034861755372, 1.1394943124979706, 1.1474645020931944, 1.1740616602506764, 1.1209786008507465, 1.1997430186676736, 1.1436487958634054, 1.13721883131583, 1.1651649568268572, 1.146032062627078, 1.164892919036928, 1.4567342858391987, 1.4243746649637992, 1.3814823920746986, 1.4117166830941033, 1.439612572723245, 1.4595536151839763, 1.3954144172771967, 1.4612000740091091, 1.424278833496764, 1.4062692594154127, 1.4364635122033103, 1.4659029764598617, 1.4118366899761834, 1.463973026325073, 1.4617653417826582, 1.3893397746462457, 1.4481082948708974, 27.001361435035378, 2.2292817459081515, 46.36598804198327, 16.107119370950013, 23.73737026895192, 7.956777798520613, 2.234332151816271, 18.438889280473195, 8.841238425556234, 19.44418665750671, 21.53578423520231, 7.201218475596875, 16.80972546499785, 23.548797344000864, 5.228976384886529, 20.52384144230883, 3.901642361960397, 17.437876385555846, 5.563325226840893, 8.908593358549448, 14.86357486401195, 8.042888847925262, 30.622597595299883, 6.432580221009503, 6.327549144023335, 6.760990087863954, 10.415091637010601, 12.94166509178554, 10.288170552126685, 14.64347599948563, 20.327120581495407, 12.373153756125093, 15.238337303251917, 12.912435449389262, 10.005218755332262, 10.514743526718682], \"loglift\": [30.0, 29.0, 28.0, 27.0, 26.0, 25.0, 24.0, 23.0, 22.0, 21.0, 20.0, 19.0, 18.0, 17.0, 16.0, 15.0, 14.0, 13.0, 12.0, 11.0, 10.0, 9.0, 8.0, 7.0, 6.0, 5.0, 4.0, 3.0, 2.0, 1.0, 0.2015, 0.201, 0.1995, 0.1994, 0.1962, 0.1943, 0.1919, 0.1893, 0.1876, 0.1872, 0.1852, 0.1848, 0.1847, 0.1843, 0.1842, 0.1837, 0.181, 0.1807, 0.1807, 0.18, 0.18, 0.1799, 0.1798, 0.1795, 0.1789, 0.1785, 0.1777, 0.1777, 0.1775, 0.1772, 0.1764, 0.1678, 0.1449, 0.16, 0.1208, 0.154, 0.1398, 0.1151, 0.1521, 0.1507, 0.1106, 0.1128, 0.1434, 0.0894, 0.0684, 0.053, 0.0799, 0.077, 0.0006, 0.1053, -0.2558, -0.0081, 1.5805, 1.5582, 1.5389, 1.5303, 1.5202, 1.5022, 1.5009, 1.4988, 1.4922, 1.4758, 1.4572, 1.4549, 1.4531, 1.4471, 1.4455, 1.4443, 1.4424, 1.4414, 1.437, 1.4127, 1.4103, 1.4073, 1.4071, 1.4049, 1.4033, 1.4022, 1.4004, 1.3982, 1.396, 1.3943, 1.377, 1.1887, 1.3103, 1.2607, 1.3041, 1.2924, 1.147, 1.1868, 1.0931, 1.091, 1.2358, 0.8589, 0.8508, 0.6711, 0.9568, 1.2259, 0.9131, 0.9131, 1.2157, 0.8155, 0.7966, 0.964, 0.6089, 0.336, 0.271, 0.8308, 0.0001, -0.776, 0.0361, 0.6976, 0.9666, 0.9665, 0.9406, 0.9282, 0.9207, 0.9111, 0.9108, 0.9094, 0.8965, 0.8915, 0.8872, 0.8865, 0.8859, 0.8856, 0.8837, 0.8806, 0.8795, 0.879, 0.8788, 0.8764, 0.8748, 0.8674, 0.8674, 0.8671, 0.8623, 0.861, 0.8584, 0.8569, 0.8567, 0.8552, 0.8548, 0.8541, 0.851, 0.8498, 0.81, 0.7808, 0.7764, 0.7661, 0.7472, 0.7733, 0.7591, 0.7698, 0.7388, 0.7386, 0.7447, 0.7416, 0.7347, 0.7373, 0.7427, 0.7451, -0.3601, 0.7232, -0.8437, -1.2238, -1.4641, -0.853, -0.6564, -0.1198, -1.0635, -0.0209, -1.508, -1.4744, -2.1827, -0.6442, -0.2164, -1.0706, -0.7555, -0.6219, -1.2526, -1.9142, -1.0638, 0.1078, -1.4646, -0.7427, -0.1092, -1.836, -1.3913, -0.6288, -0.8435, -1.634, -1.3406, -1.3177, -1.4576, -1.5496, -1.7302, -1.3066, -1.6322, -1.0117, 0.9701, 0.9229, 0.9186, 0.9117, 0.9101, 0.9084, 0.9081, 0.9078, 0.9055, 0.902, 0.9, 0.8938, 0.8885, 0.8863, 0.8839, 0.8838, 0.8829, 0.8791, 0.875, 0.8712, 0.8684, 0.8681, 0.868, 0.8674, 0.8655, 0.8644, 0.8598, 0.859, 0.8588, 0.8574, 0.8538, 0.8542, 0.8549, 0.8078, 0.7995, 0.7937, 0.8424, 0.7684, 0.7775, 0.7642, 0.766, 0.7538, 0.7698, 0.7495, 0.7441, 0.7235, 0.734, 0.7037, 0.7134, 0.7194, 0.7262, 0.7174, 0.6934, 0.7373, 0.7068, -1.8738, -0.9679, 0.1601, 0.388, -1.3437, -1.5417, -0.5768, -1.5845, -0.2301, -1.4417, -1.5352, -1.3104, 0.0998, -1.0437, -0.1332, -1.4386, -1.499, -0.0586, -1.302, -0.1389, 0.092, -0.9712, -1.5326, -1.4544, -0.5943, -1.9406, -1.4152, -0.7016, -1.3906, -1.3247, -1.7589, -1.1073, -0.8241, -0.9245, -2.1041, -2.0083, -0.9361, -1.1418, -1.7017, 0.9781, 0.9686, 0.9353, 0.9128, 0.9015, 0.8986, 0.894, 0.8916, 0.8877, 0.886, 0.8832, 0.8826, 0.88, 0.8799, 0.8779, 0.8773, 0.8732, 0.8731, 0.8723, 0.8722, 0.8699, 0.8671, 0.8628, 0.8606, 0.8589, 0.8577, 0.8575, 0.8571, 0.8533, 0.8512, 0.8501, 0.7736, 0.7723, 0.7827, 0.7735, 0.7616, 0.7452, 0.761, 0.723, 0.7358, 0.7423, 0.7293, 0.7156, 0.7361, 0.7059, 0.7041, 0.7393, 0.7082, -1.4608, 0.3822, -1.9292, -1.1258, -1.4813, -0.6716, 0.3514, -1.3837, -0.7786, -1.4515, -1.5628, -0.6441, -1.3854, -1.677, -0.3863, -1.568, -0.1358, -1.4691, -0.468, -0.8899, -1.3466, -0.7995, -2.0145, -0.6157, -0.6047, -0.6667, -1.0672, -1.2712, -1.0613, -1.3943, -1.7016, -1.2508, -1.4544, -1.2989, -1.0495, -1.1013], \"logprob\": [30.0, 29.0, 28.0, 27.0, 26.0, 25.0, 24.0, 23.0, 22.0, 21.0, 20.0, 19.0, 18.0, 17.0, 16.0, 15.0, 14.0, 13.0, 12.0, 11.0, 10.0, 9.0, 8.0, 7.0, 6.0, 5.0, 4.0, 3.0, 2.0, 1.0, -5.2397, -5.0931, -5.0866, -4.9579, -5.4777, -5.1869, -5.918, -5.6871, -5.9128, -5.824, -5.7525, -5.6863, -6.0671, -5.8209, -5.8289, -5.9035, -6.0904, -6.093, -6.1785, -6.1759, -6.2036, -6.1905, -6.3182, -5.9907, -6.1778, -6.2006, -6.1907, -6.1845, -6.2916, -6.1972, -6.1815, -5.3709, -4.8866, -5.5012, -4.4958, -5.5754, -5.3562, -5.0369, -5.6882, -5.6858, -5.321, -5.3728, -5.835, -5.5719, -5.5262, -5.5783, -5.6784, -5.6922, -5.5646, -5.7897, -5.6393, -5.7624, -5.0169, -5.4497, -5.5937, -5.586, -5.5855, -5.9522, -5.9661, -5.9574, -5.9515, -5.9519, -6.2097, -6.2231, -6.197, -6.2037, -5.0965, -6.2198, -6.2158, -6.2128, -6.2156, -6.5368, -6.5405, -6.5292, -6.5395, -6.5337, -6.5274, -6.5642, -6.54, -6.5727, -6.524, -6.5456, -5.4267, -4.5848, -5.7477, -5.3186, -5.7504, -5.7565, -5.3103, -5.5794, -5.4463, -5.4486, -5.9535, -4.9214, -4.9338, -4.7124, -5.3057, -5.9513, -5.59, -5.5923, -5.9396, -5.5804, -5.5715, -5.7514, -5.5755, -5.5568, -5.5604, -5.7426, -5.5651, -5.3926, -5.7182, -5.7461, -7.3724, -7.3578, -7.3737, -7.3801, -7.4233, -7.4283, -7.3911, -7.4142, -7.4288, -7.4214, -7.4292, -7.4368, -7.4489, -7.4493, -7.4428, -7.4656, -7.4498, -7.4247, -7.4582, -7.4567, -7.4366, -7.4533, -7.4253, -7.484, -7.4628, -7.468, -7.4758, -7.5081, -7.4667, -7.4806, -7.474, -7.4708, -7.4517, -7.4466, -7.3197, -7.3343, -7.3335, -7.3443, -7.3222, -7.3556, -7.3417, -7.3561, -7.3497, -7.3557, -7.3628, -7.368, -7.3677, -7.3693, -7.3724, -7.3785, -6.9796, -7.3795, -6.917, -6.8183, -6.7582, -6.963, -7.04, -7.1706, -6.9585, -7.2051, -6.8914, -6.9156, -6.7994, -7.0952, -7.186, -7.049, -7.1025, -7.1268, -7.0261, -6.9456, -7.0748, -7.255, -7.0298, -7.1386, -7.2252, -6.9933, -7.0526, -7.1631, -7.1499, -7.0656, -7.0989, -7.1023, -7.0888, -7.0883, -7.1114, -7.138, -7.1283, -7.149, -7.3005, -7.3969, -7.4079, -7.4192, -7.4017, -7.4432, -7.401, -7.4573, -7.4421, -7.4268, -7.425, -7.458, -7.4348, -7.4327, -7.4575, -7.4579, -7.4566, -7.4458, -7.4562, -7.4728, -7.4629, -7.4548, -7.4668, -7.4685, -7.4506, -7.47, -7.4938, -7.4896, -7.4595, -7.496, -7.4161, -7.45, -7.4629, -7.3045, -7.3022, -7.3298, -7.4287, -7.3243, -7.3425, -7.3433, -7.3512, -7.3488, -7.3647, -7.3493, -7.3635, -7.3507, -7.3592, -7.342, -7.3497, -7.3543, -7.3601, -7.3564, -7.3514, -7.3738, -7.3651, -6.4904, -6.8629, -7.2013, -7.2714, -6.7849, -6.8359, -7.0747, -6.8706, -7.1574, -6.9273, -6.9187, -6.9843, -7.2446, -7.0546, -7.2246, -7.0331, -7.0378, -7.2419, -7.0866, -7.2414, -7.2707, -7.1556, -7.0979, -7.1156, -7.2093, -7.0979, -7.1446, -7.2047, -7.1597, -7.165, -7.14, -7.1806, -7.1986, -7.1959, -7.1356, -7.1603, -7.1985, -7.1934, -7.1978, -7.366, -7.38, -7.3856, -7.4522, -7.4254, -7.423, -7.4135, -7.4378, -7.414, -7.4104, -7.4425, -7.4315, -7.4462, -7.4282, -7.4531, -7.4082, -7.4743, -7.4731, -7.4513, -7.4527, -7.4591, -7.4555, -7.4529, -7.4321, -7.4801, -7.4133, -7.4614, -7.4675, -7.447, -7.4657, -7.4505, -7.3034, -7.3271, -7.3473, -7.3348, -7.3273, -7.3298, -7.359, -7.3509, -7.3637, -7.3699, -7.3617, -7.3551, -7.3722, -7.3661, -7.3694, -7.3851, -7.3747, -6.6181, -7.2693, -6.5458, -6.7997, -6.7675, -7.0508, -7.2979, -6.9224, -7.0524, -6.9372, -6.9463, -7.1231, -7.0167, -6.9711, -7.1853, -6.9996, -7.2276, -7.0636, -7.205, -7.1561, -7.1009, -7.1679, -7.046, -7.2075, -7.2129, -7.2087, -7.1772, -7.1639, -7.1835, -7.1635, -7.1428, -7.1885, -7.1838, -7.1939, -7.1996, -7.2017]}, \"token.table\": {\"Topic\": [2, 1, 1, 2, 1, 2, 1, 2, 1, 2, 2, 1, 2, 1, 2, 2, 1, 1, 1, 2, 1, 1, 2, 1, 2, 2, 1, 1, 2, 2, 2, 2, 1, 2, 1, 2, 2, 1, 1, 1, 2, 2, 2, 1, 2, 1, 2, 1, 2, 1, 2, 1, 2, 2, 1, 1, 1, 2, 2, 1, 2, 1, 1, 2, 1, 1, 1, 1, 1, 2, 1, 2, 2, 1, 2, 1, 2, 1, 2, 2, 1, 1, 2, 1, 1, 1, 2, 1, 1, 2, 2, 2, 1, 2, 1, 2, 1, 2, 2, 2, 2, 2, 2, 1, 1, 2, 1, 1, 1, 1, 2, 1, 2, 1, 1, 1, 1, 1, 2, 1, 2, 1, 2, 1, 2, 2, 1, 2, 2, 1, 2, 2, 2, 1, 2, 1, 2, 1, 1, 1, 2, 2, 1, 1, 2, 2, 2, 2, 1, 2, 1, 1, 1, 2, 2, 1, 1, 1, 2, 1, 1, 2, 1, 1, 1, 2, 2, 1, 2, 1, 1, 2, 2, 2, 2, 2, 2, 1, 1, 1, 2, 2, 2, 1, 2, 2, 2, 2, 1, 2, 2, 2, 1, 1, 2, 1, 2, 1, 2, 2, 2, 1, 1, 1, 2, 1, 2, 1, 1, 1, 2, 1, 1, 1, 2, 1, 2, 2, 1, 1, 2, 1, 1, 2, 1, 1, 2, 1, 2, 1, 2, 1, 1, 2, 2, 1, 2, 2, 1, 1, 2, 1, 2, 1, 2, 1, 1, 2, 2, 2, 1, 1, 2, 1, 2, 2, 2, 1, 1, 2, 2, 2, 2, 1, 2, 1, 2, 1, 1, 2, 1, 2, 1, 2, 2, 1, 1, 1, 2, 2, 1, 2, 1, 2, 2, 2, 1, 2, 2, 1, 2, 2, 1, 1, 2, 1, 2, 1, 2, 2, 1, 2, 1, 1, 2, 1, 1, 2, 2, 1, 1, 2, 1, 2, 2, 2, 1, 1, 1, 2, 2, 2, 2, 1, 2, 2, 1, 1, 1, 2, 1, 1, 2, 1, 2, 1, 2], \"Freq\": [0.8681641512430287, 0.9720577182488278, 0.9728839871699234, 0.8602444914698495, 0.7111451028058237, 0.8751018687054439, 0.9531767345810509, 0.07332128727546545, 0.2477991501773161, 0.7433974505319483, 0.8758923516350714, 0.9588754229388349, 0.879991626648833, 0.9327516787747708, 0.8877944916657344, 0.5985194353686059, 0.7083574289199933, 0.9689363117903423, 0.7380008666629294, 0.24600028888764314, 0.9601451766842309, 0.7021097108807607, 0.895854565023223, 0.8102602136764393, 0.13504336894607322, 0.5930593213135308, 0.9698416617557694, 0.9195389974401292, 0.06130259982934195, 0.9427062680777453, 0.7379734396339577, 0.8691660445031927, 0.8519015211531517, 0.1217002173075931, 0.7041513292666943, 0.9007525133643661, 0.9380403816865042, 0.9885225723396156, 0.7197663366793198, 0.6036464638585229, 0.37147474698986027, 0.7796393368951025, 0.8782118669449662, 0.9946674822024519, 0.8835471511907506, 0.442653496054967, 0.5902046614066226, 0.9257265586396148, 0.10285850651551276, 0.9568686823900822, 0.8703582184591919, 0.7102911396832594, 0.6173850874462633, 0.8813075476916887, 0.9831626400056883, 0.7077363097304764, 0.6830726946590282, 0.9052221318430976, 0.8517440215077697, 0.34292859644016543, 0.6172714735922977, 0.9766953133111627, 0.8582544926486646, 0.12260778466409494, 0.8951220606901332, 0.7230227452570405, 0.7082972181555002, 1.0179569384742362, 0.8073427899942626, 0.20183569749856564, 0.1921526845991108, 0.7686107383964432, 0.8733581671623681, 0.929336688422135, 0.07744472403517792, 0.6653209341953711, 0.6042523239294428, 0.4076910307289037, 0.5435880409718716, 0.8778014974116805, 0.7043280706424094, 0.958688010351609, 0.9030304294728754, 1.01551956482529, 0.9855565090009532, 0.8601964865644312, 0.11469286487525748, 0.6944021834555215, 0.7166329855981068, 0.8775822652487183, 0.9110691344101652, 0.8893050928854386, 1.0082362458458343, 0.5977427976571298, 0.7192404192417801, 0.8677411228472448, 0.7270873352413831, 0.5964948936376759, 0.8325079733035058, 0.861612838200323, 0.8849780706629211, 0.8995841961982968, 0.8714866544244366, 0.694631332726102, 0.8877673580000158, 0.13657959353846397, 0.8987430711181388, 1.0363101638460712, 1.0503758644135908, 0.8696490615563343, 0.08696490615563342, 0.6954282881043312, 0.2318094293681104, 0.9907133571861972, 0.7036485217957207, 0.6976709570336928, 1.0248095437527236, 0.6206071572166936, 0.3103035786083468, 0.5112009279885501, 0.3834006959914126, 0.8781543091925494, 0.13510066295269993, 0.713140010129891, 0.8721457927479048, 0.8795942374866296, 0.4425553986673321, 0.5900738648897762, 0.8925026273073161, 0.681275744135741, 0.8981330904623851, 0.8702125067113776, 0.8582475761400704, 0.9177461278334985, 0.8810041747738733, 0.7649680751210357, 0.19124201878025893, 1.0098666859941017, 0.6851409839260686, 0.7267095039458104, 0.2180128511837431, 0.8831081269019951, 0.9384929457340099, 0.9761976291631633, 0.054233201620175746, 0.8330806347686184, 0.8832334577752392, 0.8879956709969584, 0.7208508524094399, 0.8942947281127034, 0.6829726822162653, 1.0068629397326008, 0.9348954239719925, 0.11686192799649907, 0.7366650780756708, 0.9959127606601221, 0.9839071854676162, 0.2731197114821739, 0.5462394229643478, 0.9511358556046577, 0.5547976835168614, 0.41609826263764604, 0.7020624731663668, 1.0006849782976988, 0.8806493478328812, 0.14677489130548022, 0.8832444212608316, 0.9073042511401038, 0.22682606278502596, 0.6769968465852677, 0.44733678227931245, 0.44733678227931245, 0.8657328159337716, 0.8920776892985004, 0.9034272340153141, 0.9156249763144143, 0.8802865488906303, 0.7111013721623275, 0.9830223852399578, 0.7146564896150295, 0.8760547890323783, 0.8738632012394273, 0.605050763458508, 0.7076908051272286, 0.8785152249989981, 0.9035938936586824, 0.7288584542479748, 0.864952333670571, 0.9187354054049157, 0.06562395752892256, 0.8644482013320584, 0.8594612071961601, 0.684104330165932, 0.6105358115027614, 0.457901858627071, 0.2791325998454861, 0.5582651996909722, 0.8425899065409861, 0.28086330218032873, 0.8964674053285531, 0.8456551794907652, 0.6842664103383875, 0.6973974528134508, 1.0252092910920165, 0.8853174899483531, 0.3070621588343678, 0.6141243176687357, 0.7097783538013765, 0.6864669897049329, 0.9354000881308983, 0.05196667156282768, 0.6961541253951912, 0.7094062809103643, 0.8995305570109067, 0.09994783966787853, 0.7125873751138733, 0.2850349500455493, 0.8851911141315246, 0.8971499469149656, 0.9257526206001812, 0.09744764427370328, 0.9882393812859872, 0.370162687795459, 0.5552440316931885, 0.6928715298295643, 0.5690570192602596, 0.42679276444519476, 0.920975848211128, 0.11051710178533536, 0.8328511985012237, 0.11897874264303196, 0.9042256230599822, 0.6984519387454065, 0.7879858602339315, 0.8335118308173277, 0.6735070014439358, 0.3367535007219679, 0.8985170665075003, 0.7077541066432914, 0.7238601126853368, 0.6025831634733392, 0.6646758465650342, 0.717268891526474, 0.888089415735373, 0.09867660174837478, 0.9966344294090335, 0.7191453014290732, 0.8767193607299444, 0.8891961071887947, 0.8868231343108702, 1.0054321237282036, 0.874791096667774, 0.09719901074086378, 0.9259407373263334, 0.08417643066603031, 0.9084763788372069, 0.7459559445486574, 0.6821733880471327, 0.8330743741696744, 0.1851276387043721, 0.8596014644948798, 0.6146050323881522, 0.8965963023831007, 0.7091844112179901, 0.9031336610547079, 0.7015927507303709, 0.5867406368365328, 0.8697201573926363, 0.621498792186227, 0.37289927531173617, 0.9545950780296124, 0.8718123727798401, 0.24553501195016209, 0.7366050358504863, 0.890308981791352, 0.9999495790225743, 0.7042627648842055, 0.6845711248217825, 0.8790986814054549, 0.8584480029518484, 0.9510455461504426, 0.8945094783242781, 0.7236188613337491, 0.8743943102261943, 0.8806776505856486, 0.9050334585997453, 0.6843069744554225, 0.8009440452483692, 0.8782755539796169, 0.6843689771081726, 0.8997291893479687, 0.8796945160958933, 0.707064385654911, 0.9058364066774556, 0.08627013396928149, 0.5703497525008729, 0.4277623143756547, 0.24691117419680622, 0.7407335225904187, 0.8883830773979964, 0.9495084478499369, 0.07303911137307208, 0.948234436972691, 0.9933495637250191, 0.8651252070224856, 0.7029802675756639, 0.5524126116653902, 0.48336103520721646, 0.8611440309276663, 0.6905560886170827, 0.14790733117550492, 0.7395366558775246, 0.28255893268964366, 0.5651178653792873, 0.8549110140770366, 0.9212828956260397, 0.9842908464121122, 0.7130932866823055, 0.8434180470770566, 0.28113934902568555, 0.8883024335687122, 0.8725759362331234, 0.5988054719330603, 0.8353533815869335, 0.1670706763173867, 0.8793382350544973, 0.9822861479683244, 0.9625500345968551, 0.6702404759137897, 0.4021442855482738, 0.9898430256260378, 0.9057271973662957, 0.09057271973662957, 0.9470130647718491, 0.06531124584633442, 0.5277126144880597, 0.5277126144880597], \"Term\": [\"activity\", \"adc\", \"administration\", \"affect\", \"amicable\", \"apply\", \"ask\", \"ask\", \"assembly\", \"assembly\", \"assign\", \"atlanta\", \"atty\", \"authority\", \"awareness\", \"basis\", \"basketball\", \"bill\", \"blue\", \"blue\", \"bond\", \"book\", \"bourcier\", \"candidate\", \"candidate\", \"canvasser\", \"care\", \"case\", \"case\", \"cd\", \"central\", \"centralize\", \"chairman\", \"chairman\", \"chamber\", \"chance\", \"charter\", \"child\", \"circulation\", \"city\", \"city\", \"civil\", \"club\", \"college\", \"colonial\", \"come\", \"come\", \"committee\", \"committee\", \"communist\", \"compete\", \"complain\", \"complete\", \"confess\", \"congress\", \"congressman\", \"consultation\", \"contend\", \"copy\", \"council\", \"council\", \"county\", \"court\", \"court\", \"cox\", \"critic\", \"cruelty\", \"dalla\", \"day\", \"day\", \"defense\", \"defense\", \"defray\", \"department\", \"department\", \"determination\", \"develop\", \"director\", \"director\", \"disposition\", \"distribution\", \"dollar\", \"drive\", \"education\", \"effort\", \"election\", \"election\", \"emphasize\", \"employe\", \"enemy\", \"enforcement\", \"engage\", \"enter\", \"enterprise\", \"enthusiasm\", \"examine\", \"experienced\", \"express\", \"eye\", \"factory\", \"fail\", \"fall\", \"false\", \"favorable\", \"federal\", \"federal\", \"feel\", \"fight\", \"friday\", \"fund\", \"fund\", \"general\", \"general\", \"georgia\", \"globe\", \"gop\", \"gov\", \"government\", \"government\", \"governor\", \"governor\", \"grant\", \"grant\", \"griffin\", \"grocery\", \"groom\", \"group\", \"group\", \"guilty\", \"gun\", \"hand\", \"happen\", \"hawksley\", \"health\", \"hesitate\", \"high\", \"high\", \"highway\", \"history\", \"home\", \"home\", \"hope\", \"hospital\", \"house\", \"house\", \"industrial\", \"inspire\", \"insurgent\", \"intern\", \"interval\", \"investigate\", \"irregularity\", \"issue\", \"issue\", \"johnston\", \"judge\", \"jury\", \"know\", \"know\", \"laos\", \"law\", \"law\", \"lawrence\", \"legislator\", \"legislature\", \"legislature\", \"liberal\", \"list\", \"list\", \"listen\", \"local\", \"local\", \"luncheon\", \"machinist\", \"manufacturer\", \"martinelli\", \"matching\", \"math\", \"medical\", \"mental\", \"merchandise\", \"michael\", \"minor\", \"miscellaneous\", \"model\", \"motorist\", \"movement\", \"municipal\", \"new\", \"new\", \"non\", \"notte\", \"o.\", \"obtain\", \"obtain\", \"offense\", \"offense\", \"office\", \"office\", \"ordinance\", \"original\", \"outgoing\", \"outmode\", \"parkhouse\", \"partisan\", \"party\", \"party\", \"past\", \"patrolman\", \"pay\", \"pay\", \"penalty\", \"pension\", \"person\", \"person\", \"petition\", \"petition\", \"philosophy\", \"pipeline\", \"plan\", \"plan\", \"policy\", \"possible\", \"possible\", \"precedent\", \"present\", \"present\", \"president\", \"president\", \"program\", \"program\", \"promise\", \"proportionate\", \"providence\", \"provision\", \"public\", \"public\", \"pull\", \"rally\", \"range\", \"raymond\", \"realization\", \"reama\", \"receive\", \"receive\", \"recommend\", \"reconsideration\", \"regroup\", \"release\", \"religious\", \"rep\", \"report\", \"report\", \"republican\", \"republican\", \"rescue\", \"resident\", \"residential\", \"resolution\", \"resolution\", \"resource\", \"responsibility\", \"retain\", \"revise\", \"rhode\", \"richard\", \"riverside\", \"road\", \"rule\", \"rule\", \"rural\", \"sabbath\", \"sale\", \"sale\", \"sanitary\", \"school\", \"score\", \"seato\", \"seekonk\", \"sell\", \"senate\", \"shirk\", \"shoot\", \"shop\", \"siren\", \"sixth\", \"smell\", \"socialist\", \"spearhead\", \"specify\", \"squeeze\", \"sr\", \"stake\", \"state\", \"state\", \"study\", \"study\", \"sunday\", \"sunday\", \"surprised\", \"tax\", \"tax\", \"teacher\", \"texas\", \"theater\", \"tie\", \"time\", \"time\", \"timetable\", \"tom\", \"town\", \"town\", \"track\", \"track\", \"transfer\", \"truck\", \"united\", \"unmeritorious\", \"urge\", \"urge\", \"variety\", \"vehicle\", \"vital\", \"vote\", \"vote\", \"wage\", \"ward\", \"water\", \"week\", \"week\", \"wife\", \"work\", \"work\", \"year\", \"year\", \"yesterday\", \"yesterday\"]}, \"R\": 30, \"lambda.step\": 0.01, \"plot.opts\": {\"xlab\": \"PC1\", \"ylab\": \"PC2\"}, \"topic.order\": [2, 5, 4, 1, 3]};\n",
       "\n",
       "function LDAvis_load_lib(url, callback){\n",
       "  var s = document.createElement('script');\n",
       "  s.src = url;\n",
       "  s.async = true;\n",
       "  s.onreadystatechange = s.onload = callback;\n",
       "  s.onerror = function(){console.warn(\"failed to load library \" + url);};\n",
       "  document.getElementsByTagName(\"head\")[0].appendChild(s);\n",
       "}\n",
       "\n",
       "if(typeof(LDAvis) !== \"undefined\"){\n",
       "   // already loaded: just create the visualization\n",
       "   !function(LDAvis){\n",
       "       new LDAvis(\"#\" + \"ldavis_el69911405919410694649456885685\", ldavis_el69911405919410694649456885685_data);\n",
       "   }(LDAvis);\n",
       "}else if(typeof define === \"function\" && define.amd){\n",
       "   // require.js is available: use it to load d3/LDAvis\n",
       "   require.config({paths: {d3: \"https://cdnjs.cloudflare.com/ajax/libs/d3/3.5.5/d3.min\"}});\n",
       "   require([\"d3\"], function(d3){\n",
       "      window.d3 = d3;\n",
       "      LDAvis_load_lib(\"https://cdn.rawgit.com/bmabey/pyLDAvis/files/ldavis.v1.0.0.js\", function(){\n",
       "        new LDAvis(\"#\" + \"ldavis_el69911405919410694649456885685\", ldavis_el69911405919410694649456885685_data);\n",
       "      });\n",
       "    });\n",
       "}else{\n",
       "    // require.js not available: dynamically load d3 & LDAvis\n",
       "    LDAvis_load_lib(\"https://cdnjs.cloudflare.com/ajax/libs/d3/3.5.5/d3.min.js\", function(){\n",
       "         LDAvis_load_lib(\"https://cdn.rawgit.com/bmabey/pyLDAvis/files/ldavis.v1.0.0.js\", function(){\n",
       "                 new LDAvis(\"#\" + \"ldavis_el69911405919410694649456885685\", ldavis_el69911405919410694649456885685_data);\n",
       "            })\n",
       "         });\n",
       "}\n",
       "</script>"
      ],
      "text/plain": [
       "PreparedData(topic_coordinates=            Freq  cluster  topics         x         y\n",
       "topic                                                \n",
       "1      80.809834        1       1 -0.064206  0.027448\n",
       "4      19.125946        1       2  0.074166  0.021543\n",
       "3       0.021409        1       3 -0.002587 -0.014804\n",
       "0       0.021406        1       4 -0.003226 -0.016861\n",
       "2       0.021406        1       5 -0.004147 -0.017325, topic_info=     Category       Freq            Term      Total  loglift  logprob\n",
       "term                                                                 \n",
       "1499  Default  46.000000           state  46.000000  30.0000  30.0000\n",
       "382   Default  23.000000          county  23.000000  29.0000  29.0000\n",
       "1396  Default  27.000000          school  27.000000  28.0000  28.0000\n",
       "180   Default  23.000000            bill  23.000000  27.0000  27.0000\n",
       "863   Default  20.000000            jury  20.000000  26.0000  26.0000\n",
       "1580  Default  16.000000           texas  16.000000  25.0000  25.0000\n",
       "780   Default  18.000000           house  18.000000  24.0000  24.0000\n",
       "1729  Default  30.000000            year  30.000000  23.0000  23.0000\n",
       "40    Default  21.000000  administration  21.000000  22.0000  22.0000\n",
       "267   Default  21.000000            city  21.000000  21.0000  21.0000\n",
       "300   Default  19.000000       committee  19.000000  20.0000  20.0000\n",
       "537   Default  17.000000        election  17.000000  19.0000  19.0000\n",
       "445   Default  12.000000      department  12.000000  18.0000  18.0000\n",
       "191   Default  10.000000            bond  10.000000  17.0000  17.0000\n",
       "1147  Default  20.000000            plan  20.000000  16.0000  16.0000\n",
       "1035  Default  15.000000             new  15.000000  15.0000  15.0000\n",
       "1114  Default  19.000000             pay  19.000000  14.0000  14.0000\n",
       "1189  Default  27.000000       president  27.000000  13.0000  13.0000\n",
       "1415  Default  10.000000          senate  10.000000  12.0000  12.0000\n",
       "115   Default  13.000000             ask  13.000000  11.0000  11.0000\n",
       "1155  Default  13.000000          policy  13.000000  10.0000  10.0000\n",
       "385   Default  16.000000           court  16.000000   9.0000   9.0000\n",
       "1219  Default  16.000000         program  16.000000   8.0000   8.0000\n",
       "1685  Default  17.000000            vote  17.000000   7.0000   7.0000\n",
       "231   Default  12.000000            care  12.000000   6.0000   6.0000\n",
       "1320  Default  11.000000      republican  11.000000   5.0000   5.0000\n",
       "411   Default   8.000000           dalla   8.000000   4.0000   4.0000\n",
       "377   Default  14.000000         council  14.000000   3.0000   3.0000\n",
       "687   Default  11.000000            fund  11.000000   2.0000   2.0000\n",
       "301   Default  11.000000       communist  11.000000   1.0000   1.0000\n",
       "...       ...        ...             ...        ...      ...      ...\n",
       "389    Topic5   0.000680             cox   2.234332   0.3514  -7.2979\n",
       "780    Topic5   0.000989           house  18.438889  -1.3837  -6.9224\n",
       "411    Topic5   0.000869           dalla   8.841238  -0.7786  -7.0524\n",
       "300    Topic5   0.000975       committee  19.444187  -1.4515  -6.9372\n",
       "267    Topic5   0.000966            city  21.535784  -1.5628  -6.9463\n",
       "33     Topic5   0.000809             adc   7.201218  -0.6441  -7.1231\n",
       "1219   Topic5   0.000900         program  16.809725  -1.3854  -7.0167\n",
       "382    Topic5   0.000942          county  23.548797  -1.6770  -6.9711\n",
       "762    Topic5   0.000761            high   5.228976  -0.3863  -7.1853\n",
       "1147   Topic5   0.000916            plan  20.523841  -1.5680  -6.9996\n",
       "1103   Topic5   0.000729       parkhouse   3.901642  -0.1358  -7.2276\n",
       "537    Topic5   0.000859        election  17.437876  -1.4691  -7.0636\n",
       "640    Topic5   0.000746            feel   5.563325  -0.4680  -7.2050\n",
       "1236   Topic5   0.000783          public   8.908593  -0.8899  -7.1561\n",
       "417    Topic5   0.000828             day  14.863575  -1.3466  -7.1009\n",
       "288    Topic5   0.000774         college   8.042889  -0.7995  -7.1679\n",
       "1729   Topic5   0.000874            year  30.622598  -2.0145  -7.0460\n",
       "142    Topic5   0.000744       authority   6.432580  -0.6157  -7.2075\n",
       "1562   Topic5   0.000740         teacher   6.327549  -0.6047  -7.2129\n",
       "1608   Topic5   0.000743            town   6.760990  -0.6667  -7.2087\n",
       "191    Topic5   0.000767            bond  10.415092  -1.0672  -7.1772\n",
       "698    Topic5   0.000777         general  12.941665  -1.2712  -7.1639\n",
       "1316   Topic5   0.000762          report  10.288171  -1.0613  -7.1835\n",
       "637    Topic5   0.000777         federal  14.643476  -1.3943  -7.1635\n",
       "863    Topic5   0.000794            jury  20.327121  -1.7016  -7.1428\n",
       "231    Topic5   0.000758            care  12.373154  -1.2508  -7.1885\n",
       "1035   Topic5   0.000762             new  15.238337  -1.4544  -7.1838\n",
       "445    Topic5   0.000754      department  12.912435  -1.2989  -7.1939\n",
       "1128   Topic5   0.000750          person  10.005219  -1.0495  -7.1996\n",
       "1415   Topic5   0.000748          senate  10.514744  -1.1013  -7.2017\n",
       "\n",
       "[408 rows x 6 columns], token_table=      Topic      Freq            Term\n",
       "term                                 \n",
       "31        2  0.868164        activity\n",
       "33        1  0.972058             adc\n",
       "40        1  0.972884  administration\n",
       "53        2  0.860244          affect\n",
       "85        1  0.711145        amicable\n",
       "96        2  0.875102           apply\n",
       "115       1  0.953177             ask\n",
       "115       2  0.073321             ask\n",
       "119       1  0.247799        assembly\n",
       "119       2  0.743397        assembly\n",
       "121       2  0.875892          assign\n",
       "129       1  0.958875         atlanta\n",
       "139       2  0.879992            atty\n",
       "142       1  0.932752       authority\n",
       "149       2  0.887794       awareness\n",
       "162       2  0.598519           basis\n",
       "163       1  0.708357      basketball\n",
       "180       1  0.968936            bill\n",
       "187       1  0.738001            blue\n",
       "187       2  0.246000            blue\n",
       "191       1  0.960145            bond\n",
       "192       1  0.702110            book\n",
       "196       2  0.895855        bourcier\n",
       "222       1  0.810260       candidate\n",
       "222       2  0.135043       candidate\n",
       "224       2  0.593059       canvasser\n",
       "231       1  0.969842            care\n",
       "235       1  0.919539            case\n",
       "235       2  0.061303            case\n",
       "238       2  0.942706              cd\n",
       "...     ...       ...             ...\n",
       "1592      2  0.483361            time\n",
       "1594      2  0.861144       timetable\n",
       "1598      1  0.690556             tom\n",
       "1608      1  0.147907            town\n",
       "1608      2  0.739537            town\n",
       "1609      1  0.282559           track\n",
       "1609      2  0.565118           track\n",
       "1614      2  0.854911        transfer\n",
       "1623      2  0.921283           truck\n",
       "1646      1  0.984291          united\n",
       "1649      1  0.713093   unmeritorious\n",
       "1653      1  0.843418            urge\n",
       "1653      2  0.281139            urge\n",
       "1663      2  0.888302         variety\n",
       "1664      2  0.872576         vehicle\n",
       "1679      2  0.598805           vital\n",
       "1685      1  0.835353            vote\n",
       "1685      2  0.167071            vote\n",
       "1688      2  0.879338            wage\n",
       "1693      1  0.982286            ward\n",
       "1697      1  0.962550           water\n",
       "1701      1  0.670240            week\n",
       "1701      2  0.402144            week\n",
       "1712      1  0.989843            wife\n",
       "1723      1  0.905727            work\n",
       "1723      2  0.090573            work\n",
       "1729      1  0.947013            year\n",
       "1729      2  0.065311            year\n",
       "1730      1  0.527713       yesterday\n",
       "1730      2  0.527713       yesterday\n",
       "\n",
       "[337 rows x 3 columns], R=30, lambda_step=0.01, plot_opts={'xlab': 'PC1', 'ylab': 'PC2'}, topic_order=[2, 5, 4, 1, 3])"
      ]
     },
     "execution_count": 41,
     "metadata": {},
     "output_type": "execute_result"
    }
   ],
   "source": [
    "pyLDAvis.sklearn.prepare(top.model, data_vectorized, top.vectorizer)"
   ]
  },
  {
   "cell_type": "code",
   "execution_count": 46,
   "metadata": {},
   "outputs": [
    {
     "name": "stdout",
     "output_type": "stream",
     "text": [
      "CUSTOM Model:\n",
      "Topic 0:\n",
      "[('possible', '0.33'), ('making', '0.33'), ('appointment', '0.33'), ('doctor', '0.33'), ('set', '0.33'), ('fee', '0.33'), ('health', '0.33'), ('30', '0.33'), ('m.', '0.33'), ('3', '0.33')]\n",
      "Topic 1:\n",
      "[('would', '26.33'), ('bill', '23.33'), ('texas', '22.33'), ('school', '18.33'), ('said', '14.33'), ('committee', '13.33'), ('state', '13.33'), ('dallas', '13.33'), (\"'s\", '11.33'), ('college', '9.33')]\n",
      "Topic 2:\n",
      "[('said', '24.33'), (\"'s\", '19.33'), ('jury', '19.33'), ('county', '17.33'), ('election', '14.33'), ('fulton', '14.33'), ('department', '12.33'), ('state', '12.33'), ('fund', '10.33'), ('resolution', '9.33')]\n",
      "====================\n"
     ]
    }
   ],
   "source": [
    "\n"
   ]
  },
  {
   "cell_type": "code",
   "execution_count": 3,
   "metadata": {},
   "outputs": [
    {
     "name": "stderr",
     "output_type": "stream",
     "text": [
      "/usr/local/lib/python3.6/dist-packages/sklearn/decomposition/online_lda.py:314: DeprecationWarning: n_topics has been renamed to n_components in version 0.19 and will be removed in 0.21\n",
      "  DeprecationWarning)\n"
     ]
    },
    {
     "name": "stdout",
     "output_type": "stream",
     "text": [
      "(500, 10)\n",
      "(500, 10)\n",
      "(500, 10)\n",
      "[1.05604821e-04 1.05619568e-04 7.32031018e-02 1.05619929e-04\n",
      " 9.11306993e-01 1.05597111e-04 1.05596928e-04 1.47506464e-02\n",
      " 1.05615164e-04 1.05605441e-04]\n",
      "[0.         0.         2.11261181 0.07717298 0.         0.54252031\n",
      " 1.06414853 0.         0.         0.24543907]\n",
      "[ 23.30684178   1.59479827  21.77835437  -0.05017479   0.92209284\n",
      "  11.33680729   3.5469961   -2.81857031   1.53546569 -13.40631154]\n"
     ]
    }
   ],
   "source": [
    "\n",
    " \n",
    "NUM_TOPICS = 10\n",
    " \n",
    "vectorizer = CountVectorizer(min_df=5, max_df=0.9, \n",
    "                             stop_words='english', lowercase=True, \n",
    "                             token_pattern='[a-zA-Z\\-][a-zA-Z\\-]{2,}')\n",
    "data_vectorized = vectorizer.fit_transform(data)\n",
    " \n",
    "# Build a Latent Dirichlet Allocation Model\n",
    "lda_model = LatentDirichletAllocation(n_topics=NUM_TOPICS, max_iter=10, learning_method='online')\n",
    "lda_Z = lda_model.fit_transform(data_vectorized)\n",
    "print(lda_Z.shape)  # (NO_DOCUMENTS, NO_TOPICS)\n",
    " \n",
    "# Build a Non-Negative Matrix Factorization Model\n",
    "nmf_model = NMF(n_components=NUM_TOPICS)\n",
    "nmf_Z = nmf_model.fit_transform(data_vectorized)\n",
    "print(nmf_Z.shape)  # (NO_DOCUMENTS, NO_TOPICS)\n",
    " \n",
    "# Build a Latent Semantic Indexing Model\n",
    "lsi_model = TruncatedSVD(n_components=NUM_TOPICS)\n",
    "lsi_Z = lsi_model.fit_transform(data_vectorized)\n",
    "print(lsi_Z.shape)  # (NO_DOCUMENTS, NO_TOPICS)\n",
    " \n",
    " \n",
    "# Let's see how the first document in the corpus looks like in different topic spaces\n",
    "print(lda_Z[0])\n",
    "print(nmf_Z[0])\n",
    "print(lsi_Z[0])\n",
    " "
   ]
  },
  {
   "cell_type": "code",
   "execution_count": 27,
   "metadata": {},
   "outputs": [
    {
     "name": "stdout",
     "output_type": "stream",
     "text": [
      "CUSTOM Model:\n",
      "Topic 0:\n",
      "[('said', '24.33'), (\"'s\", '19.33'), ('jury', '19.33'), ('county', '17.33'), ('election', '14.33'), ('fulton', '14.33'), ('department', '12.33'), ('state', '12.33'), ('fund', '10.33'), ('resolution', '9.33')]\n",
      "Topic 1:\n",
      "[('possible', '0.33'), ('making', '0.33'), ('appointment', '0.33'), ('doctor', '0.33'), ('set', '0.33'), ('fee', '0.33'), ('health', '0.33'), ('30', '0.33'), ('m.', '0.33'), ('3', '0.33')]\n",
      "Topic 2:\n",
      "[('would', '26.33'), ('bill', '23.33'), ('texas', '22.33'), ('school', '18.33'), ('said', '14.33'), ('committee', '13.33'), ('state', '13.33'), ('dallas', '13.33'), (\"'s\", '11.33'), ('college', '9.33')]\n",
      "====================\n",
      "NMF Model:\n"
     ]
    },
    {
     "ename": "NameError",
     "evalue": "name 'nmf_model' is not defined",
     "output_type": "error",
     "traceback": [
      "\u001b[0;31m---------------------------------------------------------------------------\u001b[0m",
      "\u001b[0;31mNameError\u001b[0m                                 Traceback (most recent call last)",
      "\u001b[0;32m<ipython-input-27-28f8c89eec72>\u001b[0m in \u001b[0;36m<module>\u001b[0;34m\u001b[0m\n\u001b[1;32m     11\u001b[0m \u001b[0;34m\u001b[0m\u001b[0m\n\u001b[1;32m     12\u001b[0m \u001b[0mprint\u001b[0m\u001b[0;34m(\u001b[0m\u001b[0;34m\"NMF Model:\"\u001b[0m\u001b[0;34m)\u001b[0m\u001b[0;34m\u001b[0m\u001b[0;34m\u001b[0m\u001b[0m\n\u001b[0;32m---> 13\u001b[0;31m \u001b[0mprint_topics\u001b[0m\u001b[0;34m(\u001b[0m\u001b[0mnmf_model\u001b[0m\u001b[0;34m,\u001b[0m \u001b[0mvectorizer\u001b[0m\u001b[0;34m)\u001b[0m\u001b[0;34m\u001b[0m\u001b[0;34m\u001b[0m\u001b[0m\n\u001b[0m\u001b[1;32m     14\u001b[0m \u001b[0mprint\u001b[0m\u001b[0;34m(\u001b[0m\u001b[0;34m\"=\"\u001b[0m \u001b[0;34m*\u001b[0m \u001b[0;36m20\u001b[0m\u001b[0;34m)\u001b[0m\u001b[0;34m\u001b[0m\u001b[0;34m\u001b[0m\u001b[0m\n\u001b[1;32m     15\u001b[0m \u001b[0;34m\u001b[0m\u001b[0m\n",
      "\u001b[0;31mNameError\u001b[0m: name 'nmf_model' is not defined"
     ]
    }
   ],
   "source": [
    "\n",
    "def print_topics(model, vectorizer, top_n=10):\n",
    "    for idx, topic in enumerate(model.components_):\n",
    "        print(\"Topic %d:\" % (idx))\n",
    "        print([(vectorizer.get_feature_names()[i], \"{:.2f}\".format(topic[i]))\n",
    "                        for i in topic.argsort()[:-top_n - 1:-1]])\n",
    " \n",
    "print(\"CUSTOM Model:\")\n",
    "print_topics(top.model, top.vectorizer)\n",
    "print(\"=\" * 20)\n",
    " \n",
    "print(\"NMF Model:\")\n",
    "print_topics(nmf_model, vectorizer)\n",
    "print(\"=\" * 20)\n",
    " \n",
    "print(\"LSI Model:\")\n",
    "print_topics(lsi_model, vectorizer)\n",
    "print(\"=\" * 20)\n",
    " "
   ]
  },
  {
   "cell_type": "code",
   "execution_count": null,
   "metadata": {},
   "outputs": [],
   "source": []
  }
 ],
 "metadata": {
  "kernelspec": {
   "display_name": "Python 3",
   "language": "python",
   "name": "python3"
  },
  "language_info": {
   "codemirror_mode": {
    "name": "ipython",
    "version": 3
   },
   "file_extension": ".py",
   "mimetype": "text/x-python",
   "name": "python",
   "nbconvert_exporter": "python",
   "pygments_lexer": "ipython3",
   "version": "3.6.7"
  }
 },
 "nbformat": 4,
 "nbformat_minor": 2
}
